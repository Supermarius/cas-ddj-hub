{
 "cells": [
  {
   "cell_type": "markdown",
   "metadata": {},
   "source": [
    "# Hausaufgaben Einstieg in Python - Lektion 2"
   ]
  },
  {
   "cell_type": "markdown",
   "metadata": {},
   "source": [
    "1.Kreiere eine Liste aus Zahlen, die aus 10 Elementen besteht, und ordne sie der Variabel a zu."
   ]
  },
  {
   "cell_type": "code",
   "execution_count": 1,
   "metadata": {},
   "outputs": [],
   "source": [
    "a = list (range(1,11))"
   ]
  },
  {
   "cell_type": "markdown",
   "metadata": {},
   "source": [
    "2.Mache dasselbe mit einer Liste aus 100 Elementen und ordne sie der Variabel b zu."
   ]
  },
  {
   "cell_type": "code",
   "execution_count": 2,
   "metadata": {},
   "outputs": [],
   "source": [
    "b = list (range(1, 101))"
   ]
  },
  {
   "cell_type": "markdown",
   "metadata": {},
   "source": [
    "3.Füge beiden Listen folgenden String an: 'ich bin keine Zahl'"
   ]
  },
  {
   "cell_type": "code",
   "execution_count": 3,
   "metadata": {},
   "outputs": [],
   "source": [
    "a.append (\"ich bin keine Zahl\")\n",
    "b.append (\"ich bin keine Zahl\")"
   ]
  },
  {
   "cell_type": "markdown",
   "metadata": {},
   "source": [
    "4.Lösche diesen letzten Eintrag in der Liste wieder"
   ]
  },
  {
   "cell_type": "code",
   "execution_count": 4,
   "metadata": {},
   "outputs": [
    {
     "data": {
      "text/plain": [
       "'ich bin keine Zahl'"
      ]
     },
     "execution_count": 4,
     "metadata": {},
     "output_type": "execute_result"
    }
   ],
   "source": [
    "a.pop ()\n",
    "b.pop ()"
   ]
  },
  {
   "cell_type": "markdown",
   "metadata": {},
   "source": [
    "5.Verwandle jede Zahl in den Listen a und b von int in str?"
   ]
  },
  {
   "cell_type": "code",
   "execution_count": null,
   "metadata": {},
   "outputs": [],
   "source": []
  },
  {
   "cell_type": "markdown",
   "metadata": {},
   "source": [
    "6.Von der list b, zeige nur die letzten zehn Nummern an"
   ]
  },
  {
   "cell_type": "code",
   "execution_count": 5,
   "metadata": {},
   "outputs": [
    {
     "data": {
      "text/plain": [
       "[91, 92, 93, 94, 95, 96, 97, 98, 99, 100]"
      ]
     },
     "execution_count": 5,
     "metadata": {},
     "output_type": "execute_result"
    }
   ],
   "source": [
    "b [90:101]"
   ]
  },
  {
   "cell_type": "markdown",
   "metadata": {},
   "source": [
    "7.Von der folgenden Liste, zeige den zweit grössten Wert an"
   ]
  },
  {
   "cell_type": "code",
   "execution_count": 6,
   "metadata": {},
   "outputs": [
    {
     "data": {
      "text/plain": [
       "99"
      ]
     },
     "execution_count": 6,
     "metadata": {},
     "output_type": "execute_result"
    }
   ],
   "source": [
    "b = b [90:101]\n",
    "b.sort ()\n",
    "b [8]"
   ]
  },
  {
   "cell_type": "markdown",
   "metadata": {},
   "source": [
    "8.Multipliziere jede Nummer in dieser Liste, die kleiner ist als 100, mit 100; wenn die Nummern zwischen 100 und 1000 verwandle sie in eine String, und wenn sie grösser oder gleich 1000 ist, lösche sie."
   ]
  },
  {
   "cell_type": "code",
   "execution_count": 7,
   "metadata": {},
   "outputs": [
    {
     "data": {
      "text/plain": [
       "[91, 92, 93, 94, 95, 96, 97, 98, 99, 100]"
      ]
     },
     "execution_count": 7,
     "metadata": {},
     "output_type": "execute_result"
    }
   ],
   "source": [
    "b * 100\n",
    "b"
   ]
  },
  {
   "cell_type": "markdown",
   "metadata": {},
   "source": [
    "9.Schreibe eine Dictionary-Liste der fünf grössten Schweizer Städte, ihrer Bevölkerung und dem jeweiligen Kanton."
   ]
  },
  {
   "cell_type": "code",
   "execution_count": 8,
   "metadata": {},
   "outputs": [],
   "source": [
    "Tabelle = [{\"Stadt\":\"Zürich\", \"Bevölkerung\": 396027}, {\"Stadt\":\"Genf\", \"Bevölkerung\": 194565}, {\"Stadt\":\"Basel\", \"Bevölkerung\": 175131}, {\"Stadt\":\"Bern\", \"Bevölkerung\": 140634}, {\"Stadt\":\"Lausanne\", \"Bevölkerung\": 135629}]"
   ]
  },
  {
   "cell_type": "markdown",
   "metadata": {},
   "source": [
    "10.Zeige nur die Bevölkerung der Stadt Genf an"
   ]
  },
  {
   "cell_type": "code",
   "execution_count": 9,
   "metadata": {},
   "outputs": [
    {
     "data": {
      "text/plain": [
       "194565"
      ]
     },
     "execution_count": 9,
     "metadata": {},
     "output_type": "execute_result"
    }
   ],
   "source": [
    "Tabelle [1][\"Bevölkerung\"]"
   ]
  },
  {
   "cell_type": "markdown",
   "metadata": {},
   "source": [
    "11.Drucke (print) das Total der Bevölkerungen aller Städte aus"
   ]
  },
  {
   "cell_type": "code",
   "execution_count": 10,
   "metadata": {},
   "outputs": [
    {
     "data": {
      "text/plain": [
       "1041986"
      ]
     },
     "execution_count": 10,
     "metadata": {},
     "output_type": "execute_result"
    }
   ],
   "source": [
    "Total=0\n",
    "y=0\n",
    "for x in Tabelle:\n",
    "    Total = Total + Tabelle[y][\"Bevölkerung\"]\n",
    "    y=y+1\n",
    "Total"
   ]
  },
  {
   "cell_type": "markdown",
   "metadata": {},
   "source": [
    "12.Rechne den Anteil der Bevölkerung der jeweiligen Städte an der Gesamtbevölkerung der Schweiz aus und \"print\" die Ergebnisse neben dem Städtenamen"
   ]
  },
  {
   "cell_type": "code",
   "execution_count": 11,
   "metadata": {},
   "outputs": [
    {
     "data": {
      "text/plain": [
       "['Zürich : 4.634861590349003 Prozent',\n",
       " 'Genf : 2.2770716272533282 Prozent',\n",
       " 'Basel : 2.049627790982462 Prozent',\n",
       " 'Bern : 1.6458956709950123 Prozent',\n",
       " 'Lausanne : 1.587320164123772 Prozent']"
      ]
     },
     "execution_count": 11,
     "metadata": {},
     "output_type": "execute_result"
    }
   ],
   "source": [
    "CH = 8544527\n",
    "Endresultat = []\n",
    "x = 0\n",
    "\n",
    "for Stadt in Tabelle:\n",
    "    Anteil = 100/ CH * Tabelle[x][\"Bevölkerung\"]\n",
    "    Resultat = str (Tabelle [x][\"Stadt\"]) + \" : \" + str (Anteil) + \" Prozent\"\n",
    "    Endresultat.append (Resultat)\n",
    "    x = x + 1\n",
    "    \n",
    "Endresultat"
   ]
  },
  {
   "cell_type": "markdown",
   "metadata": {},
   "source": [
    "13.Füge noch die Städte Winterthur und Luzern hinzu"
   ]
  },
  {
   "cell_type": "code",
   "execution_count": 15,
   "metadata": {},
   "outputs": [
    {
     "data": {
      "text/plain": [
       "['Zürich : 4.634861590349003 Prozent',\n",
       " 'Genf : 2.2770716272533282 Prozent',\n",
       " 'Basel : 2.049627790982462 Prozent',\n",
       " 'Bern : 1.6458956709950123 Prozent',\n",
       " 'Lausanne : 1.587320164123772 Prozent',\n",
       " 'Winterthur : 1.28474051284524 Prozent',\n",
       " 'Luzern : 0.954903647679971 Prozent']"
      ]
     },
     "execution_count": 15,
     "metadata": {},
     "output_type": "execute_result"
    }
   ],
   "source": [
    "Tabelle = [{\"Stadt\":\"Zürich\", \"Bevölkerung\": 396027}, {\"Stadt\":\"Genf\", \"Bevölkerung\": 194565}, {\"Stadt\":\"Basel\", \"Bevölkerung\": 175131}, {\"Stadt\":\"Bern\", \"Bevölkerung\": 140634}, {\"Stadt\":\"Lausanne\", \"Bevölkerung\": 135629}]\n",
    "\n",
    "Tabelle.append ({\"Stadt\":\"Winterthur\", \"Bevölkerung\": 109775})\n",
    "Tabelle.append ({\"Stadt\":\"Luzern\", \"Bevölkerung\": 81592})\n",
    "\n",
    "CH = 8544527\n",
    "Endresultat = []\n",
    "x = 0\n",
    "\n",
    "for Stadt in Tabelle:\n",
    "    Anteil = 100 / CH * Tabelle[x][\"Bevölkerung\"]\n",
    "    Resultat = str (Tabelle [x][\"Stadt\"]) + \" : \" + str (Anteil) + \" Prozent\"\n",
    "    Endresultat.append (Resultat)\n",
    "    x = x + 1\n",
    "    \n",
    "Endresultat"
   ]
  },
  {
   "cell_type": "markdown",
   "metadata": {},
   "source": [
    "14.Ergänze die Städte-Dictionary-Liste mit Winterthur und Luzern"
   ]
  },
  {
   "cell_type": "markdown",
   "metadata": {},
   "source": [
    "schon gemacht (siehe Aufgabe 13)"
   ]
  },
  {
   "cell_type": "markdown",
   "metadata": {},
   "source": [
    "15.Wiederhole den loop von oben, um den Anteil der Bevölkerung an der Gesamtbevölkerung auszurechnen, dieses Mal mit Winterthur und Luzern"
   ]
  },
  {
   "cell_type": "markdown",
   "metadata": {},
   "source": [
    "schon gemacht (siehe Aufgabe 13)"
   ]
  },
  {
   "cell_type": "code",
   "execution_count": null,
   "metadata": {},
   "outputs": [],
   "source": []
  }
 ],
 "metadata": {
  "kernelspec": {
   "display_name": "Python 3",
   "language": "python",
   "name": "python3"
  },
  "language_info": {
   "codemirror_mode": {
    "name": "ipython",
    "version": 3
   },
   "file_extension": ".py",
   "mimetype": "text/x-python",
   "name": "python",
   "nbconvert_exporter": "python",
   "pygments_lexer": "ipython3",
   "version": "3.7.3"
  }
 },
 "nbformat": 4,
 "nbformat_minor": 2
}
