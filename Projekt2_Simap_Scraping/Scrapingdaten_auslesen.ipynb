{
 "cells": [
  {
   "cell_type": "code",
   "execution_count": 262,
   "metadata": {},
   "outputs": [],
   "source": [
    "from bs4 import BeautifulSoup\n",
    "import os\n",
    "import pandas as pd\n",
    "import re"
   ]
  },
  {
   "cell_type": "markdown",
   "metadata": {},
   "source": [
    "**Achtung**, weil wir einmal neu einsetzen mussten, müssen wird das Ergebnis noch auf Duplikate prüfen\n",
    "\n",
    "Ansonsten Vorgehen: \n",
    "- mit os fileliste rausziehen\n",
    "- loop bauen mit list comprehension\n",
    "- df bauen"
   ]
  },
  {
   "cell_type": "markdown",
   "metadata": {},
   "source": [
    "# Problem:\n",
    "- Wir haben gemerkt, dass as Zeugs manchmal verrutscht ist. Wir haben versucht, das in der Funktion mit Try und Except in den Griff zu bekommen (indem wir auf andere Zeile zugreifen). Aber das funktioniert nicht. \n",
    "- Entweder (vielversprechender): Wir machen die Definitionen ganz neu, inedem wir direkt mit Regex ins soup.find_all(\"td\")[0] einsteigen, wo alle Infos drin sind.\n",
    "- oder wir versuchen fixe Muster zu finden..."
   ]
  },
  {
   "cell_type": "code",
   "execution_count": 317,
   "metadata": {},
   "outputs": [],
   "source": [
    "allefiles = os.listdir(\"simap1_2019\")"
   ]
  },
  {
   "cell_type": "code",
   "execution_count": 334,
   "metadata": {},
   "outputs": [],
   "source": [
    "file = open(\"simap1_2019/zuschlag768.htm\", \"r\")\n",
    "text = file.read()\n",
    "soup = BeautifulSoup(text, \"html.parser\")"
   ]
  },
  {
   "cell_type": "code",
   "execution_count": 335,
   "metadata": {},
   "outputs": [
    {
     "data": {
      "text/plain": [
       "<html xmlns=\"http://www.w3.org/1999/xhtml\"><head>\n",
       "<title>simap.ch - Einzelmeldungen</title>\n",
       "<meta content=\"kps\" name=\"author\"/>\n",
       "<meta content=\"SIMAP\" name=\"copyright\"/>\n",
       "<meta content=\"de\" http-equiv=\"Content-Language\"/>\n",
       "<meta content=\"no\" http-equiv=\"imagetoolbar\"/>\n",
       "<meta content=\"0\" http-equiv=\"Expires\"/>\n",
       "<meta content=\"NO-CACHE\" http-equiv=\"CACHE-CONTROL\"/>\n",
       "<meta content=\"NO-CACHE\" http-equiv=\"PRAGMA\"/>\n",
       "<meta content=\"INDEX,FOLLOW\" name=\"robots\"/>\n",
       "<meta content=\"SIMAP\" name=\"keywords\"/>\n",
       "<meta content=\"Suchergebnis Detailansicht\" name=\"description\"/>\n",
       "<meta content=\"IE=7\" http-equiv=\"X-UA-Compatible\"/>\n",
       "<script src=\"/shabforms/COMMON/application/func/fontsize.js\" type=\"text/javascript\"></script>\n",
       "<script src=\"/shabforms/COMMON/application/func/fokusfields.js\" type=\"text/javascript\"></script>\n",
       "<script src=\"/shabforms/COMMON/application/func/mm_formhelp.js\" type=\"text/javascript\"></script>\n",
       "<script src=\"/shabforms/COMMON/application/func/scripts.js\" type=\"text/javascript\"></script>\n",
       "<script src=\"/shabforms/COMMON/application/func/calendar.js\" type=\"text/javascript\"></script>\n",
       "<script src=\"/shabforms/COMMON/application/func/calendar-acms.js.jsp\" type=\"text/javascript\"></script>\n",
       "<script src=\"/shabforms/COMMON/application/func/calendar-setup.js\" type=\"text/javascript\"></script>\n",
       "<script src=\"/shabforms/COMMON/application/func/subrubriken.js\" type=\"text/javascript\"></script>\n",
       "<script src=\"/shabforms/COMMON/application/func/mainnav.js\" type=\"text/javascript\"></script>\n",
       "<script src=\"/shabforms/COMMON/application/func/flyout_txt.js\" type=\"text/javascript\"></script>\n",
       "<script src=\"/shabforms/COMMON/application/func/selectlayer.js\" type=\"text/javascript\"></script>\n",
       "<script src=\"/shabforms/COMMON/application/func/formPortal/formportal.js\" type=\"text/javascript\"></script>\n",
       "<script src=\"/shabforms/COMMON/application/func/formPortal/fillform.js\" type=\"text/javascript\"></script>\n",
       "<script src=\"/shabforms/COMMON/application/func/InformationAgent.js\" type=\"text/javascript\"></script>\n",
       "<link href=\"/shabforms/COMMON/application/css/import_list.css\" rel=\"stylesheet\" type=\"text/css\"/>\n",
       "<link href=\"/shabforms/COMMON/application/css/screen/content.css\" rel=\"stylesheet\" type=\"text/css\"/>\n",
       "<link href=\"/shabforms/COMMON/application/css/screen/forms.css\" rel=\"stylesheet\" type=\"text/css\"/>\n",
       "<!--[if gte IE 8]>\n",
       "<link href=\"/shabforms/COMMON/application/css/screen/select.css\" rel=\"stylesheet\" type=\"text/css\" />\n",
       " <![endif]-->\n",
       "<!--[if lte IE 7]>\n",
       "<link href=\"/shabforms/COMMON/application/css/my_patches/iehacks.css\" rel=\"stylesheet\" type=\"text/css\" />\n",
       "<link href=\"/shabforms/COMMON/application/css/my_patches/patch_nav_vlist.css\" rel=\"stylesheet\" type=\"text/css\" />\n",
       "<link href=\"/shabforms/COMMON/application/css/my_patches/patch_vertical_listnav.css\" rel=\"stylesheet\" type=\"text/css\" />\n",
       "<![endif]-->\n",
       "<link href=\"/shabforms/COMMON/application/css/adaption.css\" rel=\"stylesheet\" type=\"text/css\"/>\n",
       "</head>\n",
       "<body>\n",
       "<!-- start: mainGrid -->\n",
       "<div id=\"page_margins\">\n",
       "<div id=\"page\">\n",
       "<!-- start: head  -->\n",
       "<div id=\"simap_header\">\n",
       "<!-- start: Top-navigation -->\n",
       "<div id=\"topnav\">\n",
       "<div class=\"flLeft\"><a href=\"/shabforms/COMMON/application/applicationGrid.jsp?template=2&amp;view=1&amp;page=/MULTILANGUAGE/simap/content/start.jsp\">Startseite</a><span class=\"vertline\">|</span> <a href=\"/shabforms/COMMON/simap/content/overview.jsf\">Übersicht</a><span class=\"vertline\">|</span> <a href=\"/shabforms/servlet/Access?go=ADMIN_MAIN_SIMAP\">Administration</a><span class=\"vertline\">|</span> <a href=\"/shabforms/COMMON/simap/content/informationAboutSimap.jsf\">Informationen Verein simap.ch</a>    </div><div id=\"langSelect\">\n",
       "<span class=\"current\">Deutsch</span><span class=\"vertline\">|</span><a href=\"/shabforms/servlet/Access?EID=5&amp;newLanguage=FR\">Français</a><br/><a href=\"/shabforms/servlet/Access?EID=5&amp;newLanguage=IT\">Italiano</a><span class=\"vertline\">|</span><a href=\"/shabforms/servlet/Access?EID=5&amp;newLanguage=EN\">English</a></div>\n",
       "</div>\n",
       "<!-- end: Top-navigation -->\n",
       "</div>\n",
       "<!-- end: head [application/applicationHead.jsp] -->\n",
       "<!-- navigation (page) p_id=7, (navigation) n_id=14 -->\n",
       "<!-- start: main navigation -->\n",
       "<div id=\"nav\"><div id=\"nav_main\">\n",
       "<!-- id = 150, label = SEARCH-->\n",
       "<div class=\"rnavli\"></div><div class=\"rnavmid\"><a class=\"act\" href=\"/shabforms/COMMON/search/searchForm.jsf\">Recherchieren</a></div><div class=\"rnavre\"></div>\n",
       "<!-- id = 70, label = PROVIDER-->\n",
       "<div class=\"rollover\"><div class=\"rnavli\"></div><div class=\"rnavmid\"><a class=\"pas\" href=\"/shabforms/servlet/forms/ContractorPortal\">Anbieter</a></div><div class=\"rnavre\"></div>\n",
       "</div>\n",
       "<!-- id = 71, label = APPLICANT-->\n",
       "<div class=\"rollover\"><div class=\"rnavli\"></div><div class=\"rnavmid\"><a class=\"pas\" href=\"/shabforms/servlet/forms/Pdm\">Auftraggeber</a></div><div class=\"rnavre\"></div>\n",
       "</div>\n",
       "<!-- id = 151, label = SIMAP_REGISTRATION_SUBSCRIPTION-->\n",
       "<div class=\"rollover\"><div class=\"rnavli\"></div><div class=\"rnavmid\"><a class=\"pas\" href=\"/shabforms/servlet/forms/ContractorPortal?EID=17\">Abonnement</a></div><div class=\"rnavre\"></div>\n",
       "</div>\n",
       "</div>\n",
       "<!-- start: font sizer [application/applicationFontSizer.jsp] -->\n",
       "<div id=\"fontSize\">\n",
       "<div id=\"reg\"><span class=\"current\"><a href=\"javascript:Smaller();\">A</a></span></div>\n",
       "<span class=\"vertline\">|</span>\n",
       "<div id=\"bigger\"><a href=\"javascript:Bigger();\">A</a></div>\n",
       "</div>\n",
       "<!-- end: font sizer [application/applicationFontSizer.jsp] -->\n",
       "</div>\n",
       "<!-- end: main navigation -->\n",
       "<div id=\"main\">\n",
       "<!-- start: left navigation v_id=2, n_id=36 -->\n",
       "<div id=\"col1\">\n",
       "<div class=\"clearfix\">\n",
       "<ul id=\"submenu\">\n",
       "<!-- id=132, label=SEARCH_HELP-->\n",
       "<li><a href=\"javascript:openWindowWithReplace('/shabforms/online-help/publication/DE/Recherche/help.html','DE')\"><b>Benutzungshinweise</b></a></li>\n",
       "<!-- id=116, label=SIMAP_REGISTRATION_SUBSCRIPTION-->\n",
       "<li><a href=\"/shabforms/servlet/forms/ContractorPortal?EID=20\"><b>Neues Abonnement</b></a></li>\n",
       "<!-- id=149, label=CONTRACTOR_INDEX-->\n",
       "<li><a href=\"/shabforms/servlet/ContractorDirectory\"><b>Anbieterverzeichnis</b></a></li> </ul>\n",
       "<!-- start: include section -->\n",
       "<div class=\"teaserLeft\">\n",
       "<div class=\"hlTeaser\">Support</div>\n",
       "<br/>\n",
       "<div class=\"teaserTxt\">Haben Sie Fragen oder benötigen Sie Unterstützung?\n",
       "    <br/>\n",
       "<a href=\"/shabforms/COMMON/application/applicationGrid.jsp?template=1&amp;view=5&amp;page=/MULTILANGUAGE/simap/content/common_questions.jsp\">Häufige Fragen</a><br/>\n",
       "<a href=\"/shabforms/COMMON/application/applicationGrid.jsp?template=1&amp;view=5&amp;page=/MULTILANGUAGE/simap/content/support.jsp\">Kontakt Simap-Helpdesk</a>\n",
       "</div>\n",
       "</div>\n",
       "<!-- start: search form [search/searchFormMinder.jsp] -->\n",
       "<div class=\"teaserLeft\">\n",
       "<div class=\"hlTeaser\">Suche ändern</div>\n",
       "<div class=\"teaserTxtLeft\">\n",
       "<!-- start: form section -->\n",
       "<form action=\"/shabforms/servlet/Search\" class=\"formular\" id=\"recherche\" method=\"post\" name=\"recherche\">\n",
       "<div class=\"teaserBg\">\n",
       "<div class=\"teaserElement\">Sie können Ihre Suchkriterien ändern oder die Suche verfeinern\n",
       "        <input id=\"SELTYPE\" name=\"SELTYPE\" type=\"hidden\" value=\"OB\"/></div>\n",
       "<input id=\"SEARCH_SAVE\" name=\"SEARCH_SAVE\" type=\"hidden\"/>\n",
       "<div class=\"teaserElement\">Stichwort:\n",
       "          <input class=\"formElement170 nofokus\" name=\"KEYWORDS\" type=\"text\" value=\"\"/>\n",
       "</div>\n",
       "<div class=\"teaserElement\">Ort der Auftragserfüllung:\n",
       "           <input class=\"formElement170 nofokus\" id=\"CONT_LOC_OB\" name=\"CONT_LOC_OB\" type=\"text\" value=\"\"/>\n",
       "</div>\n",
       "\t  \n",
       "        Zeitraum:<br/>\n",
       "<fieldset class=\"fieldsetRadio ml_min5\">\n",
       "<div class=\"groupTeaser\">\n",
       "<input id=\"TIMESPAN_TODAY\" name=\"TIMESPAN\" type=\"radio\" value=\"TODAY\"/>\n",
       "<div class=\"txt\">Heute</div>\n",
       "<br/>\n",
       "<input id=\"TIMESPAN_WEEK\" name=\"TIMESPAN\" type=\"radio\" value=\"WEEK\"/>\n",
       "<div class=\"txt\">Laufende Woche</div>\n",
       "<br/>\n",
       "<input id=\"TIMESPAN_YEAR\" name=\"TIMESPAN\" type=\"radio\" value=\"YEAR\"/>\n",
       "<div class=\"txt\">Laufendes Jahr</div>\n",
       "<br/>\n",
       "<input checked=\"checked\" id=\"TIMESPAN_VARIABLE\" name=\"TIMESPAN\" type=\"radio\" value=\"VARIABLE\"/>\n",
       "<div class=\"cal_feld\">\n",
       "<div class=\"teasertxt\">von</div>\n",
       "<input class=\"formElement100 nofokus\" id=\"STAT_TM_1\" name=\"STAT_TM_1\" onfocus=\"document.getElementById('TIMESPAN_VARIABLE').checked='true';\" type=\"text\" value=\"01.10.2009\"/>\n",
       "<button class=\"cal_button\" id=\"cal-button-2\" type=\"button\"></button>\n",
       "<script type=\"text/javascript\">\n",
       "                         Calendar.setup({\n",
       "                             inputField    : \"STAT_TM_1\",\n",
       "                             button        : \"cal-button-2\",\n",
       "                             align         : \"cr\",\n",
       "                             enableWeekend: true    \n",
       "                         });\n",
       "                     </script>\n",
       "</div>\n",
       "<div class=\"cal_feld2\">\n",
       "<div class=\"teasertxt\">bis</div>\n",
       "<input class=\"formElement100 nofokus\" id=\"STAT_TM_2\" name=\"STAT_TM_2\" onfocus=\"document.getElementById('TIMESPAN_VARIABLE').checked='true';\" type=\"text\" value=\"29.10.2019\"/>\n",
       "<button class=\"cal_button\" id=\"cal-button-3\" type=\"button\"></button>\n",
       "<script type=\"text/javascript\">\n",
       "                         Calendar.setup({\n",
       "                             inputField    : \"STAT_TM_2\",\n",
       "                             button        : \"cal-button-3\",\n",
       "                             align         : \"cr\",\n",
       "                             enableWeekend: true\n",
       "                         });\n",
       "                     </script>\n",
       "</div>\n",
       "<br/>\n",
       "<input id=\"TIMESPAN_TOTAL\" name=\"TIMESPAN\" type=\"radio\" value=\"TOTAL\"/>\n",
       "<div class=\"txt\">             \n",
       "                Gesamt (letzte 3 Jahre)  \n",
       " \t \t\t </div>\n",
       "</div>\n",
       "</fieldset>\n",
       "<div id=\"RubrikAll\">\n",
       "<!-- start: search form OB [search/searchFormMinderOB.jsp] -->\n",
       "<div id=\"rubrikOB\">\n",
       "<script type=\"text/javascript\">write_select('Unterrubrik:','TYPE_CD_OB', '<option value=\"\">Alle</option><option value=\"OB00,OB01,OB05,OB07\">Ausschreibungen</option><option value=\"OB02,OB08\" selected=\"selected\">Zuschl&auml;ge</option><option value=\"OB03,OB04,OB06,OB09\">Andere Ver&ouml;ffentlichungen</option>', '<div id=\"top\">Zuschl&auml;ge</div><div id=\"pfeil\"></div></div><div id=\"selectlayer1\"><div class=\"opt\" onmouseover=\"mouseoverLnk(this)\" onmouseout=\"mouseoutLnk(this)\" onclick=\"mouseclickLnk(this,\\'TYPE_CD_OB\\',\\'\\',\\'\\')\">Alle</div><div class=\"opt\" onmouseover=\"mouseoverLnk(this)\" onmouseout=\"mouseoutLnk(this)\" onclick=\"mouseclickLnk(this,\\'TYPE_CD_OB\\',\\'OB00,OB01,OB05,OB07\\',\\'\\')\">Ausschreibungen</div><div class=\"opt\" onmouseover=\"mouseoverLnk(this)\" onmouseout=\"mouseoutLnk(this)\" onclick=\"mouseclickLnk(this,\\'TYPE_CD_OB\\',\\'OB02,OB08\\',\\'\\')\">Zuschl&auml;ge</div><div class=\"opt\" onmouseover=\"mouseoverLnk(this)\" onmouseout=\"mouseoutLnk(this)\" onclick=\"mouseclickLnk(this,\\'TYPE_CD_OB\\',\\'OB03,OB04,OB06,OB09\\',\\'\\')\">Andere Ver&ouml;ffentlichungen</div>', '');</script><div class=\"teaserElement\">Unterrubrik:<br/><select class=\"formElement170drop\" id=\"TYPE_CD_OB\" name=\"TYPE_CD_OB\"><option value=\"\">Alle</option><option value=\"OB00,OB01,OB05,OB07\">Ausschreibungen</option><option selected=\"selected\" value=\"OB02,OB08\">Zuschläge</option><option value=\"OB03,OB04,OB06,OB09\">Andere Veröffentlichungen</option></select></div>\n",
       "<noscript>\n",
       "<div class=\"teaserElement\">Unterrubrik:<br>\n",
       "<select class=\"formElement170drop\" id=\"TYPE_CD_OB\" name=\"TYPE_CD_OB\">\n",
       "<option value=\"\">Alle</option><option value=\"OB00,OB01,OB05,OB07\">Ausschreibungen</option><option selected=\"selected\" value=\"OB02,OB08\">Zuschläge</option><option value=\"OB03,OB04,OB06,OB09\">Andere Veröffentlichungen</option>\n",
       "</select>\n",
       "</br></div>\n",
       "</noscript> \n",
       "\n",
       "\n",
       "   Laufende Verfahren:<br/>\n",
       "<fieldset class=\"fieldsetRadio ml_min5\">\n",
       "<div class=\"groupTeaser\">\n",
       "<div class=\"spacebig\"><input name=\"DEADLINE_PASSED_OB\" type=\"radio\" value=\"N\"/>\n",
       "<div class=\"txt2\">Ja</div></div>\n",
       "<br/>\n",
       "<div class=\"spacebig\"><input checked=\"checked\" name=\"DEADLINE_PASSED_OB\" type=\"radio\" value=\"\"/>\n",
       "<div class=\"txt2\">Alle</div></div>\n",
       "</div>\n",
       "</fieldset>\n",
       "\n",
       "\n",
       "Auftragsart:<br/>\n",
       "<fieldset class=\"fieldsetRadio ml_min5\">\n",
       "<div class=\"groupTeaser\">\n",
       "<input name=\"TYPE_CONTRACT_CD_OB\" type=\"radio\" value=\"SUPPLIES\"/>\n",
       "<div class=\"txt\">Lieferung</div><br/>\n",
       "<input name=\"TYPE_CONTRACT_CD_OB\" type=\"radio\" value=\"SERVICES\"/>\n",
       "<div class=\"txt\">Dienstleistung</div><br/>\n",
       "<input checked=\"checked\" name=\"TYPE_CONTRACT_CD_OB\" type=\"radio\" value=\"WORKS\"/>\n",
       "<div class=\"txt\">Bauleistung</div><br/>\n",
       "<input name=\"TYPE_CONTRACT_CD_OB\" type=\"radio\" value=\"CONTEST\"/>\n",
       "<div class=\"txt\">Wettbewerb</div><br/>\n",
       "<input name=\"TYPE_CONTRACT_CD_OB\" type=\"radio\" value=\"\"/>\n",
       "<div class=\"txt\">Alle</div><br/>\n",
       "</div>\n",
       "</fieldset>\n",
       "\n",
       "Verfahrensart:<br/>\n",
       "<fieldset class=\"fieldsetRadio ml_min5\">\n",
       "<div class=\"groupTeaser\">\n",
       "<input name=\"PROC_CD_OB\" type=\"radio\" value=\"OPEN\"/>\n",
       "<div class=\"txt\">Offenes Verfahren</div><br/>\n",
       "<input name=\"PROC_CD_OB\" type=\"radio\" value=\"RESTRICTED\"/>\n",
       "<div class=\"txt\">Selektives Verfahren</div><br/>\n",
       "<input name=\"PROC_CD_OB\" type=\"radio\" value=\"OTHER\"/>\n",
       "<div class=\"txt\">Freihändiges Verfahren</div><br/>\n",
       "<input checked=\"checked\" name=\"PROC_CD_OB\" type=\"radio\" value=\"\"/>\n",
       "<div class=\"txt\">Alle</div><br/>\n",
       "</div>\n",
       "</fieldset>\n",
       "\n",
       "WTO:<br/>\n",
       "<fieldset class=\"fieldsetRadio ml_min5\">\n",
       "<div class=\"groupTeaser\">\n",
       "<input name=\"WTO_CD_OB\" type=\"radio\" value=\"YES\"/>\n",
       "<div class=\"txt\">Ja</div><br/>\n",
       "<input name=\"WTO_CD_OB\" type=\"radio\" value=\"NO\"/>\n",
       "<div class=\"txt\">Nein</div><br/>\n",
       "<input checked=\"checked\" name=\"WTO_CD_OB\" type=\"radio\" value=\"\"/>\n",
       "<div class=\"txt\">Alle</div><br/>\n",
       "</div>\n",
       "</fieldset>\n",
       "<div class=\"teaserElement\">\n",
       "<div class=\"flLeft mr_5\">Gemeinschaftsvokabular (CPV):</div>\n",
       "<input class=\"formElement100 nofokus\" id=\"CPV_OB\" name=\"CPV_OB\" type=\"text\" value=\"\"/><a class=\"\" href=\"javascript:cpvmanager('CPV_OB','DE','CPV')\"><img alt=\"cpv\" class=\"cpv\" src=\"/shabforms/COMMON/application/img/cpv.gif\" title=\"cpv\"/></a>\n",
       "</div>\n",
       "<div class=\"teaserElement\">\n",
       "<div class=\"flLeft mr_5\">Baukostenplannummer (BKP):</div><br/>\n",
       "<input class=\"formElement100 nofokus\" id=\"BKP_OB\" name=\"BKP_OB\" type=\"text\" value=\"\"/><a class=\"\" href=\"javascript:cpvmanager('BKP_OB','DE','BKP')\"><img alt=\"Baukostenplannummer (BKP)\" class=\"cpv\" src=\"/shabforms/COMMON/application/img/cpv.gif\" title=\"Baukostenplannummer (BKP)\"/></a>\n",
       "</div>\n",
       "<div class=\"teaserElement\">\n",
       "<div class=\"flLeft mr_5\">Normpositionen-Katalog (NPK):</div><br/>\n",
       "<input class=\"formElement100 nofokus\" id=\"NPK_OB\" name=\"NPK_OB\" type=\"text\" value=\"\"/><a class=\"\" href=\"javascript:cpvmanager('NPK_OB','DE','NPK')\"><img alt=\"Normpositionen-Katalog (NPK)\" class=\"cpv\" src=\"/shabforms/COMMON/application/img/cpv.gif\" title=\"Normpositionen-Katalog (NPK)\"/></a>\n",
       "</div>\n",
       "\n",
       "  \n",
       "Art der Auftraggeber:<br/>\n",
       "<fieldset class=\"fieldsetRadio ml_min5\">\n",
       "<div class=\"groupTeaser\">\n",
       "<div class=\"spacebig\"><input name=\"AUTH_CD_OB\" onclick=\"authCdObAll()\" type=\"checkbox\" value=\"\"/><div class=\"txt3\">Alle</div></div>\n",
       "<div class=\"spacebig\"><input name=\"AUTH_CD_OB\" type=\"checkbox\" value=\"FEDERATION\"/><div class=\"txt3\">Bund (Zentrale Bundesverwaltung)</div></div>\n",
       "<div class=\"spacebig\"><input name=\"AUTH_CD_OB\" type=\"checkbox\" value=\"UTILITY\"/><div class=\"txt3\">Bund (Dezentrale Bundesverwaltung - öffentlich rechtliche Organisationen)</div></div>\n",
       "<div class=\"spacebig\"><input name=\"AUTH_CD_OB\" type=\"checkbox\" value=\"FOREIGN\"/><div class=\"txt3\">Ausland</div></div>\n",
       "<div class=\"spacebig\"><input name=\"AUTH_CD_OB\" type=\"checkbox\" value=\"OTHER\"/><div class=\"txt3\">Andere</div></div>\n",
       "<div class=\"spacebig\"><input name=\"AUTH_CD_OB\" type=\"checkbox\" value=\"CANTON\"/><div class=\"txt3\">Kanton</div></div>\n",
       "<div class=\"spacebig\"><input name=\"AUTH_CD_OB\" type=\"checkbox\" value=\"CANTONOTHER\"/><div class=\"txt3\">Andere Träger kantonaler Aufgaben</div></div>\n",
       "<div class=\"spacebig\"><input checked=\"checked\" name=\"AUTH_CD_OB\" type=\"checkbox\" value=\"MUNICIPALITY\"/><div class=\"txt3\">Gemeinde/Stadt</div></div>\n",
       "<div class=\"spacebig\"><input name=\"AUTH_CD_OB\" type=\"checkbox\" value=\"MUNICIPALITYOTHER\"/><div class=\"txt3\">Andere Träger kommunaler Aufgaben</div></div>\n",
       "</div>\n",
       "</fieldset>\n",
       "<div class=\"teaserElement\" style=\"clear:both\">Kantone:<br/>\n",
       "<div class=\"spacebig\"><input name=\"OB_CANTON\" onclick=\"cantonObAll()\" type=\"checkbox\" value=\"ON\"/><label for=\"\"> Alle</label></div><br/><div class=\"space\"><input name=\"OB_CANTON_AG\" onclick=\"uncheckOBCities('AG')\" type=\"checkbox\" value=\"ON\"/><label for=\"AG\">AG</label></div><div class=\"space\"><input name=\"OB_CANTON_AR\" onclick=\"uncheckOBCities('AR')\" type=\"checkbox\" value=\"ON\"/><label for=\"AR\">AR</label></div><div class=\"space\"><input name=\"OB_CANTON_AI\" onclick=\"uncheckOBCities('AI')\" type=\"checkbox\" value=\"ON\"/><label for=\"AI\">AI</label></div><div class=\"space\"><input name=\"OB_CANTON_BL\" onclick=\"uncheckOBCities('BL')\" type=\"checkbox\" value=\"ON\"/><label for=\"BL\">BL</label></div><div class=\"space\"><input name=\"OB_CANTON_BS\" onclick=\"uncheckOBCities('BS')\" type=\"checkbox\" value=\"ON\"/><label for=\"BS\">BS</label></div><div class=\"space\"><input name=\"OB_CANTON_BE\" onclick=\"uncheckOBCities('BE')\" type=\"checkbox\" value=\"ON\"/><label for=\"BE\">BE</label></div><div class=\"space\"><input name=\"OB_CANTON_FR\" onclick=\"uncheckOBCities('FR')\" type=\"checkbox\" value=\"ON\"/><label for=\"FR\">FR</label></div><div class=\"space\"><input name=\"OB_CANTON_GE\" onclick=\"uncheckOBCities('GE')\" type=\"checkbox\" value=\"ON\"/><label for=\"GE\">GE</label></div><div class=\"space\"><input name=\"OB_CANTON_GL\" onclick=\"uncheckOBCities('GL')\" type=\"checkbox\" value=\"ON\"/><label for=\"GL\">GL</label></div><div class=\"space\"><input name=\"OB_CANTON_GR\" onclick=\"uncheckOBCities('GR')\" type=\"checkbox\" value=\"ON\"/><label for=\"GR\">GR</label></div><div class=\"space\"><input name=\"OB_CANTON_JU\" onclick=\"uncheckOBCities('JU')\" type=\"checkbox\" value=\"ON\"/><label for=\"JU\">JU</label></div><div class=\"space\"><input name=\"OB_CANTON_LU\" onclick=\"uncheckOBCities('LU')\" type=\"checkbox\" value=\"ON\"/><label for=\"LU\">LU</label></div><div class=\"space\"><input name=\"OB_CANTON_NE\" onclick=\"uncheckOBCities('NE')\" type=\"checkbox\" value=\"ON\"/><label for=\"NE\">NE</label></div><div class=\"space\"><input name=\"OB_CANTON_NW\" onclick=\"uncheckOBCities('NW')\" type=\"checkbox\" value=\"ON\"/><label for=\"NW\">NW</label></div><div class=\"space\"><input name=\"OB_CANTON_OW\" onclick=\"uncheckOBCities('OW')\" type=\"checkbox\" value=\"ON\"/><label for=\"OW\">OW</label></div><div class=\"space\"><input name=\"OB_CANTON_SG\" onclick=\"uncheckOBCities('SG')\" type=\"checkbox\" value=\"ON\"/><label for=\"SG\">SG</label></div><div class=\"space\"><input name=\"OB_CANTON_SH\" onclick=\"uncheckOBCities('SH')\" type=\"checkbox\" value=\"ON\"/><label for=\"SH\">SH</label></div><div class=\"space\"><input name=\"OB_CANTON_SZ\" onclick=\"uncheckOBCities('SZ')\" type=\"checkbox\" value=\"ON\"/><label for=\"SZ\">SZ</label></div><div class=\"space\"><input name=\"OB_CANTON_SO\" onclick=\"uncheckOBCities('SO')\" type=\"checkbox\" value=\"ON\"/><label for=\"SO\">SO</label></div><div class=\"space\"><input name=\"OB_CANTON_TG\" onclick=\"uncheckOBCities('TG')\" type=\"checkbox\" value=\"ON\"/><label for=\"TG\">TG</label></div><div class=\"space\"><input name=\"OB_CANTON_TI\" onclick=\"uncheckOBCities('TI')\" type=\"checkbox\" value=\"ON\"/><label for=\"TI\">TI</label></div><div class=\"space\"><input name=\"OB_CANTON_UR\" onclick=\"uncheckOBCities('UR')\" type=\"checkbox\" value=\"ON\"/><label for=\"UR\">UR</label></div><div class=\"space\"><input name=\"OB_CANTON_VS\" onclick=\"uncheckOBCities('VS')\" type=\"checkbox\" value=\"ON\"/><label for=\"VS\">VS</label></div><div class=\"space\"><input name=\"OB_CANTON_VD\" onclick=\"uncheckOBCities('VD')\" type=\"checkbox\" value=\"ON\"/><label for=\"VD\">VD</label></div><div class=\"space\"><input name=\"OB_CANTON_ZG\" onclick=\"uncheckOBCities('ZG')\" type=\"checkbox\" value=\"ON\"/><label for=\"ZG\">ZG</label></div><div class=\"space\"><input checked=\"checked\" name=\"OB_CANTON_ZH\" onclick=\"uncheckOBCities('ZH')\" type=\"checkbox\" value=\"ON\"/><label for=\"ZH\">ZH</label></div>\n",
       "</div>\n",
       "<div class=\"teaserElement\" style=\"clear:both\">Städte:<br/>\n",
       "<div class=\"space\"><input id=\"BE\" name=\"CITY_CD_OB\" type=\"checkbox\" value=\"SIMAP_CITY_01\"/><label for=\"SIMAP_CITY_01\">Bern</label></div>\n",
       "<div class=\"space\"><input id=\"BE\" name=\"CITY_CD_OB\" type=\"checkbox\" value=\"SIMAP_CITY_02\"/><label for=\"SIMAP_CITY_02\">Biel</label></div>\n",
       "<div class=\"space\"><input id=\"TI\" name=\"CITY_CD_OB\" type=\"checkbox\" value=\"SIMAP_CITY_04\"/><label for=\"SIMAP_CITY_04\">Lugano</label></div>\n",
       "<div class=\"space\"><input id=\"NE\" name=\"CITY_CD_OB\" type=\"checkbox\" value=\"SIMAP_CITY_05\"/><label for=\"SIMAP_CITY_05\">Neuenburg</label></div>\n",
       "<div class=\"space\"><input id=\"ZH\" name=\"CITY_CD_OB\" type=\"checkbox\" value=\"SIMAP_CITY_06\"/><label for=\"SIMAP_CITY_06\">Winterthur</label></div>\n",
       "<div class=\"space\"><input id=\"ZH\" name=\"CITY_CD_OB\" type=\"checkbox\" value=\"SIMAP_CITY_07\"/><label for=\"SIMAP_CITY_07\">Zürich</label></div>\n",
       "<div class=\"space\"><input id=\"SG\" name=\"CITY_CD_OB\" type=\"checkbox\" value=\"SIMAP_CITY_08\"/><label for=\"SIMAP_CITY_08\">St. Gallen</label></div>\n",
       "<div class=\"space\"><input id=\"VD\" name=\"CITY_CD_OB\" type=\"checkbox\" value=\"SIMAP_CITY_09\"/><label for=\"SIMAP_CITY_09\">Lausanne</label></div>\n",
       "</div>\n",
       "</div>\n",
       "<!-- end: search form OB [search/searchFormMinderOB.jsp] -->\n",
       "<script type=\"text/javascript\">\n",
       "function authCdObAll() {\n",
       "  try {\n",
       "    l=document.getElementsByName('AUTH_CD_OB').length;\n",
       "    if (document.getElementsByName('AUTH_CD_OB')[0].checked) {\n",
       "      for (i=1; i<l; i++) {\n",
       "        document.getElementsByName('AUTH_CD_OB')[i].disabled=true;\n",
       "        document.getElementsByName('AUTH_CD_OB')[i].checked=false;\n",
       "      }  \n",
       "    } else {\n",
       "      for (i=1; i<l; i++) {\n",
       "        document.getElementsByName('AUTH_CD_OB')[i].disabled=false;      \n",
       "      } \n",
       "    }\n",
       "  } catch (e) {}\n",
       "}\n",
       "\n",
       "function cantonObAll() {\n",
       "  try {    \n",
       "    var elem = document.getElementById('recherche').elements;\n",
       "    for(var i = 0; i < elem.length; i++)\n",
       "    { \n",
       "      if (elem[i].name!=undefined && elem[i].name.indexOf('OB_CANTON_')>=0) {\n",
       "        name = elem[i].name; \n",
       "        if (document.getElementsByName('OB_CANTON')[0].checked) {      \n",
       "          document.getElementsByName(name)[0].disabled=true;\n",
       "          document.getElementsByName(name)[0].checked=false;       \n",
       "        } else {      \n",
       "          document.getElementsByName(name)[0].disabled=false;            \n",
       "        }        \n",
       "      }   \n",
       "    }\n",
       "   \n",
       "    tag_name = 'CITY_CD_OB';\n",
       "    cities = document.getElementsByName(tag_name);\n",
       "      \n",
       "    for(var i = 0; i < cities.length; i++) {\n",
       "      if (document.getElementsByName('OB_CANTON')[0].checked) {      \n",
       "        document.getElementsByName(tag_name)[i].disabled=true;\n",
       "        document.getElementsByName(tag_name)[i].checked=false;       \n",
       "      } else {      \n",
       "        document.getElementsByName(tag_name)[i].disabled=false;            \n",
       "      }\n",
       "    }\n",
       "  } catch (e) {}   \n",
       "}\n",
       "\n",
       "function uncheckOBCities(canton) {\n",
       "  tag_name = 'CITY_CD_OB';\n",
       "  cities = document.getElementsByName(tag_name);\n",
       "      \n",
       "  for(var i = 0; i < cities.length; i++) {\n",
       "    if (document.getElementsByName(tag_name)[i].id==canton) {\n",
       "      if (document.getElementsByName('OB_CANTON_' + canton)[0].checked) {       \n",
       "        document.getElementsByName(tag_name)[i].disabled=true;\n",
       "        document.getElementsByName(tag_name)[i].checked=false;       \n",
       "      } else {      \n",
       "        document.getElementsByName(tag_name)[i].disabled=false;            \n",
       "      }\n",
       "    }\n",
       "  }\n",
       "}\n",
       "\n",
       "authCdObAll();\n",
       "cantonObAll();\n",
       "</script>\n",
       "</div>\n",
       "<div class=\"buttonline\" style=\"text-align:right\">\n",
       "<input class=\"btn\" name=\"command\" type=\"submit\" value=\"Recherchieren\"/>\n",
       "</div>\n",
       "</div>\n",
       "</form>\n",
       "<!-- end: form section -->\n",
       "</div>\n",
       "<!-- start: helpcontainer -->\n",
       "<!-- end: helpcontainer -->\n",
       "<script language=\"JavaScript\" type=\"text/javascript\">\n",
       "    addHelp();\n",
       "  </script>\n",
       "</div>\n",
       "<!-- end: search form [search/searchFormMinder.jsp] --> <!-- end: include section -->\n",
       "</div>\n",
       "</div>\n",
       "<!-- end: left navigations -->\n",
       "<!-- start: content two column -->\n",
       "<div id=\"col3\">\n",
       "<!-- start: trail -->\n",
       "<div id=\"pospfadNav\">\n",
       "<div class=\"flLeft\">Sie sind hier:</div>\n",
       "<div id=\"pfadNav\">\n",
       "<!-- id=74, label=START-->\n",
       "<a class=\"redLnk\" href=\"/shabforms/COMMON/application/index.jsp\">Startseite</a>&gt;\n",
       "\n",
       "<!-- id=69, label=SEARCH-->\n",
       "<a class=\"redLnk\" href=\"/shabforms/COMMON/search/searchFormSimap.jsf\">Recherchieren</a>&gt;\n",
       "\n",
       "<!-- id=75, label=SINGLE NOTICE-->\n",
       "<span class=\"current\">Einzelmeldungen</span>\n",
       "</div>\n",
       "</div>\n",
       "<!-- end: slider -->\n",
       "<!-- start: showLogin -->\n",
       "<!-- end: showLogin -->\n",
       "<!-- start content -->\n",
       "<link href=\"/shabforms/COMMON/application/css/screen/docview.css\" rel=\"stylesheet\" type=\"text/css\"/>\n",
       "<div id=\"Formcontent\">\n",
       "<h1 class=\"shab\">Ihre Ergebnisse</h1>\n",
       "<div style=\"margin:-3px 10px 10px 0px; border-bottom:1px dotted #ccc; padding:0px 0px 7px 0px;\">Sie suchten nach: Publikationsdatum : 01.10.2009 - 29.10.2019, Auftragsart : Bauleistung, Unterrubrik : Zuschläge, Vergebene Wettbewerbe, Art der Auftraggeber : Gemeinde/Stadt, Kanton : ZH</div>\n",
       "<form action=\"/shabforms/servlet/Search\" method=\"post\" name=\"NAVIGATION\">\n",
       "<div class=\"results\">\n",
       "<div class=\"flLeft\"><a href=\"/shabforms/COMMON/search/searchForm.jsf\">Neue Suche</a></div><div class=\"mitte\"><span class=\"mr_10\"><a href=\"/shabforms/servlet/Search?EID=2&amp;ID=707\">« Vorherige Meldung</a></span> <span class=\"vertline\">|</span><span class=\"mr_10\"><a href=\"/shabforms/servlet/Search?EID=2&amp;ID=709\">Nächste Meldung »</a></span>\n",
       "<span class=\"vertline\">|</span><a href=\"/shabforms/servlet/Search?EID=1&amp;ID=708\">zurück zur Liste</a></div>\n",
       "<div class=\"flRight\"> <a class=\"tedLnk\" href=\"http://ted.europa.eu/udl?uri=TED:NOTICE:133966-2018:TEXT:DE:HTML\" target=\"ted\">Publikation in TED</a>  </div>\n",
       "</div>\n",
       "<div class=\"result_head\">09.03.2018<span class=\"vertline\">|</span>Projekt-ID 161615<span class=\"vertline\">|</span>Meldungsnummer 1009811<span class=\"vertline\">|</span>Zuschläge</div>\n",
       "<input name=\"MAX_LINES\" type=\"hidden\"/>\n",
       "<input name=\"LANG\" type=\"hidden\" value=\"DE\"/>\n",
       "<div class=\"preview\">\n",
       "<table border=\"0\" cellpadding=\"0\" cellspacing=\"0\" id=\"preview\" width=\"100%\">\n",
       "<tbody><tr><td><h1>Zuschlag</h1><dl><dd><span class=\"label\">Publikationsdatum Simap:</span> 09.03.2018<br/></dd></dl><h2>1. Auftraggeber</h2><h3>1.1 Offizieller Name und Adresse des Auftraggebers</h3><dl><dd><span class=\"label\">Bedarfsstelle/Vergabestelle:</span> Stadt Zürich, Amt für Hochbauten<br/><span class=\"label\">Beschaffungsstelle/Organisator:</span> Stadt Zürich<br/>Amt für Hochbauten, \n",
       "\t\t  zu Hdn. von \n",
       "\t\t  AHB, Postfach, \n",
       "\t\t8021 \n",
       "\t\tZürich, \n",
       "\t\tSchweiz, \t\t\t\t\t\t\n",
       "\t\t\tE-Mail: \t\t\t\t\n",
       "\t\t\t\t<a href=\"mailto:AHB-Beschaffungswesen@zuerich.ch\">AHB-Beschaffungswesen@zuerich.ch</a><br/></dd></dl><h3>1.2 Art des Auftraggebers</h3><dl><dd>Gemeinde/Stadt</dd></dl><h3>1.3\n",
       "\t\t\tVerfahrensart\n",
       "\t\t</h3><dl><dd>\n",
       "\t\t\t\t\tOffenes Verfahren\n",
       "\t\t\t\t<br/></dd></dl><h3>1.4\n",
       "\t\t\t\tAuftragsart\n",
       "\t\t\t</h3><dl><dd>\n",
       "\t\t\t\t\t\t\tBauauftrag\n",
       "\t\t\t\t\t\t<br/></dd></dl><h3>1.5\n",
       "\t\t\t\tGemäss GATT/WTO-Abkommen, resp. Staatsvertrag\n",
       "\t\t\t</h3><dl><dd>\n",
       "\t\t\t\t\t\tJa\n",
       "\t\t\t\t\t<br/></dd></dl><h2>2. Beschaffungsobjekt</h2><h3>2.1 Projekttitel der Beschaffung</h3><dl><dd>BAV 80451 Schulanlage Hofacker</dd><dd><b>\n",
       "\t\t\t\t\t\t\t\tBeschaffungs-Nr\n",
       "\t\t\t\t\t\t\t</b>244</dd><dd><b>Kurze Beschreibung: </b>BKP 244 Lüftungsanlagen</dd></dl><h3>2.2 Gemeinschaftsvokabular</h3><dl><dd><table><tbody><tr><td valign=\"top\"><b>CPV:  </b></td><td>45210000 - Bauleistungen im Hochbau</td></tr></tbody></table><!--244--><table><tbody><tr><td valign=\"top\"><b>Baukostenplannummer (BKP): </b></td><td>244 - Lüftungsanlagen</td></tr></tbody></table><!-- --></dd></dl><h2>3. Zuschlagsentscheid</h2><h3>3.1 Zuschlagskriterien</h3><dl><dd>Qualität \n",
       "\t\t\t\t\t\t\t\t<br/><br/>Preis \n",
       "\t\t\t\t\t\t\t\t<br/><br/>Lernende \n",
       "\t\t\t\t\t\t\t\t<br/><br/></dd></dl><h3>3.2 Berücksichtigte Anbieter</h3><dl><dd><h4>\n",
       "\t\t\t\t\tListe der Anbieter\n",
       "\t\t\t\t</h4><dl><dd><span class=\"label\">Name:</span> Imwinkelried Lüftung und Klima AG, Torweg 10, \n",
       "\t\t3930 \n",
       "\t\tVisp, \n",
       "\t\tSchweiz<br/><span class=\"label\">Preis:</span> \n",
       "\t\t\t    \t\t\t\t    CHF 870'642.75 mit MWSt.7.7%<br/></dd></dl></dd></dl><h3>3.3 Begründung des Zuschlagsentscheides</h3><dl><dd><span class=\"label\">Begründung:</span> Beste Erfüllung der Zuschlagskriterien<br/></dd></dl><h2>4. Andere Informationen </h2><h3>4.1 Ausschreibung</h3><dl><dd><span class=\"label\">Publikation vom:</span> 13.10.2017<br/><span class=\"label\">im Publikationsorgan:</span> Amtsblatt des Kantons Zürich<br/><a href=\"/shabforms/servlet/web/DocumentSearch?SELTYPE=ALL&amp;NOTICE_NR=989297\">\n",
       "\t\t\t\t\t\t\tMeldungsnummer\n",
       "\t\t\t\t\t\t989297</a></dd></dl><h3>4.2 Datum des Zuschlags</h3><dl><dd><span class=\"label\">Datum:</span> 26.02.2018<br/></dd></dl><h3>4.3 Anzahl eingegangene Angebote </h3><dl><dd><span class=\"label\">Anzahl Angebote:</span> 7<br/></dd></dl><h3>4.4 Sonstige Angaben</h3><dl><dd>Gemäss Verfügung Nr. 180067 des Vorstehers des Hochbaudepartements</dd></dl><h3>4.5 Rechtsmittelbelehrung</h3><dl><dd>Gegen diese Verfügung kann innert 10 Tagen beim Verwaltungsgericht des Kantons Zürich, Militärstrasse 36, Postfach, 8090 Zürich, schriftlich Beschwerde eingereicht werden. Der Fristenverlauf beginnt für die Teilnehmenden / Anbietenden mit der Zustellung, für Dritte mit der Publikation. Die Beschwerdeschrift ist im Doppel einzureichen, sie muss einen Antrag und dessen Begründung enthalten. Die angefochtene Verfügung ist beizulegen. Die angerufenen Beweismittel sind genau zu bezeichnen und soweit möglich beizulegen.</dd></dl></td></tr>\n",
       "</tbody></table>\n",
       "</div>\n",
       "<div class=\"results2\">\n",
       "<div class=\"flLeft\"><a href=\"/shabforms/COMMON/search/searchForm.jsf\">Neue Suche</a></div><div class=\"mitte\"><span class=\"mr_10\"><a href=\"/shabforms/servlet/Search?EID=2&amp;ID=707\">« Vorherige Meldung</a></span> <span class=\"vertline\">|</span><span class=\"mr_10\"><a href=\"/shabforms/servlet/Search?EID=2&amp;ID=709\">Nächste Meldung »</a></span>\n",
       "<span class=\"vertline\">|</span><a href=\"/shabforms/servlet/Search?EID=1&amp;ID=708\">zurück zur Liste</a></div>\n",
       "<div class=\"flRight\"> <a class=\"tedLnk\" href=\"http://ted.europa.eu/udl?uri=TED:NOTICE:133966-2018:TEXT:DE:HTML\" target=\"ted\">Publikation in TED</a>  </div>\n",
       "</div>\n",
       "</form>\n",
       "<div class=\"orline\"></div>\n",
       "</div>\n",
       "<!-- end content-container / formular -->\n",
       "<!-- start: foot [application/applicationFoot.jsp] -->\n",
       "<div id=\"footer\">\n",
       "<div id=\"footerLine1\">\n",
       "<div class=\"flLeft\"><a href=\"javascript:window.scrollTo(0,0);\"><img alt=\"zum Seitenanfang\" class=\"footerIcn\" src=\"/shabforms/COMMON/application/img/pageup.gif\" title=\"zum Seitenanfang\"/></a><a href=\"javascript:window.scrollTo(0,0);\">zum Seitenanfang</a> </div>\n",
       "<div class=\"flRight\">\n",
       "<a href=\"javascript:print();\"><img alt=\"Seite drucken\" class=\"footerIcn\" src=\"/shabforms/COMMON/application/img/print.gif\" title=\"Seite drucken\"/></a><a href=\"javascript:print();\">Seite drucken</a></div></div>\n",
       "<div id=\"footerLine2\">\n",
       "<div class=\"flLeft\">\n",
       "<b>simap.ch</b>\n",
       "<a class=\"ml_10\" href=\"/shabforms/COMMON/simap/content/management.jsf\">Kontakt</a>\n",
       "<span class=\"vertline\">|</span>\n",
       "<a href=\"/shabforms/COMMON/simap/content/informationAboutSimap.jsf\">Rechtliches/Informationen</a>\n",
       "<span class=\"vertline\">|</span>\n",
       "<a href=\"/shabforms/COMMON/simap/content/associationLegalTerm.jsf\">AGB</a>\n",
       "</div>\n",
       "</div>\n",
       "</div>\n",
       "<!-- end: foot  -->\n",
       "<!-- IE column clearing -->\n",
       "<div id=\"ie_clearing\"> </div>\n",
       "</div>\n",
       "</div>\n",
       "</div>\n",
       "</div>\n",
       "<script language=\"JavaScript\" type=\"text/javascript\">\n",
       "setupFokus(); xchangebg();\n",
       "</script>\n",
       "<!-- end: mainGrid [application/applicationGrid.jsp] -->\n",
       "</body></html>"
      ]
     },
     "execution_count": 335,
     "metadata": {},
     "output_type": "execute_result"
    }
   ],
   "source": [
    "soup"
   ]
  },
  {
   "cell_type": "code",
   "execution_count": 336,
   "metadata": {},
   "outputs": [
    {
     "data": {
      "text/plain": [
       "<td><h1>Zuschlag</h1><dl><dd><span class=\"label\">Publikationsdatum Simap:</span> 09.03.2018<br/></dd></dl><h2>1. Auftraggeber</h2><h3>1.1 Offizieller Name und Adresse des Auftraggebers</h3><dl><dd><span class=\"label\">Bedarfsstelle/Vergabestelle:</span> Stadt Zürich, Amt für Hochbauten<br/><span class=\"label\">Beschaffungsstelle/Organisator:</span> Stadt Zürich<br/>Amt für Hochbauten, \n",
       "\t\t  zu Hdn. von \n",
       "\t\t  AHB, Postfach, \n",
       "\t\t8021 \n",
       "\t\tZürich, \n",
       "\t\tSchweiz, \t\t\t\t\t\t\n",
       "\t\t\tE-Mail: \t\t\t\t\n",
       "\t\t\t\t<a href=\"mailto:AHB-Beschaffungswesen@zuerich.ch\">AHB-Beschaffungswesen@zuerich.ch</a><br/></dd></dl><h3>1.2 Art des Auftraggebers</h3><dl><dd>Gemeinde/Stadt</dd></dl><h3>1.3\n",
       "\t\t\tVerfahrensart\n",
       "\t\t</h3><dl><dd>\n",
       "\t\t\t\t\tOffenes Verfahren\n",
       "\t\t\t\t<br/></dd></dl><h3>1.4\n",
       "\t\t\t\tAuftragsart\n",
       "\t\t\t</h3><dl><dd>\n",
       "\t\t\t\t\t\t\tBauauftrag\n",
       "\t\t\t\t\t\t<br/></dd></dl><h3>1.5\n",
       "\t\t\t\tGemäss GATT/WTO-Abkommen, resp. Staatsvertrag\n",
       "\t\t\t</h3><dl><dd>\n",
       "\t\t\t\t\t\tJa\n",
       "\t\t\t\t\t<br/></dd></dl><h2>2. Beschaffungsobjekt</h2><h3>2.1 Projekttitel der Beschaffung</h3><dl><dd>BAV 80451 Schulanlage Hofacker</dd><dd><b>\n",
       "\t\t\t\t\t\t\t\tBeschaffungs-Nr\n",
       "\t\t\t\t\t\t\t</b>244</dd><dd><b>Kurze Beschreibung: </b>BKP 244 Lüftungsanlagen</dd></dl><h3>2.2 Gemeinschaftsvokabular</h3><dl><dd><table><tbody><tr><td valign=\"top\"><b>CPV:  </b></td><td>45210000 - Bauleistungen im Hochbau</td></tr></tbody></table><!--244--><table><tbody><tr><td valign=\"top\"><b>Baukostenplannummer (BKP): </b></td><td>244 - Lüftungsanlagen</td></tr></tbody></table><!-- --></dd></dl><h2>3. Zuschlagsentscheid</h2><h3>3.1 Zuschlagskriterien</h3><dl><dd>Qualität \n",
       "\t\t\t\t\t\t\t\t<br/><br/>Preis \n",
       "\t\t\t\t\t\t\t\t<br/><br/>Lernende \n",
       "\t\t\t\t\t\t\t\t<br/><br/></dd></dl><h3>3.2 Berücksichtigte Anbieter</h3><dl><dd><h4>\n",
       "\t\t\t\t\tListe der Anbieter\n",
       "\t\t\t\t</h4><dl><dd><span class=\"label\">Name:</span> Imwinkelried Lüftung und Klima AG, Torweg 10, \n",
       "\t\t3930 \n",
       "\t\tVisp, \n",
       "\t\tSchweiz<br/><span class=\"label\">Preis:</span> \n",
       "\t\t\t    \t\t\t\t    CHF 870'642.75 mit MWSt.7.7%<br/></dd></dl></dd></dl><h3>3.3 Begründung des Zuschlagsentscheides</h3><dl><dd><span class=\"label\">Begründung:</span> Beste Erfüllung der Zuschlagskriterien<br/></dd></dl><h2>4. Andere Informationen </h2><h3>4.1 Ausschreibung</h3><dl><dd><span class=\"label\">Publikation vom:</span> 13.10.2017<br/><span class=\"label\">im Publikationsorgan:</span> Amtsblatt des Kantons Zürich<br/><a href=\"/shabforms/servlet/web/DocumentSearch?SELTYPE=ALL&amp;NOTICE_NR=989297\">\n",
       "\t\t\t\t\t\t\tMeldungsnummer\n",
       "\t\t\t\t\t\t989297</a></dd></dl><h3>4.2 Datum des Zuschlags</h3><dl><dd><span class=\"label\">Datum:</span> 26.02.2018<br/></dd></dl><h3>4.3 Anzahl eingegangene Angebote </h3><dl><dd><span class=\"label\">Anzahl Angebote:</span> 7<br/></dd></dl><h3>4.4 Sonstige Angaben</h3><dl><dd>Gemäss Verfügung Nr. 180067 des Vorstehers des Hochbaudepartements</dd></dl><h3>4.5 Rechtsmittelbelehrung</h3><dl><dd>Gegen diese Verfügung kann innert 10 Tagen beim Verwaltungsgericht des Kantons Zürich, Militärstrasse 36, Postfach, 8090 Zürich, schriftlich Beschwerde eingereicht werden. Der Fristenverlauf beginnt für die Teilnehmenden / Anbietenden mit der Zustellung, für Dritte mit der Publikation. Die Beschwerdeschrift ist im Doppel einzureichen, sie muss einen Antrag und dessen Begründung enthalten. Die angefochtene Verfügung ist beizulegen. Die angerufenen Beweismittel sind genau zu bezeichnen und soweit möglich beizulegen.</dd></dl></td>"
      ]
     },
     "execution_count": 336,
     "metadata": {},
     "output_type": "execute_result"
    }
   ],
   "source": [
    "# Hier ist der Name des Auftraggebers drin:\n",
    "soup.find_all(\"td\")[0]"
   ]
  },
  {
   "cell_type": "code",
   "execution_count": 340,
   "metadata": {},
   "outputs": [
    {
     "data": {
      "text/plain": [
       "<dd>Gemeinde/Stadt</dd>"
      ]
     },
     "execution_count": 340,
     "metadata": {},
     "output_type": "execute_result"
    }
   ],
   "source": [
    "#noch genauer:\n",
    "soup.find_all(\"td\")[0].find_all(\"dd\")[2]"
   ]
  },
  {
   "cell_type": "code",
   "execution_count": 341,
   "metadata": {},
   "outputs": [
    {
     "data": {
      "text/plain": [
       "'<dd>Gemeinde/Stadt</dd>'"
      ]
     },
     "execution_count": 341,
     "metadata": {},
     "output_type": "execute_result"
    }
   ],
   "source": [
    "#hier holen wir die elenden Zeilenumbrüche und Nonbreakables raus, die Regex stören:\n",
    "\n",
    "vergabestelle = str(soup.find_all(\"td\")[0].find_all(\"dd\")[2])\n",
    "vergabestelle = vergabestelle.replace(\"\\n\", \" \")\n",
    "vergabestelle = vergabestelle.replace(\"\\xa0\", \" \") \n",
    "vergabestelle"
   ]
  },
  {
   "cell_type": "code",
   "execution_count": 342,
   "metadata": {},
   "outputs": [
    {
     "data": {
      "text/plain": [
       "[]"
      ]
     },
     "execution_count": 342,
     "metadata": {},
     "output_type": "execute_result"
    }
   ],
   "source": [
    "#Hier haben wir den Namen:\n",
    "regex1 = r\"(?<=<\\/span>\\s).*(?=<br\\/><span)\"\n",
    "vergabestelle = re.findall(regex1, vergabestelle)\n",
    "vergabestelle"
   ]
  },
  {
   "cell_type": "code",
   "execution_count": 343,
   "metadata": {},
   "outputs": [
    {
     "data": {
      "text/plain": [
       "'Bauauftrag'"
      ]
     },
     "execution_count": 343,
     "metadata": {},
     "output_type": "execute_result"
    }
   ],
   "source": [
    "#hier ist das Verfahren\n",
    "verfahren = (soup.find_all(\"td\")[0].find_all(\"dd\")[4].text)\n",
    "\n",
    "#Wieder Sonderzeichen rausholen:\n",
    "verfahren = verfahren.replace(\"\\n\", \"\")\n",
    "verfahren = verfahren.replace(\"\\t\", \"\")\n",
    "\n",
    "verfahren"
   ]
  },
  {
   "cell_type": "code",
   "execution_count": 344,
   "metadata": {},
   "outputs": [
    {
     "data": {
      "text/plain": [
       "'\\n\\t\\t\\t\\t\\t\\t\\t\\tBeschaffungs-Nr\\n\\t\\t\\t\\t\\t\\t\\t244'"
      ]
     },
     "execution_count": 344,
     "metadata": {},
     "output_type": "execute_result"
    }
   ],
   "source": [
    "#hier ist das Projekt\n",
    "projekt = soup.find_all(\"td\")[0].find_all(\"dd\")[7].text\n",
    "projekt"
   ]
  },
  {
   "cell_type": "code",
   "execution_count": 326,
   "metadata": {},
   "outputs": [
    {
     "data": {
      "text/plain": [
       "'Bauarbeiten für Gebäude im GesundheitswesenBaukostenplannummer (BKP): 2730 - Innentüren aus Holz'"
      ]
     },
     "execution_count": 326,
     "metadata": {},
     "output_type": "execute_result"
    }
   ],
   "source": [
    "#Projekttyp:\n",
    "projekttyp = soup.find_all(\"td\")[0].find_all(\"dd\")[8].text\n",
    "\n",
    "projekttyp = projekttyp.replace(\"\\xa0\", \" \") \n",
    "\n",
    "regex2 = r\"(?<=-\\s).*\"\n",
    "projekttyp = re.findall(regex2, projekttyp)[0]\n",
    "\n",
    "projekttyp"
   ]
  },
  {
   "cell_type": "code",
   "execution_count": 329,
   "metadata": {},
   "outputs": [
    {
     "ename": "IndexError",
     "evalue": "list index out of range",
     "output_type": "error",
     "traceback": [
      "\u001b[0;31m---------------------------------------------------------------------------\u001b[0m",
      "\u001b[0;31mIndexError\u001b[0m                                Traceback (most recent call last)",
      "\u001b[0;32m<ipython-input-329-4594228ccc93>\u001b[0m in \u001b[0;36m<module>\u001b[0;34m\u001b[0m\n\u001b[1;32m      4\u001b[0m \u001b[0mprojekttyp\u001b[0m \u001b[0;34m=\u001b[0m \u001b[0mprojekttyp\u001b[0m\u001b[0;34m.\u001b[0m\u001b[0mreplace\u001b[0m\u001b[0;34m(\u001b[0m\u001b[0;34m\"\\xa0\"\u001b[0m\u001b[0;34m,\u001b[0m \u001b[0;34m\" \"\u001b[0m\u001b[0;34m)\u001b[0m\u001b[0;34m\u001b[0m\u001b[0;34m\u001b[0m\u001b[0m\n\u001b[1;32m      5\u001b[0m \u001b[0mregex2\u001b[0m \u001b[0;34m=\u001b[0m \u001b[0;34mr\"(?<=-\\s).*(?=\\s\\(BKP)\"\u001b[0m\u001b[0;34m\u001b[0m\u001b[0;34m\u001b[0m\u001b[0m\n\u001b[0;32m----> 6\u001b[0;31m \u001b[0mprojekttyp\u001b[0m \u001b[0;34m=\u001b[0m \u001b[0mre\u001b[0m\u001b[0;34m.\u001b[0m\u001b[0mfindall\u001b[0m\u001b[0;34m(\u001b[0m\u001b[0mregex2\u001b[0m\u001b[0;34m,\u001b[0m \u001b[0mprojekttyp\u001b[0m\u001b[0;34m)\u001b[0m\u001b[0;34m[\u001b[0m\u001b[0;36m0\u001b[0m\u001b[0;34m]\u001b[0m\u001b[0;34m\u001b[0m\u001b[0;34m\u001b[0m\u001b[0m\n\u001b[0m\u001b[1;32m      7\u001b[0m \u001b[0;34m\u001b[0m\u001b[0m\n\u001b[1;32m      8\u001b[0m \u001b[0mprojekttyp\u001b[0m\u001b[0;34m\u001b[0m\u001b[0;34m\u001b[0m\u001b[0m\n",
      "\u001b[0;31mIndexError\u001b[0m: list index out of range"
     ]
    }
   ],
   "source": [
    "#Oder das hier:\n",
    "projekttyp = soup.find_all(\"td\")[0].find_all(\"dd\")[10].text\n",
    "\n",
    "projekttyp = projekttyp.replace(\"\\xa0\", \" \") \n",
    "regex2 = r\"(?<=-\\s).*(?=\\s\\(BKP)\"\n",
    "projekttyp = re.findall(regex2, projekttyp)[0]\n",
    "\n",
    "projekttyp"
   ]
  },
  {
   "cell_type": "code",
   "execution_count": 330,
   "metadata": {},
   "outputs": [
    {
     "ename": "NameError",
     "evalue": "name 'zuschlag2393' is not defined",
     "output_type": "error",
     "traceback": [
      "\u001b[0;31m---------------------------------------------------------------------------\u001b[0m",
      "\u001b[0;31mNameError\u001b[0m                                 Traceback (most recent call last)",
      "\u001b[0;32m<ipython-input-330-130706594dc7>\u001b[0m in \u001b[0;36m<module>\u001b[0;34m\u001b[0m\n\u001b[0;32m----> 1\u001b[0;31m \u001b[0mzuschlag2393\u001b[0m\u001b[0;34m\u001b[0m\u001b[0;34m\u001b[0m\u001b[0m\n\u001b[0m",
      "\u001b[0;31mNameError\u001b[0m: name 'zuschlag2393' is not defined"
     ]
    }
   ],
   "source": [
    "zuschlag2393"
   ]
  },
  {
   "cell_type": "code",
   "execution_count": 331,
   "metadata": {},
   "outputs": [
    {
     "data": {
      "text/plain": [
       "'TT Türenfabrik Turbenthal AG'"
      ]
     },
     "execution_count": 331,
     "metadata": {},
     "output_type": "execute_result"
    }
   ],
   "source": [
    "#Anbieter (Name und Adresse):\n",
    "anbieter = soup.find_all(\"td\")[0].find_all(\"dd\")[9].text\n",
    "\n",
    "anbieter = anbieter.replace(\"\\n\", \"\")\n",
    "anbieter = anbieter.replace(\"\\t\", \"\")\n",
    "anbieter = anbieter.replace(\"\\xa0\", \" \")\n",
    "\n",
    "regex3 = r\"(?<=Name:\\s).*(?=,)\"\n",
    "anbieter = re.findall(regex3, anbieter)[0]\n",
    "\n",
    "anbieter = anbieter.split(\",\")\n",
    "\n",
    "anbieter_name = anbieter[0].strip()\n",
    "anbieter_adr1 = anbieter[1].strip()\n",
    "anbieter_adr2 = anbieter[1].strip()\n",
    "\n",
    "anbieter_name"
   ]
  },
  {
   "cell_type": "code",
   "execution_count": 332,
   "metadata": {},
   "outputs": [
    {
     "ename": "IndexError",
     "evalue": "list index out of range",
     "output_type": "error",
     "traceback": [
      "\u001b[0;31m---------------------------------------------------------------------------\u001b[0m",
      "\u001b[0;31mIndexError\u001b[0m                                Traceback (most recent call last)",
      "\u001b[0;32m<ipython-input-332-5d08e2c475e5>\u001b[0m in \u001b[0;36m<module>\u001b[0;34m\u001b[0m\n\u001b[1;32m      8\u001b[0m \u001b[0;34m\u001b[0m\u001b[0m\n\u001b[1;32m      9\u001b[0m \u001b[0mregex3\u001b[0m \u001b[0;34m=\u001b[0m \u001b[0;34mr\"(?<=Name:\\s).*(?=,)\"\u001b[0m\u001b[0;34m\u001b[0m\u001b[0;34m\u001b[0m\u001b[0m\n\u001b[0;32m---> 10\u001b[0;31m \u001b[0manbieter\u001b[0m \u001b[0;34m=\u001b[0m \u001b[0mre\u001b[0m\u001b[0;34m.\u001b[0m\u001b[0mfindall\u001b[0m\u001b[0;34m(\u001b[0m\u001b[0mregex3\u001b[0m\u001b[0;34m,\u001b[0m \u001b[0manbieter\u001b[0m\u001b[0;34m)\u001b[0m\u001b[0;34m[\u001b[0m\u001b[0;36m0\u001b[0m\u001b[0;34m]\u001b[0m\u001b[0;34m\u001b[0m\u001b[0;34m\u001b[0m\u001b[0m\n\u001b[0m\u001b[1;32m     11\u001b[0m \u001b[0;34m\u001b[0m\u001b[0m\n\u001b[1;32m     12\u001b[0m \u001b[0manbieter\u001b[0m \u001b[0;34m=\u001b[0m \u001b[0manbieter\u001b[0m\u001b[0;34m.\u001b[0m\u001b[0msplit\u001b[0m\u001b[0;34m(\u001b[0m\u001b[0;34m\",\"\u001b[0m\u001b[0;34m)\u001b[0m\u001b[0;34m\u001b[0m\u001b[0;34m\u001b[0m\u001b[0m\n",
      "\u001b[0;31mIndexError\u001b[0m: list index out of range"
     ]
    }
   ],
   "source": [
    "#ACHTUNG: Geht auch nicht immer. Bei File 2 Ja, bei File 45 nein > Exception:\n",
    "#Anbieter (Name und Adresse):\n",
    "anbieter = soup.find_all(\"td\")[0].find_all(\"dd\")[11].text\n",
    "\n",
    "anbieter = anbieter.replace(\"\\n\", \"\")\n",
    "anbieter = anbieter.replace(\"\\t\", \"\")\n",
    "anbieter = anbieter.replace(\"\\xa0\", \" \")\n",
    "\n",
    "regex3 = r\"(?<=Name:\\s).*(?=,)\"\n",
    "anbieter = re.findall(regex3, anbieter)[0]\n",
    "\n",
    "anbieter = anbieter.split(\",\")\n",
    "\n",
    "anbieter_name = anbieter[0].strip()\n",
    "anbieter_adr1 = anbieter[1].strip()\n",
    "anbieter_adr2 = anbieter[1].strip()\n",
    "\n",
    "anbieter_name"
   ]
  },
  {
   "cell_type": "code",
   "execution_count": 333,
   "metadata": {},
   "outputs": [
    {
     "data": {
      "text/plain": [
       "140901.0"
      ]
     },
     "execution_count": 333,
     "metadata": {},
     "output_type": "execute_result"
    }
   ],
   "source": [
    "#Preis:\n",
    "preis = soup.find_all(\"td\")[0].find_all(\"dd\")[9].text\n",
    "\n",
    "preis = preis.replace(\"\\n\", \"\")\n",
    "preis = preis.replace(\"\\t\", \"\")\n",
    "preis = preis.replace(\"\\xa0\", \" \")\n",
    "\n",
    "regex4 = r\"\\d*'*\\d*'*\\d*'*\\d*\\.\\d\\d\"\n",
    "preis = re.findall(regex4, preis)\n",
    "\n",
    "preis = float(preis[0].replace(\"'\",\"\"))\n",
    "preis"
   ]
  },
  {
   "cell_type": "code",
   "execution_count": 67,
   "metadata": {},
   "outputs": [
    {
     "ename": "NameError",
     "evalue": "name 'files' is not defined",
     "output_type": "error",
     "traceback": [
      "\u001b[0;31m---------------------------------------------------------------------------\u001b[0m",
      "\u001b[0;31mNameError\u001b[0m                                 Traceback (most recent call last)",
      "\u001b[0;32m<ipython-input-67-ceb126d7d8d8>\u001b[0m in \u001b[0;36m<module>\u001b[0;34m\u001b[0m\n\u001b[1;32m      2\u001b[0m \u001b[0;34m\u001b[0m\u001b[0m\n\u001b[1;32m      3\u001b[0m \u001b[0mdfs\u001b[0m\u001b[0;34m=\u001b[0m \u001b[0;34m[\u001b[0m\u001b[0;34m]\u001b[0m\u001b[0;34m\u001b[0m\u001b[0;34m\u001b[0m\u001b[0m\n\u001b[0;32m----> 4\u001b[0;31m \u001b[0mdfs\u001b[0m \u001b[0;34m=\u001b[0m \u001b[0;34m[\u001b[0m\u001b[0mpd\u001b[0m\u001b[0;34m.\u001b[0m\u001b[0mread_csv\u001b[0m\u001b[0;34m(\u001b[0m\u001b[0;34m\"watson_data/\"\u001b[0m\u001b[0;34m+\u001b[0m\u001b[0mstr\u001b[0m\u001b[0;34m(\u001b[0m\u001b[0mfile\u001b[0m\u001b[0;34m)\u001b[0m\u001b[0;34m)\u001b[0m \u001b[0;32mfor\u001b[0m \u001b[0mfile\u001b[0m \u001b[0;32min\u001b[0m \u001b[0mfiles\u001b[0m\u001b[0;34m]\u001b[0m\u001b[0;34m\u001b[0m\u001b[0;34m\u001b[0m\u001b[0m\n\u001b[0m\u001b[1;32m      5\u001b[0m \u001b[0mdf\u001b[0m \u001b[0;34m=\u001b[0m \u001b[0mpd\u001b[0m\u001b[0;34m.\u001b[0m\u001b[0mconcat\u001b[0m\u001b[0;34m(\u001b[0m\u001b[0mdfs\u001b[0m\u001b[0;34m,\u001b[0m \u001b[0mignore_index\u001b[0m \u001b[0;34m=\u001b[0m \u001b[0;32mTrue\u001b[0m\u001b[0;34m)\u001b[0m\u001b[0;34m\u001b[0m\u001b[0;34m\u001b[0m\u001b[0m\n",
      "\u001b[0;31mNameError\u001b[0m: name 'files' is not defined"
     ]
    }
   ],
   "source": [
    "# List Comprehension\n",
    "\n",
    "dfs= []\n",
    "dfs = [pd.read_csv(\"watson_data/\"+str(file)) for file in files]\n",
    "df = pd.concat(dfs, ignore_index = True)"
   ]
  },
  {
   "cell_type": "code",
   "execution_count": null,
   "metadata": {},
   "outputs": [],
   "source": []
  }
 ],
 "metadata": {
  "kernelspec": {
   "display_name": "Python 3",
   "language": "python",
   "name": "python3"
  },
  "language_info": {
   "codemirror_mode": {
    "name": "ipython",
    "version": 3
   },
   "file_extension": ".py",
   "mimetype": "text/x-python",
   "name": "python",
   "nbconvert_exporter": "python",
   "pygments_lexer": "ipython3",
   "version": "3.7.4"
  }
 },
 "nbformat": 4,
 "nbformat_minor": 2
}
