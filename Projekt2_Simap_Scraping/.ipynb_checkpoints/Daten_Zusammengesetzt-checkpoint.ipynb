{
 "cells": [
  {
   "cell_type": "code",
   "execution_count": null,
   "metadata": {},
   "outputs": [],
   "source": [
    "from bs4 import BeautifulSoup\n",
    "import os\n",
    "import pandas as pd\n",
    "import re"
   ]
  },
  {
   "cell_type": "code",
   "execution_count": null,
   "metadata": {},
   "outputs": [],
   "source": [
    "list_df = []"
   ]
  },
  {
   "cell_type": "code",
   "execution_count": null,
   "metadata": {},
   "outputs": [],
   "source": [
    "allefiles = os.listdir(\"simap1_2019\")"
   ]
  },
  {
   "cell_type": "code",
   "execution_count": null,
   "metadata": {},
   "outputs": [],
   "source": [
    "def my_function(input) \n",
    "    \n",
    "    vergabestelle = str(soup.find_all(\"td\")[0].find_all(\"dd\")[2])\n",
    "    vergabestelle = text.replace(\"\\n\", \" \")\n",
    "    vergabestelle = text.replace(\"\\xa0\", \" \")\n",
    "    regex1 = r\"(?<=<\\/span>\\s).*(?=<br\\/><span)\"\n",
    "    vergabestelle = re.findall(regex1, vergabestelle)[0]\n",
    "    \n",
    "    verfahren = (soup.find_all(\"td\")[0].find_all(\"dd\")[4].text)\n",
    "    verfahren = verfahren.replace(\"\\n\", \"\")\n",
    "    verfahren = verfahren.replace(\"\\t\", \"\")\n",
    "    \n",
    "    projekt = soup.find_all(\"td\")[0].find_all(\"dd\")[7].text\n",
    "    \n",
    "    projekttyp = soup.find_all(\"td\")[0].find_all(\"dd\")[8].text\n",
    "    projekttyp = projekttyp.replace(\"\\xa0\", \" \") \n",
    "    regex2 = r\"(?<=-\\s).*\"\n",
    "    projekttyp = re.findall(regex2, projekttyp)[0]\n",
    "\n",
    "    anbieter = soup.find_all(\"td\")[0].find_all(\"dd\")[9].text\n",
    "    anbieter = anbieter.replace(\"\\n\", \"\")\n",
    "    anbieter = anbieter.replace(\"\\t\", \"\")\n",
    "    anbieter = anbieter.replace(\"\\xa0\", \" \")\n",
    "    regex3 = r\"(?<=Name:\\s).*(?=,)\"\n",
    "    anbieter = re.findall(regex3, anbieter)[0]\n",
    "    anbieter = anbieter.split(\",\")\n",
    "    \n",
    "    anbieter_name = anbieter[0].strip()\n",
    "    anbieter_adr1 = anbieter[1].strip()\n",
    "    anbieter_adr2 = anbieter[1].strip()\n",
    "\n",
    "    preis = soup.find_all(\"td\")[0].find_all(\"dd\")[9].text\n",
    "    preis = preis.replace(\"\\n\", \"\")\n",
    "    preis = preis.replace(\"\\t\", \"\")\n",
    "    preis = preis.replace(\"\\xa0\", \" \")\n",
    "    regex4 = r\"\\d*'*\\d*'*\\d*'*\\d*\\.\\d\\d\"\n",
    "    preis = re.findall(regex4, preis)\n",
    "    preis = float(preis[0].replace(\"'\",\"\"))\n",
    "    \n",
    "    mini_dict = {\"Vergabestelle\" : vergabestelle,\n",
    "                 \"Preis\" : preis,\n",
    "                 \"Anbieter\" : \"anbieter_name\",\n",
    "                 \"Typ\", projekttyp,\n",
    "                 \"Verfahren\" : verfahren,\n",
    "                 \"Projekt\" : projekt\n",
    "                 \"Adresse\" : anbieter_adr1 + \", \" + anbieter_adr2}\n",
    "    return mini_dict    "
   ]
  },
  {
   "cell_type": "code",
   "execution_count": null,
   "metadata": {},
   "outputs": [],
   "source": [
    "for file in allefiles:\n",
    "   \n",
    "    data = open(\"simap1_2019/\"+str(file), \"r\")\n",
    "    text = data.read()\n",
    "    soup = BeautifulSoup(text, \"html.parser\")\n",
    "    \n",
    "    list_df.append(my_function(soup))\n",
    "    "
   ]
  }
 ],
 "metadata": {
  "kernelspec": {
   "display_name": "Python 3",
   "language": "python",
   "name": "python3"
  },
  "language_info": {
   "codemirror_mode": {
    "name": "ipython",
    "version": 3
   },
   "file_extension": ".py",
   "mimetype": "text/x-python",
   "name": "python",
   "nbconvert_exporter": "python",
   "pygments_lexer": "ipython3",
   "version": "3.7.4"
  }
 },
 "nbformat": 4,
 "nbformat_minor": 2
}
