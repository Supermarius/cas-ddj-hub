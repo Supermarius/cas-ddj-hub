{
 "cells": [
  {
   "cell_type": "markdown",
   "metadata": {},
   "source": [
    "Weil ich noch nicht ganz sicher bin, was die besseren Ergebnisse bringt bei der Netzwerkanalyse, mache ich hier eine Version, die auch jene Paare erfasst, die von der gleichen Partei sind."
   ]
  },
  {
   "cell_type": "code",
   "execution_count": 74,
   "metadata": {},
   "outputs": [
    {
     "name": "stderr",
     "output_type": "stream",
     "text": [
      "100%|██████████| 7026/7026 [04:35<00:00, 25.52it/s]\n"
     ]
    }
   ],
   "source": [
    "import os\n",
    "from bs4 import BeautifulSoup\n",
    "import pandas as pd\n",
    "from tqdm import tqdm\n",
    "import re\n",
    "\n",
    "files = os.listdir(\"alle_geschaefte\")\n",
    "df_list = []\n",
    "\n",
    "for file in tqdm(files): \n",
    "    \n",
    "    if \"geschaeft\" in file: #um fehlerhafte files auszuschliessen\n",
    "        geschaeft = open(\"alle_geschaefte/\"+ file, \"r\", encoding = \"utf-8\")\n",
    "        text = geschaeft.read()\n",
    "        soup = BeautifulSoup(text, \"html.parser\")\n",
    "            \n",
    "        geschaeft_nr = soup.find_all(\"div\")[22].find_all(\"span\")[1].text\n",
    "                \n",
    "        regex = r\"((?<=\\svom\\s)\\d*\\.\\d*\\.\\s*\\d*)\"\n",
    "        datum = re.findall(regex, str(soup))[0]\n",
    "                \n",
    "        mini_dict = {\n",
    "            \"Datum\" : datum,\n",
    "            \"Geschäft\" : geschaeft_nr}\n",
    "        df_list.append(mini_dict)"
   ]
  },
  {
   "cell_type": "code",
   "execution_count": 155,
   "metadata": {},
   "outputs": [
    {
     "data": {
      "text/plain": [
       "7025"
      ]
     },
     "execution_count": 155,
     "metadata": {},
     "output_type": "execute_result"
    }
   ],
   "source": [
    "#Jetzt ist die Liste dreimal so lang! (Also: zwei Drittel aller Doppeleingaben sind nicht parteiübergreifend!)\n",
    "len(df_list)"
   ]
  },
  {
   "cell_type": "code",
   "execution_count": 156,
   "metadata": {},
   "outputs": [
    {
     "data": {
      "text/html": [
       "<div>\n",
       "<style scoped>\n",
       "    .dataframe tbody tr th:only-of-type {\n",
       "        vertical-align: middle;\n",
       "    }\n",
       "\n",
       "    .dataframe tbody tr th {\n",
       "        vertical-align: top;\n",
       "    }\n",
       "\n",
       "    .dataframe thead th {\n",
       "        text-align: right;\n",
       "    }\n",
       "</style>\n",
       "<table border=\"1\" class=\"dataframe\">\n",
       "  <thead>\n",
       "    <tr style=\"text-align: right;\">\n",
       "      <th></th>\n",
       "      <th>Datum</th>\n",
       "      <th>Geschäft</th>\n",
       "    </tr>\n",
       "  </thead>\n",
       "  <tbody>\n",
       "    <tr>\n",
       "      <th>0</th>\n",
       "      <td>27.6.2001</td>\n",
       "      <td>2001/362</td>\n",
       "    </tr>\n",
       "    <tr>\n",
       "      <th>1</th>\n",
       "      <td>5.4.2000</td>\n",
       "      <td>2000/171</td>\n",
       "    </tr>\n",
       "    <tr>\n",
       "      <th>2</th>\n",
       "      <td>12.9.2007</td>\n",
       "      <td>2007/496</td>\n",
       "    </tr>\n",
       "    <tr>\n",
       "      <th>3</th>\n",
       "      <td>14.03.2012</td>\n",
       "      <td>2012/99</td>\n",
       "    </tr>\n",
       "    <tr>\n",
       "      <th>4</th>\n",
       "      <td>27.10.2004</td>\n",
       "      <td>2004/555</td>\n",
       "    </tr>\n",
       "  </tbody>\n",
       "</table>\n",
       "</div>"
      ],
      "text/plain": [
       "        Datum  Geschäft\n",
       "0   27.6.2001  2001/362\n",
       "1    5.4.2000  2000/171\n",
       "2   12.9.2007  2007/496\n",
       "3  14.03.2012   2012/99\n",
       "4  27.10.2004  2004/555"
      ]
     },
     "execution_count": 156,
     "metadata": {},
     "output_type": "execute_result"
    }
   ],
   "source": [
    "df = pd.DataFrame(df_list)\n",
    "df.head(5)"
   ]
  },
  {
   "cell_type": "markdown",
   "metadata": {},
   "source": [
    "bei diesen Positionen stimmt beim Datum etwas Grundsätzliches nicht, weshalb wir es mit einem annäherungsweisen Datum  aufgrund der Geschäftnummer ersetzen:"
   ]
  },
  {
   "cell_type": "code",
   "execution_count": 157,
   "metadata": {},
   "outputs": [],
   "source": [
    "fehlerliste = [\"29.01.20\",\"08.01.20\",\"18.12.19\"]\n",
    "\n",
    "for fehler in fehlerliste:\n",
    "    fehlerposition = df[df[\"Datum\"] == fehler].index.tolist()\n",
    "    for zeile in fehlerposition:\n",
    "        Jahr = df.loc[zeile, \"Geschäft\"].split(\"/\")[0]\n",
    "        Ersatzdatum = \"31.12.\" + Jahr\n",
    "        df.loc[zeile, \"Datum\"] = df.loc[zeile, \"Datum\"].replace(fehler, Ersatzdatum)"
   ]
  },
  {
   "cell_type": "markdown",
   "metadata": {},
   "source": [
    "Hier korrigieren wir zwei weitere Fehler, bei denen die Daten zwar stimmen, aber falsch formatiert sind (Leerschläge, zweistellige Jahreszahlen):"
   ]
  },
  {
   "cell_type": "code",
   "execution_count": 158,
   "metadata": {},
   "outputs": [
    {
     "name": "stdout",
     "output_type": "stream",
     "text": [
      "30.1.1991\n",
      "29.3.1996\n",
      "26.3.1993\n",
      "18.3.1992\n",
      "17.6.1992\n",
      "22.10.1997\n",
      "8.2.1995\n",
      "9.11.1994\n",
      "15.4.1992\n",
      "17.09.2011\n",
      "5.9.2005\n",
      "15.5.1991\n"
     ]
    }
   ],
   "source": [
    "df_laenge = len(df)\n",
    "for zeile in range(0, df_laenge-1):\n",
    "    \n",
    "    #hier holen wir jene Daten raus, die nur eine zweistellige als Jahreszahl haben und vervollständigen sie:\n",
    "    if df.loc[zeile,\"Datum\"][-3:-2] == \".\":\n",
    "        if df.loc[zeile,\"Datum\"][-2:] >= \"80\":\n",
    "            df.loc[zeile,\"Datum\"] = df.loc[zeile,\"Datum\"][:-2]+\"19\"+df.loc[zeile,\"Datum\"][-2:]\n",
    "        if df.loc[zeile,\"Datum\"][-2:] <= \"21\":\n",
    "            df.loc[zeile,\"Datum\"] = df.loc[zeile,\"Datum\"][:-2]+\"20\"+df.loc[zeile,\"Datum\"][-2:]\n",
    "        \n",
    "        print(df.loc[zeile,\"Datum\"])    \n",
    "    \n",
    "    #hier holen wir jene Daten raus, die einen Leerschlag drin haben und löschen ihn raus\n",
    "    if df.loc[zeile,\"Datum\"][-3:-2] == \" \":\n",
    "        df.loc[zeile,\"Datum\"] = df.loc[zeile,\"Datum\"][:-3]+df.loc[zeile,\"Datum\"][-2:]\n",
    "        \n",
    "    #hier holen wir jene Daten mit vierer-Jahreszahlen raus, die einen Leerschlag davor haben und löschen ihn raus\n",
    "    if df.loc[zeile,\"Datum\"][-5:-4] == \" \":\n",
    "        df.loc[zeile,\"Datum\"] = df.loc[zeile,\"Datum\"][:-5]+df.loc[zeile,\"Datum\"][-4:]\n",
    "    \n",
    "    #Hier holen wir jene raus, die zu kurz sind, weil die Jahreszahl ganz fehlt:\n",
    "    if len(df.loc[zeile,\"Datum\"]) == 6:\n",
    "        Jahr = df.loc[zeile, \"Geschäft\"].split(\"/\")[0]\n",
    "        df.loc[zeile,\"Datum\"] = df.loc[zeile,\"Datum\"]+Jahr\n",
    "        \n",
    "        print(df.loc[zeile,\"Datum\"])"
   ]
  },
  {
   "cell_type": "markdown",
   "metadata": {},
   "source": [
    "Heureka, jetzt sind alle Fehler draussen. Jetzt verwandlen wir die Daten ins Datetime-Format: "
   ]
  },
  {
   "cell_type": "code",
   "execution_count": 159,
   "metadata": {},
   "outputs": [],
   "source": [
    "df[\"Datum\"] = pd.to_datetime(df['Datum'], format='%d.%m.%Y')"
   ]
  },
  {
   "cell_type": "code",
   "execution_count": 160,
   "metadata": {},
   "outputs": [
    {
     "data": {
      "text/html": [
       "<div>\n",
       "<style scoped>\n",
       "    .dataframe tbody tr th:only-of-type {\n",
       "        vertical-align: middle;\n",
       "    }\n",
       "\n",
       "    .dataframe tbody tr th {\n",
       "        vertical-align: top;\n",
       "    }\n",
       "\n",
       "    .dataframe thead th {\n",
       "        text-align: right;\n",
       "    }\n",
       "</style>\n",
       "<table border=\"1\" class=\"dataframe\">\n",
       "  <thead>\n",
       "    <tr style=\"text-align: right;\">\n",
       "      <th></th>\n",
       "      <th>Geschäft</th>\n",
       "    </tr>\n",
       "    <tr>\n",
       "      <th>Datum</th>\n",
       "      <th></th>\n",
       "    </tr>\n",
       "  </thead>\n",
       "  <tbody>\n",
       "    <tr>\n",
       "      <th>2001-06-27</th>\n",
       "      <td>2001/362</td>\n",
       "    </tr>\n",
       "    <tr>\n",
       "      <th>2000-04-05</th>\n",
       "      <td>2000/171</td>\n",
       "    </tr>\n",
       "    <tr>\n",
       "      <th>2007-09-12</th>\n",
       "      <td>2007/496</td>\n",
       "    </tr>\n",
       "    <tr>\n",
       "      <th>2012-03-14</th>\n",
       "      <td>2012/99</td>\n",
       "    </tr>\n",
       "    <tr>\n",
       "      <th>2004-10-27</th>\n",
       "      <td>2004/555</td>\n",
       "    </tr>\n",
       "  </tbody>\n",
       "</table>\n",
       "</div>"
      ],
      "text/plain": [
       "            Geschäft\n",
       "Datum               \n",
       "2001-06-27  2001/362\n",
       "2000-04-05  2000/171\n",
       "2007-09-12  2007/496\n",
       "2012-03-14   2012/99\n",
       "2004-10-27  2004/555"
      ]
     },
     "execution_count": 160,
     "metadata": {},
     "output_type": "execute_result"
    }
   ],
   "source": [
    "df = df.set_index(\"Datum\")\n",
    "df.head(5)"
   ]
  },
  {
   "cell_type": "markdown",
   "metadata": {},
   "source": [
    "Jetzt messen wir für die Statistik die Zahl pro Legislatur:"
   ]
  },
  {
   "cell_type": "code",
   "execution_count": 161,
   "metadata": {},
   "outputs": [
    {
     "name": "stdout",
     "output_type": "stream",
     "text": [
      "1990-94: 18\n",
      "1994-98: 179\n",
      "1998-02: 1362\n",
      "2002-06: 1386\n",
      "2006-10: 1427\n",
      "2010-14: 1106\n",
      "2014-18: 981\n",
      "2018-22: 561\n"
     ]
    }
   ],
   "source": [
    "df_1990 = df[\"1990-05-15\":\"1994-05-14\"]\n",
    "df_1994 = df[\"1994-05-15\":\"1998-05-14\"]\n",
    "df_1998 = df[\"1998-05-15\":\"2002-05-14\"]\n",
    "df_2002 = df[\"2002-05-15\":\"2006-05-14\"]\n",
    "df_2006 = df[\"2006-05-15\":\"2010-05-14\"]\n",
    "df_2010 = df[\"2010-05-15\":\"2014-05-14\"]\n",
    "df_2014 = df[\"2014-05-15\":\"2018-05-14\"]\n",
    "df_2018 = df[\"2018-05-15\":\"2022-05-14\"]\n",
    "\n",
    "print(\"1990-94: \"+str(len(df_1990)))\n",
    "print(\"1994-98: \"+str(len(df_1994)))\n",
    "print(\"1998-02: \"+str(len(df_1998)))\n",
    "print(\"2002-06: \"+str(len(df_2002)))\n",
    "print(\"2006-10: \"+str(len(df_2006)))\n",
    "print(\"2010-14: \"+str(len(df_2010)))\n",
    "print(\"2014-18: \"+str(len(df_2014)))\n",
    "print(\"2018-22: \"+str(len(df_2018)))"
   ]
  },
  {
   "cell_type": "code",
   "execution_count": null,
   "metadata": {},
   "outputs": [],
   "source": []
  }
 ],
 "metadata": {
  "kernelspec": {
   "display_name": "Python 3",
   "language": "python",
   "name": "python3"
  },
  "language_info": {
   "codemirror_mode": {
    "name": "ipython",
    "version": 3
   },
   "file_extension": ".py",
   "mimetype": "text/x-python",
   "name": "python",
   "nbconvert_exporter": "python",
   "pygments_lexer": "ipython3",
   "version": "3.7.6"
  }
 },
 "nbformat": 4,
 "nbformat_minor": 2
}
