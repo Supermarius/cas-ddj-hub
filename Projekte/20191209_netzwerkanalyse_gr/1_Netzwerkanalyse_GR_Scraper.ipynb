{
 "cells": [
  {
   "cell_type": "markdown",
   "metadata": {},
   "source": [
    "Idee:\n",
    "- bei allen Motionen, Postulaten und Interpellationen schauen, von wem sie eingereicht wurden\n",
    "- dann jene rausfiltern, bei denen es Mitglieder verschiedener Parteien waren\n",
    "    - die werden dann später für einen Graph in Beziehung zueinander gesetzt\n",
    "- noch mitnehmen, um welches Departemenet es ging\n",
    "    - das wird dann als Attribut für das Edge (die Verbindung) gesetzt"
   ]
  },
  {
   "cell_type": "markdown",
   "metadata": {},
   "source": [
    "### Step 1: Scrapen der GR-Website"
   ]
  },
  {
   "cell_type": "markdown",
   "metadata": {},
   "source": [
    "### 1.1 Zuerst die Motionen"
   ]
  },
  {
   "cell_type": "markdown",
   "metadata": {},
   "source": [
    "Vorgehen:\n",
    "1. Wir rufen alle Seiten auf und ziehen uns die dort notierten Geschäftsnummern raus.\n",
    "2. Diese speichern wir in einer Liste\n",
    "3. Das wiederholen wir mit allen drie Geschäftsarten.\n",
    "4. So können wir dann die Geschäfter direkt ansteueren, idem wir die Nummer in der Suchmaske eingeben.\n",
    "\n",
    "Noch besser: Auf der Seite ist sogar der Direktlink zu jedem Geschäft drin, den können wir rauszupfen und in die Liste knallen."
   ]
  },
  {
   "cell_type": "markdown",
   "metadata": {},
   "source": [
    "**Infos:**\n",
    "\n",
    "Das hier ist der Link für alle Motionen: \n",
    "https://www.gemeinderat-zuerich.ch/geschaefte/#!geschaeftsartId=1&activePage=1\n",
    "Da muss man hinten einfach die Seitennummer anpassen\n",
    "\n",
    "Plus hier die IDs für versch. Geschäfte\n",
    "Motion: geschaeftsartId=1\n",
    "Postulat: geschaeftsartId=2\n",
    "Interpellation: geschaeftsartId=3"
   ]
  },
  {
   "cell_type": "code",
   "execution_count": 4,
   "metadata": {},
   "outputs": [
    {
     "ename": "WebDriverException",
     "evalue": "Message: 'chromedriver' executable needs to be in PATH. Please see https://sites.google.com/a/chromium.org/chromedriver/home\n",
     "output_type": "error",
     "traceback": [
      "\u001b[0;31m---------------------------------------------------------------------------\u001b[0m",
      "\u001b[0;31mFileNotFoundError\u001b[0m                         Traceback (most recent call last)",
      "\u001b[0;32m~/.virtualenvs/erstesVE/lib/python3.7/site-packages/selenium/webdriver/common/service.py\u001b[0m in \u001b[0;36mstart\u001b[0;34m(self)\u001b[0m\n\u001b[1;32m     75\u001b[0m                                             \u001b[0mstderr\u001b[0m\u001b[0;34m=\u001b[0m\u001b[0mself\u001b[0m\u001b[0;34m.\u001b[0m\u001b[0mlog_file\u001b[0m\u001b[0;34m,\u001b[0m\u001b[0;34m\u001b[0m\u001b[0;34m\u001b[0m\u001b[0m\n\u001b[0;32m---> 76\u001b[0;31m                                             stdin=PIPE)\n\u001b[0m\u001b[1;32m     77\u001b[0m         \u001b[0;32mexcept\u001b[0m \u001b[0mTypeError\u001b[0m\u001b[0;34m:\u001b[0m\u001b[0;34m\u001b[0m\u001b[0;34m\u001b[0m\u001b[0m\n",
      "\u001b[0;32m/usr/local/Cellar/python/3.7.6_1/Frameworks/Python.framework/Versions/3.7/lib/python3.7/subprocess.py\u001b[0m in \u001b[0;36m__init__\u001b[0;34m(self, args, bufsize, executable, stdin, stdout, stderr, preexec_fn, close_fds, shell, cwd, env, universal_newlines, startupinfo, creationflags, restore_signals, start_new_session, pass_fds, encoding, errors, text)\u001b[0m\n\u001b[1;32m    799\u001b[0m                                 \u001b[0merrread\u001b[0m\u001b[0;34m,\u001b[0m \u001b[0merrwrite\u001b[0m\u001b[0;34m,\u001b[0m\u001b[0;34m\u001b[0m\u001b[0;34m\u001b[0m\u001b[0m\n\u001b[0;32m--> 800\u001b[0;31m                                 restore_signals, start_new_session)\n\u001b[0m\u001b[1;32m    801\u001b[0m         \u001b[0;32mexcept\u001b[0m\u001b[0;34m:\u001b[0m\u001b[0;34m\u001b[0m\u001b[0;34m\u001b[0m\u001b[0m\n",
      "\u001b[0;32m/usr/local/Cellar/python/3.7.6_1/Frameworks/Python.framework/Versions/3.7/lib/python3.7/subprocess.py\u001b[0m in \u001b[0;36m_execute_child\u001b[0;34m(self, args, executable, preexec_fn, close_fds, pass_fds, cwd, env, startupinfo, creationflags, shell, p2cread, p2cwrite, c2pread, c2pwrite, errread, errwrite, restore_signals, start_new_session)\u001b[0m\n\u001b[1;32m   1550\u001b[0m                             \u001b[0merr_msg\u001b[0m \u001b[0;34m+=\u001b[0m \u001b[0;34m': '\u001b[0m \u001b[0;34m+\u001b[0m \u001b[0mrepr\u001b[0m\u001b[0;34m(\u001b[0m\u001b[0merr_filename\u001b[0m\u001b[0;34m)\u001b[0m\u001b[0;34m\u001b[0m\u001b[0;34m\u001b[0m\u001b[0m\n\u001b[0;32m-> 1551\u001b[0;31m                     \u001b[0;32mraise\u001b[0m \u001b[0mchild_exception_type\u001b[0m\u001b[0;34m(\u001b[0m\u001b[0merrno_num\u001b[0m\u001b[0;34m,\u001b[0m \u001b[0merr_msg\u001b[0m\u001b[0;34m,\u001b[0m \u001b[0merr_filename\u001b[0m\u001b[0;34m)\u001b[0m\u001b[0;34m\u001b[0m\u001b[0;34m\u001b[0m\u001b[0m\n\u001b[0m\u001b[1;32m   1552\u001b[0m                 \u001b[0;32mraise\u001b[0m \u001b[0mchild_exception_type\u001b[0m\u001b[0;34m(\u001b[0m\u001b[0merr_msg\u001b[0m\u001b[0;34m)\u001b[0m\u001b[0;34m\u001b[0m\u001b[0;34m\u001b[0m\u001b[0m\n",
      "\u001b[0;31mFileNotFoundError\u001b[0m: [Errno 2] No such file or directory: '/usr/local/bin/chromedriver': '/usr/local/bin/chromedriver'",
      "\nDuring handling of the above exception, another exception occurred:\n",
      "\u001b[0;31mWebDriverException\u001b[0m                        Traceback (most recent call last)",
      "\u001b[0;32m<ipython-input-4-52e57d04dd8d>\u001b[0m in \u001b[0;36m<module>\u001b[0;34m\u001b[0m\n\u001b[1;32m      7\u001b[0m \u001b[0;34m\u001b[0m\u001b[0m\n\u001b[1;32m      8\u001b[0m \u001b[0;31m# öffnen der Website\u001b[0m\u001b[0;34m\u001b[0m\u001b[0;34m\u001b[0m\u001b[0;34m\u001b[0m\u001b[0m\n\u001b[0;32m----> 9\u001b[0;31m \u001b[0mdriver\u001b[0m \u001b[0;34m=\u001b[0m \u001b[0mwebdriver\u001b[0m\u001b[0;34m.\u001b[0m\u001b[0mChrome\u001b[0m\u001b[0;34m(\u001b[0m\u001b[0mexecutable_path\u001b[0m\u001b[0;34m=\u001b[0m\u001b[0;34m\"/usr/local/bin/chromedriver\"\u001b[0m\u001b[0;34m)\u001b[0m\u001b[0;34m\u001b[0m\u001b[0;34m\u001b[0m\u001b[0m\n\u001b[0m\u001b[1;32m     10\u001b[0m \u001b[0mdriver\u001b[0m\u001b[0;34m.\u001b[0m\u001b[0mget\u001b[0m\u001b[0;34m(\u001b[0m\u001b[0;34m\"https://www.gemeinderat-zuerich.ch/geschaefte\"\u001b[0m\u001b[0;34m)\u001b[0m\u001b[0;34m\u001b[0m\u001b[0;34m\u001b[0m\u001b[0m\n\u001b[1;32m     11\u001b[0m \u001b[0;34m\u001b[0m\u001b[0m\n",
      "\u001b[0;32m~/.virtualenvs/erstesVE/lib/python3.7/site-packages/selenium/webdriver/chrome/webdriver.py\u001b[0m in \u001b[0;36m__init__\u001b[0;34m(self, executable_path, port, options, service_args, desired_capabilities, service_log_path, chrome_options, keep_alive)\u001b[0m\n\u001b[1;32m     71\u001b[0m             \u001b[0mservice_args\u001b[0m\u001b[0;34m=\u001b[0m\u001b[0mservice_args\u001b[0m\u001b[0;34m,\u001b[0m\u001b[0;34m\u001b[0m\u001b[0;34m\u001b[0m\u001b[0m\n\u001b[1;32m     72\u001b[0m             log_path=service_log_path)\n\u001b[0;32m---> 73\u001b[0;31m         \u001b[0mself\u001b[0m\u001b[0;34m.\u001b[0m\u001b[0mservice\u001b[0m\u001b[0;34m.\u001b[0m\u001b[0mstart\u001b[0m\u001b[0;34m(\u001b[0m\u001b[0;34m)\u001b[0m\u001b[0;34m\u001b[0m\u001b[0;34m\u001b[0m\u001b[0m\n\u001b[0m\u001b[1;32m     74\u001b[0m \u001b[0;34m\u001b[0m\u001b[0m\n\u001b[1;32m     75\u001b[0m         \u001b[0;32mtry\u001b[0m\u001b[0;34m:\u001b[0m\u001b[0;34m\u001b[0m\u001b[0;34m\u001b[0m\u001b[0m\n",
      "\u001b[0;32m~/.virtualenvs/erstesVE/lib/python3.7/site-packages/selenium/webdriver/common/service.py\u001b[0m in \u001b[0;36mstart\u001b[0;34m(self)\u001b[0m\n\u001b[1;32m     81\u001b[0m                 raise WebDriverException(\n\u001b[1;32m     82\u001b[0m                     \"'%s' executable needs to be in PATH. %s\" % (\n\u001b[0;32m---> 83\u001b[0;31m                         os.path.basename(self.path), self.start_error_message)\n\u001b[0m\u001b[1;32m     84\u001b[0m                 )\n\u001b[1;32m     85\u001b[0m             \u001b[0;32melif\u001b[0m \u001b[0merr\u001b[0m\u001b[0;34m.\u001b[0m\u001b[0merrno\u001b[0m \u001b[0;34m==\u001b[0m \u001b[0merrno\u001b[0m\u001b[0;34m.\u001b[0m\u001b[0mEACCES\u001b[0m\u001b[0;34m:\u001b[0m\u001b[0;34m\u001b[0m\u001b[0;34m\u001b[0m\u001b[0m\n",
      "\u001b[0;31mWebDriverException\u001b[0m: Message: 'chromedriver' executable needs to be in PATH. Please see https://sites.google.com/a/chromium.org/chromedriver/home\n"
     ]
    }
   ],
   "source": [
    "from selenium import webdriver\n",
    "from selenium.webdriver.common.keys import Keys   # erlaubt Begriff an best. Stelle einzufügen\n",
    "from selenium.webdriver.common.by import By\n",
    "from selenium.webdriver.support.ui import Select  #erlaubt Pulldownmenus zu operieren\n",
    "import time  # um Zeitpausen einzubauen, damit er z.Bsp. die Website laden kann\n",
    "import numpy as np #brauchen wir zum Aufrunden der Seitenzahlen\n",
    "\n",
    "# öffnen der Website\n",
    "driver = webdriver.Chrome(executable_path=\"/usr/local/bin/chromedriver\")\n",
    "driver.get(\"https://www.gemeinderat-zuerich.ch/geschaefte\")\n",
    "\n",
    "time.sleep(3)"
   ]
  },
  {
   "cell_type": "markdown",
   "metadata": {},
   "source": [
    "Hier versuche ich ein Interface zu machen, bei dem man per Eingabe die Geschäftsart und die Jahre ändern kann:"
   ]
  },
  {
   "cell_type": "code",
   "execution_count": 98,
   "metadata": {},
   "outputs": [
    {
     "name": "stdout",
     "output_type": "stream",
     "text": [
      "Geben Sie die Nummer der gewünschten Geschäftsart ein (1 = Motion, 2 = Postulat, 3 = Interpellation): 2\n",
      "Sie haben Postulat gewählt.\n",
      "Geben Sie das gewünschte Jahr ein (0 = alle Jahre): 2014\n",
      "Sie haben das Jahr 2014 gewählt.\n"
     ]
    }
   ],
   "source": [
    "while True:\n",
    "    typ_geschaeft = input(\"Geben Sie die Nummer der gewünschten Geschäftsart ein (1 = Motion, 2 = Postulat, 3 = Interpellation): \")\n",
    "    typ_geschaeft = int(typ_geschaeft)\n",
    "    \n",
    "    if typ_geschaeft in range (1,4):\n",
    "        if typ_geschaeft == 1:\n",
    "            print(\"Sie haben Motion gewählt.\")\n",
    "        elif typ_geschaeft == 2:\n",
    "            print(\"Sie haben Postulat gewählt.\")\n",
    "        elif typ_geschaeft == 3:\n",
    "            print(\"Sie haben Interpellation gewählt.\")\n",
    "        break\n",
    "    print(\"Sie haben eine ungültige Zahl eingegegeben. Bitte wiederholen.\")\n",
    "\n",
    "while True:\n",
    "    jahr_geschaeft = input(\"Geben Sie das gewünschte Jahr ein (0 = alle Jahre): \")\n",
    "    jahr_geschaeft = int(jahr_geschaeft)\n",
    "    \n",
    "    if jahr_geschaeft in range (1970,2020):\n",
    "        print(\"Sie haben das Jahr \"+str(jahr_geschaeft)+\" gewählt.\")\n",
    "        break\n",
    "    elif jahr_geschaeft == 0:\n",
    "        print(\"Sie haben alle verfügbaren Jahre gewählt.\")\n",
    "        break\n",
    "    print(\"Sie haben eine ungültige Zahl eingegegeben. Bitte wiederholen.\")"
   ]
  },
  {
   "cell_type": "code",
   "execution_count": 99,
   "metadata": {},
   "outputs": [],
   "source": [
    "if jahr_geschaeft == 0:\n",
    "    driver.get(\"https://www.gemeinderat-zuerich.ch/geschaefte/#!geschaeftsartId=\"+str(typ_geschaeft)+\"&activePage=1\")\n",
    "else:\n",
    "    driver.get(\"https://www.gemeinderat-zuerich.ch/geschaefte/#!geschaeftsartId=\"+str(typ_geschaeft)+\"&jahr=\"+str(jahr_geschaeft)+\"&activePage=1\")\n",
    "\n",
    "time.sleep(3)"
   ]
  },
  {
   "cell_type": "markdown",
   "metadata": {},
   "source": [
    "Ansteuern der einzelnen Geschäfte (bei voller Seite 10 Stück):"
   ]
  },
  {
   "cell_type": "code",
   "execution_count": 83,
   "metadata": {},
   "outputs": [],
   "source": [
    "geschaefte = driver.find_elements_by_class_name(\"tableDataRow\")"
   ]
  },
  {
   "cell_type": "code",
   "execution_count": 50,
   "metadata": {},
   "outputs": [],
   "source": [
    "for einzelgeschaeft in range(0,9): \n",
    "    geschaefte[einzelgeschaeft].click()"
   ]
  },
  {
   "cell_type": "code",
   "execution_count": 51,
   "metadata": {},
   "outputs": [],
   "source": [
    "page = driver.page_source.encode('utf-8')  "
   ]
  },
  {
   "cell_type": "code",
   "execution_count": 59,
   "metadata": {},
   "outputs": [
    {
     "data": {
      "text/plain": [
       "'2019/524'"
      ]
     },
     "execution_count": 59,
     "metadata": {},
     "output_type": "execute_result"
    }
   ],
   "source": [
    "#hier ist die Geschäftsnummer für den Filetitel:\n",
    "from bs4 import BeautifulSoup\n",
    "soup = BeautifulSoup(page, 'html.parser')\n",
    "nummer = soup.find_all(\"span\")[2].text"
   ]
  },
  {
   "cell_type": "code",
   "execution_count": null,
   "metadata": {},
   "outputs": [],
   "source": [
    "  with open(\"data/geschaeft\"+nummer+\".htm\", \"wb+\") as file:\n",
    "        file.write(page)\n",
    "        file.close()"
   ]
  },
  {
   "cell_type": "markdown",
   "metadata": {},
   "source": [
    "### Jetzt setzen wir mal alles zusammen – 3 Durchläufe mit unterschiedlichen Geschäftsarten:"
   ]
  },
  {
   "cell_type": "code",
   "execution_count": 86,
   "metadata": {},
   "outputs": [],
   "source": [
    "from bs4 import BeautifulSoup\n",
    "from selenium import webdriver\n",
    "from selenium.webdriver.common.keys import Keys   # erlaubt Begriff an best. Stelle einzufügen\n",
    "from selenium.webdriver.common.by import By\n",
    "from selenium.webdriver.support.ui import Select  #erlaubt Pulldownmenus zu operieren\n",
    "import time  # um Zeitpausen einzubauen, damit er z.Bsp. die Website laden kann"
   ]
  },
  {
   "cell_type": "code",
   "execution_count": 87,
   "metadata": {},
   "outputs": [],
   "source": [
    "# öffnen der Website\n",
    "driver = webdriver.Chrome(executable_path=\"/usr/local/bin/chromedriver\")\n",
    "driver.get(\"https://www.gemeinderat-zuerich.ch/geschaefte\")\n",
    "time.sleep(3)"
   ]
  },
  {
   "cell_type": "code",
   "execution_count": 177,
   "metadata": {},
   "outputs": [
    {
     "name": "stdout",
     "output_type": "stream",
     "text": [
      "Geben Sie die Nummer der gewünschten Geschäftsart ein (1 = Motion, 2 = Postulat, 3 = Interpellation): 3\n",
      "Sie haben Interpellation gewählt.\n",
      "Geben Sie das gewünschte Jahr ein (0 = alle Jahre): 1990\n",
      "Sie haben das Jahr 1990 gewählt.\n"
     ]
    }
   ],
   "source": [
    "#Interface für Geschäftstyp und Jahr\n",
    "while True:\n",
    "    typ_geschaeft = input(\"Geben Sie die Nummer der gewünschten Geschäftsart ein (1 = Motion, 2 = Postulat, 3 = Interpellation): \")\n",
    "    typ_geschaeft = int(typ_geschaeft)\n",
    "    \n",
    "    if typ_geschaeft in range (1,4):\n",
    "        if typ_geschaeft == 1:\n",
    "            print(\"Sie haben Motion gewählt.\")\n",
    "        elif typ_geschaeft == 2:\n",
    "            print(\"Sie haben Postulat gewählt.\")\n",
    "        elif typ_geschaeft == 3:\n",
    "            print(\"Sie haben Interpellation gewählt.\")\n",
    "        break\n",
    "    print(\"Sie haben eine ungültige Zahl eingegegeben. Bitte wiederholen.\")\n",
    "\n",
    "while True:\n",
    "    jahr_geschaeft = input(\"Geben Sie das gewünschte Jahr ein (0 = alle Jahre): \")\n",
    "    jahr_geschaeft = int(jahr_geschaeft)\n",
    "    \n",
    "    if jahr_geschaeft in range (1970,2020):\n",
    "        print(\"Sie haben das Jahr \"+str(jahr_geschaeft)+\" gewählt.\")\n",
    "        break\n",
    "    elif jahr_geschaeft == 0:\n",
    "        print(\"Sie haben alle verfügbaren Jahre gewählt.\")\n",
    "        break\n",
    "    print(\"Sie haben eine ungültige Zahl eingegegeben. Bitte wiederholen.\")\n",
    "\n",
    "if jahr_geschaeft == 0:\n",
    "    url = \"https://www.gemeinderat-zuerich.ch/geschaefte/#!geschaeftsartId=\"+str(typ_geschaeft)+\"&activePage=\"\n",
    "    driver.get(url+\"1\")\n",
    "else:\n",
    "    url = \"https://www.gemeinderat-zuerich.ch/geschaefte/#!geschaeftsartId=\"+str(typ_geschaeft)+\"&jahr=\"+str(jahr_geschaeft)+\"&activePage=\"\n",
    "    driver.get(url+\"\")\n",
    "\n",
    "time.sleep(3)"
   ]
  },
  {
   "cell_type": "code",
   "execution_count": 178,
   "metadata": {},
   "outputs": [
    {
     "data": {
      "text/plain": [
       "0"
      ]
     },
     "execution_count": 178,
     "metadata": {},
     "output_type": "execute_result"
    }
   ],
   "source": [
    "#Die Anzahl Seiten-Loops ermittle ich durch den Wert \"Liste der Geschäfte\" geteilt durch 10\n",
    "page = driver.page_source.encode('utf-8')\n",
    "\n",
    "soup1 = BeautifulSoup(page, 'html.parser')\n",
    "span = soup1.find_all(\"span\")\n",
    "treffer = int(span[85].text)\n",
    "seitenzahl = int(np.ceil(treffer/10)) # hier wird mit ceil konsequent aufgerundet\n",
    "seitenzahl"
   ]
  },
  {
   "cell_type": "code",
   "execution_count": 179,
   "metadata": {},
   "outputs": [
    {
     "data": {
      "text/plain": [
       "'https://www.gemeinderat-zuerich.ch/geschaefte/#!geschaeftsartId=3&jahr=1990&activePage='"
      ]
     },
     "execution_count": 179,
     "metadata": {},
     "output_type": "execute_result"
    }
   ],
   "source": [
    "url"
   ]
  },
  {
   "cell_type": "code",
   "execution_count": 180,
   "metadata": {},
   "outputs": [],
   "source": [
    "#Jetzt kommt der übergeordnete Seitenloop:\n",
    "for seite in range(1,seitenzahl+1):\n",
    "    \n",
    "    driver.get(url+str(seite))\n",
    "    time.sleep(3)\n",
    "        \n",
    "    # hier finde ich heraus, wie oft der Loop stattfinden soll\n",
    "    anzahl_geschaefte = len(driver.find_elements_by_class_name(\"tableDataRow\"))\n",
    "\n",
    "    # nacheinander ansteuern jedes Geschäfts und speichern\n",
    "    for einzelgeschaeft in range(0,anzahl_geschaefte): \n",
    "        time.sleep(1)     \n",
    "        geschaefte = driver.find_elements_by_class_name(\"tableDataRow\")\n",
    "        \n",
    "        geschaefte[einzelgeschaeft].click()\n",
    "    \n",
    "        page = driver.page_source.encode('utf-8')\n",
    "    \n",
    "        # hier hole ich für den Filetitel die Geschäftsnummer raus und säubere sie vom \"/\"\n",
    "        soup = BeautifulSoup(page, 'html.parser')\n",
    "        nummer = soup.find_all(\"span\")[2].text\n",
    "        nummer = nummer.replace(\"/\",\"_\")\n",
    "    \n",
    "        with open(\"data/geschaeft\"+nummer+\".htm\", \"wb+\") as file:\n",
    "            file.write(page)\n",
    "            file.close()\n",
    "    \n",
    "        # jetzt gehe ich zurück zur Übersichtsseite und lege eine kurze Pause ein, weil sonst Click z.T. nicht geht \n",
    "        driver.back()"
   ]
  },
  {
   "cell_type": "code",
   "execution_count": null,
   "metadata": {},
   "outputs": [],
   "source": []
  },
  {
   "cell_type": "markdown",
   "metadata": {},
   "source": [
    "### "
   ]
  }
 ],
 "metadata": {
  "kernelspec": {
   "display_name": "Python 3",
   "language": "python",
   "name": "python3"
  },
  "language_info": {
   "codemirror_mode": {
    "name": "ipython",
    "version": 3
   },
   "file_extension": ".py",
   "mimetype": "text/x-python",
   "name": "python",
   "nbconvert_exporter": "python",
   "pygments_lexer": "ipython3",
   "version": "3.7.6"
  }
 },
 "nbformat": 4,
 "nbformat_minor": 2
}
