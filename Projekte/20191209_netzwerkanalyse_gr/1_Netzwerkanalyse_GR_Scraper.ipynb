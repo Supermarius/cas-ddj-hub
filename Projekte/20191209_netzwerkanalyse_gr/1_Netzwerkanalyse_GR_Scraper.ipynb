{
 "cells": [
  {
   "cell_type": "markdown",
   "metadata": {},
   "source": [
    "Idee:\n",
    "- bei allen Motionen, Postulaten und Interpellationen schauen, von wem sie eingereicht wurden\n",
    "- dann jene rausfiltern, bei denen es Mitglieder verschiedener Parteien waren\n",
    "    - die werden dann später für einen Graph in Beziehung zueinander gesetzt\n",
    "- noch mitnehmen, um welches Departemenet es ging\n",
    "    - das wird dann als Attribut für das Edge (die Verbindung) gesetzt"
   ]
  },
  {
   "cell_type": "markdown",
   "metadata": {},
   "source": [
    "### Step 1: Scrapen der GR-Website"
   ]
  },
  {
   "cell_type": "markdown",
   "metadata": {},
   "source": [
    "### 1.1 Zuerst die Motionen"
   ]
  },
  {
   "cell_type": "markdown",
   "metadata": {},
   "source": [
    "Vorgehen:\n",
    "1. Wir rufen alle Seiten auf und ziehen uns die dort notierten Geschäftsnummern raus.\n",
    "2. Diese speichern wir in einer Liste\n",
    "3. Das wiederholen wir mit allen drie Geschäftsarten.\n",
    "4. So können wir dann die Geschäfter direkt ansteueren, idem wir die Nummer in der Suchmaske eingeben.\n",
    "\n",
    "Noch besser: Auf der Seite ist sogar der Direktlink zu jedem Geschäft drin, den können wir rauszupfen und in die Liste knallen."
   ]
  },
  {
   "cell_type": "markdown",
   "metadata": {},
   "source": [
    "**Infos:**\n",
    "\n",
    "Das hier ist der Link für alle Motionen: \n",
    "https://www.gemeinderat-zuerich.ch/geschaefte/#!geschaeftsartId=1&activePage=1\n",
    "Da muss man hinten einfach die Seitennummer anpassen\n",
    "\n",
    "Plus hier die IDs für versch. Geschäfte\n",
    "Motion: geschaeftsartId=1\n",
    "Postulat: geschaeftsartId=2\n",
    "Interpellation: geschaeftsartId=3"
   ]
  },
  {
   "cell_type": "code",
   "execution_count": 6,
   "metadata": {},
   "outputs": [],
   "source": [
    "from selenium import webdriver\n",
    "from selenium.webdriver.common.keys import Keys   # erlaubt Begriff an best. Stelle einzufügen\n",
    "from selenium.webdriver.common.by import By\n",
    "from selenium.webdriver.support.ui import Select  #erlaubt Pulldownmenus zu operieren\n",
    "import time  # um Zeitpausen einzubauen, damit er z.Bsp. die Website laden kann\n",
    "import numpy as np #brauchen wir zum Aufrunden der Seitenzahlen\n",
    "\n",
    "# öffnen der Website\n",
    "driver = webdriver.Chrome(executable_path=\"/usr/local/bin/chromedriver\")\n",
    "driver.get(\"https://www.gemeinderat-zuerich.ch/geschaefte\")\n",
    "\n",
    "time.sleep(3)"
   ]
  },
  {
   "cell_type": "markdown",
   "metadata": {},
   "source": [
    "Hier versuche ich ein Interface zu machen, bei dem man per Eingabe die Geschäftsart und die Jahre ändern kann:"
   ]
  },
  {
   "cell_type": "code",
   "execution_count": 7,
   "metadata": {},
   "outputs": [
    {
     "name": "stdout",
     "output_type": "stream",
     "text": [
      "Geben Sie die Nummer der gewünschten Geschäftsart ein (1 = Motion, 2 = Postulat, 3 = Interpellation, 4 = Schriftliche Anfrage): 4\n",
      "Sie haben Schriftliche Anfrage gewählt.\n",
      "Geben Sie das gewünschte Jahr ein (0 = alle Jahre): 0\n",
      "Sie haben alle verfügbaren Jahre gewählt.\n"
     ]
    }
   ],
   "source": [
    "while True:\n",
    "    typ_geschaeft = input(\"Geben Sie die Nummer der gewünschten Geschäftsart ein (1 = Motion, 2 = Postulat, 3 = Interpellation, 4 = Schriftliche Anfrage): \")\n",
    "    typ_geschaeft = int(typ_geschaeft)\n",
    "    \n",
    "    if typ_geschaeft in range (1,5):\n",
    "        if typ_geschaeft == 1:\n",
    "            print(\"Sie haben Motion gewählt.\")\n",
    "        elif typ_geschaeft == 2:\n",
    "            print(\"Sie haben Postulat gewählt.\")\n",
    "        elif typ_geschaeft == 3:\n",
    "            print(\"Sie haben Interpellation gewählt.\")\n",
    "        elif typ_geschaeft == 4:\n",
    "            print(\"Sie haben Schriftliche Anfrage gewählt.\")\n",
    "        break\n",
    "    print(\"Sie haben eine ungültige Zahl eingegegeben. Bitte wiederholen.\")\n",
    "\n",
    "while True:\n",
    "    jahr_geschaeft = input(\"Geben Sie das gewünschte Jahr ein (0 = alle Jahre): \")\n",
    "    jahr_geschaeft = int(jahr_geschaeft)\n",
    "    \n",
    "    if jahr_geschaeft in range (1970,2020):\n",
    "        print(\"Sie haben das Jahr \"+str(jahr_geschaeft)+\" gewählt.\")\n",
    "        break\n",
    "    elif jahr_geschaeft == 0:\n",
    "        print(\"Sie haben alle verfügbaren Jahre gewählt.\")\n",
    "        break\n",
    "    print(\"Sie haben eine ungültige Zahl eingegegeben. Bitte wiederholen.\")"
   ]
  },
  {
   "cell_type": "code",
   "execution_count": 8,
   "metadata": {},
   "outputs": [],
   "source": [
    "if jahr_geschaeft == 0:\n",
    "    driver.get(\"https://www.gemeinderat-zuerich.ch/geschaefte/#!geschaeftsartId=\"+str(typ_geschaeft)+\"&activePage=1\")\n",
    "else:\n",
    "    driver.get(\"https://www.gemeinderat-zuerich.ch/geschaefte/#!geschaeftsartId=\"+str(typ_geschaeft)+\"&jahr=\"+str(jahr_geschaeft)+\"&activePage=1\")\n",
    "\n",
    "time.sleep(3)"
   ]
  },
  {
   "cell_type": "markdown",
   "metadata": {},
   "source": [
    "Ansteuern der einzelnen Geschäfte (bei voller Seite 10 Stück):"
   ]
  },
  {
   "cell_type": "code",
   "execution_count": 83,
   "metadata": {},
   "outputs": [],
   "source": [
    "geschaefte = driver.find_elements_by_class_name(\"tableDataRow\")"
   ]
  },
  {
   "cell_type": "code",
   "execution_count": 50,
   "metadata": {},
   "outputs": [],
   "source": [
    "for einzelgeschaeft in range(0,9): \n",
    "    geschaefte[einzelgeschaeft].click()"
   ]
  },
  {
   "cell_type": "code",
   "execution_count": 51,
   "metadata": {},
   "outputs": [],
   "source": [
    "page = driver.page_source.encode('utf-8')  "
   ]
  },
  {
   "cell_type": "code",
   "execution_count": 59,
   "metadata": {},
   "outputs": [
    {
     "data": {
      "text/plain": [
       "'2019/524'"
      ]
     },
     "execution_count": 59,
     "metadata": {},
     "output_type": "execute_result"
    }
   ],
   "source": [
    "#hier ist die Geschäftsnummer für den Filetitel:\n",
    "from bs4 import BeautifulSoup\n",
    "soup = BeautifulSoup(page, 'html.parser')\n",
    "nummer = soup.find_all(\"span\")[2].text"
   ]
  },
  {
   "cell_type": "code",
   "execution_count": null,
   "metadata": {},
   "outputs": [],
   "source": [
    "  with open(\"data/geschaeft\"+nummer+\".htm\", \"wb+\") as file:\n",
    "        file.write(page)\n",
    "        file.close()"
   ]
  },
  {
   "cell_type": "markdown",
   "metadata": {},
   "source": [
    "### Jetzt setzen wir mal alles zusammen – 3 Durchläufe mit unterschiedlichen Geschäftsarten:"
   ]
  },
  {
   "cell_type": "code",
   "execution_count": 9,
   "metadata": {},
   "outputs": [],
   "source": [
    "from bs4 import BeautifulSoup\n",
    "from selenium import webdriver\n",
    "from selenium.webdriver.common.keys import Keys   # erlaubt Begriff an best. Stelle einzufügen\n",
    "from selenium.webdriver.common.by import By\n",
    "from selenium.webdriver.support.ui import Select  #erlaubt Pulldownmenus zu operieren\n",
    "import time  # um Zeitpausen einzubauen, damit er z.Bsp. die Website laden kann"
   ]
  },
  {
   "cell_type": "code",
   "execution_count": 10,
   "metadata": {},
   "outputs": [],
   "source": [
    "# öffnen der Website\n",
    "driver = webdriver.Chrome(executable_path=\"/usr/local/bin/chromedriver\")\n",
    "driver.get(\"https://www.gemeinderat-zuerich.ch/geschaefte\")\n",
    "time.sleep(3)"
   ]
  },
  {
   "cell_type": "code",
   "execution_count": 15,
   "metadata": {},
   "outputs": [
    {
     "name": "stdout",
     "output_type": "stream",
     "text": [
      "Geben Sie die Nummer der gewünschten Geschäftsart ein (1 = Motion, 2 = Postulat, 3 = Interpellation, 4 = Schriftliche Anfrage): 4\n",
      "Sie haben Schriftliche Anfrage gewählt.\n",
      "Geben Sie das gewünschte Jahr ein (0 = alle Jahre): 0\n",
      "Sie haben alle verfügbaren Jahre gewählt.\n"
     ]
    }
   ],
   "source": [
    "#Interface für Geschäftstyp und Jahr\n",
    "while True:\n",
    "    typ_geschaeft = input(\"Geben Sie die Nummer der gewünschten Geschäftsart ein (1 = Motion, 2 = Postulat, 3 = Interpellation, 4 = Schriftliche Anfrage): \")\n",
    "    typ_geschaeft = int(typ_geschaeft)\n",
    "    \n",
    "    if typ_geschaeft in range (1,5):\n",
    "        if typ_geschaeft == 1:\n",
    "            print(\"Sie haben Motion gewählt.\")\n",
    "        elif typ_geschaeft == 2:\n",
    "            print(\"Sie haben Postulat gewählt.\")\n",
    "        elif typ_geschaeft == 3:\n",
    "            print(\"Sie haben Interpellation gewählt.\")\n",
    "        elif typ_geschaeft == 4:\n",
    "            print(\"Sie haben Schriftliche Anfrage gewählt.\")\n",
    "        break\n",
    "    print(\"Sie haben eine ungültige Zahl eingegegeben. Bitte wiederholen.\")\n",
    "\n",
    "while True:\n",
    "    jahr_geschaeft = input(\"Geben Sie das gewünschte Jahr ein (0 = alle Jahre): \")\n",
    "    jahr_geschaeft = int(jahr_geschaeft)\n",
    "    \n",
    "    if jahr_geschaeft in range (1970,2020):\n",
    "        print(\"Sie haben das Jahr \"+str(jahr_geschaeft)+\" gewählt.\")\n",
    "        break\n",
    "    elif jahr_geschaeft == 0:\n",
    "        print(\"Sie haben alle verfügbaren Jahre gewählt.\")\n",
    "        break\n",
    "    print(\"Sie haben eine ungültige Zahl eingegegeben. Bitte wiederholen.\")\n",
    "\n",
    "if jahr_geschaeft == 0:\n",
    "    url = \"https://www.gemeinderat-zuerich.ch/geschaefte/#!geschaeftsartId=\"+str(typ_geschaeft)+\"&activePage=\"\n",
    "    driver.get(url+\"1\")\n",
    "else:\n",
    "    url = \"https://www.gemeinderat-zuerich.ch/geschaefte/#!geschaeftsartId=\"+str(typ_geschaeft)+\"&jahr=\"+str(jahr_geschaeft)+\"&activePage=\"\n",
    "    driver.get(url+\"\")\n",
    "\n",
    "time.sleep(3)"
   ]
  },
  {
   "cell_type": "code",
   "execution_count": 16,
   "metadata": {},
   "outputs": [
    {
     "data": {
      "text/plain": [
       "195"
      ]
     },
     "execution_count": 16,
     "metadata": {},
     "output_type": "execute_result"
    }
   ],
   "source": [
    "#Die Anzahl Seiten-Loops ermittle ich durch den Wert \"Liste der Geschäfte\" geteilt durch 10\n",
    "page = driver.page_source.encode('utf-8')\n",
    "\n",
    "soup1 = BeautifulSoup(page, 'html.parser')\n",
    "span = soup1.find_all(\"span\")\n",
    "treffer = int(span[85].text)\n",
    "seitenzahl = int(np.ceil(treffer/10)) # hier wird mit ceil konsequent aufgerundet\n",
    "seitenzahl"
   ]
  },
  {
   "cell_type": "code",
   "execution_count": 17,
   "metadata": {},
   "outputs": [
    {
     "data": {
      "text/plain": [
       "'https://www.gemeinderat-zuerich.ch/geschaefte/#!geschaeftsartId=4&activePage='"
      ]
     },
     "execution_count": 17,
     "metadata": {},
     "output_type": "execute_result"
    }
   ],
   "source": [
    "url"
   ]
  },
  {
   "cell_type": "code",
   "execution_count": 18,
   "metadata": {},
   "outputs": [],
   "source": [
    "#Jetzt kommt der übergeordnete Seitenloop:\n",
    "for seite in range(1,seitenzahl+1):\n",
    "    \n",
    "    driver.get(url+str(seite))\n",
    "    time.sleep(3)\n",
    "        \n",
    "    # hier finde ich heraus, wie oft der Loop stattfinden soll\n",
    "    anzahl_geschaefte = len(driver.find_elements_by_class_name(\"tableDataRow\"))\n",
    "\n",
    "    # nacheinander ansteuern jedes Geschäfts und speichern\n",
    "    for einzelgeschaeft in range(0,anzahl_geschaefte): \n",
    "        time.sleep(1)     \n",
    "        geschaefte = driver.find_elements_by_class_name(\"tableDataRow\")\n",
    "        \n",
    "        geschaefte[einzelgeschaeft].click()\n",
    "    \n",
    "        page = driver.page_source.encode('utf-8')\n",
    "    \n",
    "        # hier hole ich für den Filetitel die Geschäftsnummer raus und säubere sie vom \"/\"\n",
    "        soup = BeautifulSoup(page, 'html.parser')\n",
    "        nummer = soup.find_all(\"span\")[2].text\n",
    "        nummer = nummer.replace(\"/\",\"_\")\n",
    "    \n",
    "        with open(\"data/geschaeft\"+nummer+\".htm\", \"wb+\") as file:\n",
    "            file.write(page)\n",
    "            file.close()\n",
    "    \n",
    "        # jetzt gehe ich zurück zur Übersichtsseite und lege eine kurze Pause ein, weil sonst Click z.T. nicht geht \n",
    "        driver.back()"
   ]
  },
  {
   "cell_type": "code",
   "execution_count": null,
   "metadata": {},
   "outputs": [],
   "source": []
  },
  {
   "cell_type": "markdown",
   "metadata": {},
   "source": [
    "### "
   ]
  }
 ],
 "metadata": {
  "kernelspec": {
   "display_name": "Python 3",
   "language": "python",
   "name": "python3"
  }
 },
 "nbformat": 4,
 "nbformat_minor": 2
}
