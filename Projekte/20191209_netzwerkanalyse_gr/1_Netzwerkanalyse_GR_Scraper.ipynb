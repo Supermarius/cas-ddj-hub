{
 "cells": [
  {
   "cell_type": "markdown",
   "metadata": {},
   "source": [
    "Idee:\n",
    "- bei allen Motionen, Postulaten und Interpellationen schauen, von wem sie eingereicht wurden\n",
    "- dann jene rausfiltern, bei denen es Mitglieder verschiedener Parteien waren\n",
    "    - die werden dann später für einen Graph in Beziehung zueinander gesetzt\n",
    "- noch mitnehmen, um welches Departemenet es ging\n",
    "    - das wird dann als Attribut für das Edge (die Verbindung) gesetzt"
   ]
  },
  {
   "cell_type": "markdown",
   "metadata": {},
   "source": [
    "### Step 1: Scrapen der GR-Website"
   ]
  },
  {
   "cell_type": "markdown",
   "metadata": {},
   "source": [
    "### 1.1 Zuerst die Motionen"
   ]
  },
  {
   "cell_type": "markdown",
   "metadata": {},
   "source": [
    "Vorgehen:\n",
    "1. Wir rufen alle Seiten auf und ziehen uns die dort notierten Geschäftsnummern raus.\n",
    "2. Diese speichern wir in einer Liste\n",
    "3. Das wiederholen wir mit allen drie Geschäftsarten.\n",
    "4. So können wir dann die Geschäfter direkt ansteueren, idem wir die Nummer in der Suchmaske eingeben.\n",
    "\n",
    "Noch besser: Auf der Seite ist sogar der Direktlink zu jedem Geschäft drin, den können wir rauszupfen und in die Liste knallen."
   ]
  },
  {
   "cell_type": "markdown",
   "metadata": {},
   "source": [
    "**Infos:**\n",
    "\n",
    "Das hier ist der Link für alle Motionen: \n",
    "https://www.gemeinderat-zuerich.ch/geschaefte/#!geschaeftsartId=1&activePage=1\n",
    "Da muss man hinten einfach die Seitennummer anpassen\n",
    "\n",
    "Plus hier die IDs für versch. Geschäfte\n",
    "Motion: geschaeftsartId=1\n",
    "Postulat: geschaeftsartId=2\n",
    "Interpellation: geschaeftsartId=3"
   ]
  },
  {
   "cell_type": "code",
   "execution_count": 1,
   "metadata": {},
   "outputs": [
    {
     "ename": "SessionNotCreatedException",
     "evalue": "Message: session not created: This version of ChromeDriver only supports Chrome version 77\n",
     "output_type": "error",
     "traceback": [
      "\u001b[0;31m---------------------------------------------------------------------------\u001b[0m",
      "\u001b[0;31mSessionNotCreatedException\u001b[0m                Traceback (most recent call last)",
      "\u001b[0;32m<ipython-input-1-52e57d04dd8d>\u001b[0m in \u001b[0;36m<module>\u001b[0;34m\u001b[0m\n\u001b[1;32m      7\u001b[0m \u001b[0;34m\u001b[0m\u001b[0m\n\u001b[1;32m      8\u001b[0m \u001b[0;31m# öffnen der Website\u001b[0m\u001b[0;34m\u001b[0m\u001b[0;34m\u001b[0m\u001b[0;34m\u001b[0m\u001b[0m\n\u001b[0;32m----> 9\u001b[0;31m \u001b[0mdriver\u001b[0m \u001b[0;34m=\u001b[0m \u001b[0mwebdriver\u001b[0m\u001b[0;34m.\u001b[0m\u001b[0mChrome\u001b[0m\u001b[0;34m(\u001b[0m\u001b[0mexecutable_path\u001b[0m\u001b[0;34m=\u001b[0m\u001b[0;34m\"/usr/local/bin/chromedriver\"\u001b[0m\u001b[0;34m)\u001b[0m\u001b[0;34m\u001b[0m\u001b[0;34m\u001b[0m\u001b[0m\n\u001b[0m\u001b[1;32m     10\u001b[0m \u001b[0mdriver\u001b[0m\u001b[0;34m.\u001b[0m\u001b[0mget\u001b[0m\u001b[0;34m(\u001b[0m\u001b[0;34m\"https://www.gemeinderat-zuerich.ch/geschaefte\"\u001b[0m\u001b[0;34m)\u001b[0m\u001b[0;34m\u001b[0m\u001b[0;34m\u001b[0m\u001b[0m\n\u001b[1;32m     11\u001b[0m \u001b[0;34m\u001b[0m\u001b[0m\n",
      "\u001b[0;32m~/.virtualenvs/erstesVE/lib/python3.7/site-packages/selenium/webdriver/chrome/webdriver.py\u001b[0m in \u001b[0;36m__init__\u001b[0;34m(self, executable_path, port, options, service_args, desired_capabilities, service_log_path, chrome_options, keep_alive)\u001b[0m\n\u001b[1;32m     79\u001b[0m                     \u001b[0mremote_server_addr\u001b[0m\u001b[0;34m=\u001b[0m\u001b[0mself\u001b[0m\u001b[0;34m.\u001b[0m\u001b[0mservice\u001b[0m\u001b[0;34m.\u001b[0m\u001b[0mservice_url\u001b[0m\u001b[0;34m,\u001b[0m\u001b[0;34m\u001b[0m\u001b[0;34m\u001b[0m\u001b[0m\n\u001b[1;32m     80\u001b[0m                     keep_alive=keep_alive),\n\u001b[0;32m---> 81\u001b[0;31m                 desired_capabilities=desired_capabilities)\n\u001b[0m\u001b[1;32m     82\u001b[0m         \u001b[0;32mexcept\u001b[0m \u001b[0mException\u001b[0m\u001b[0;34m:\u001b[0m\u001b[0;34m\u001b[0m\u001b[0;34m\u001b[0m\u001b[0m\n\u001b[1;32m     83\u001b[0m             \u001b[0mself\u001b[0m\u001b[0;34m.\u001b[0m\u001b[0mquit\u001b[0m\u001b[0;34m(\u001b[0m\u001b[0;34m)\u001b[0m\u001b[0;34m\u001b[0m\u001b[0;34m\u001b[0m\u001b[0m\n",
      "\u001b[0;32m~/.virtualenvs/erstesVE/lib/python3.7/site-packages/selenium/webdriver/remote/webdriver.py\u001b[0m in \u001b[0;36m__init__\u001b[0;34m(self, command_executor, desired_capabilities, browser_profile, proxy, keep_alive, file_detector, options)\u001b[0m\n\u001b[1;32m    155\u001b[0m             warnings.warn(\"Please use FirefoxOptions to set browser profile\",\n\u001b[1;32m    156\u001b[0m                           DeprecationWarning, stacklevel=2)\n\u001b[0;32m--> 157\u001b[0;31m         \u001b[0mself\u001b[0m\u001b[0;34m.\u001b[0m\u001b[0mstart_session\u001b[0m\u001b[0;34m(\u001b[0m\u001b[0mcapabilities\u001b[0m\u001b[0;34m,\u001b[0m \u001b[0mbrowser_profile\u001b[0m\u001b[0;34m)\u001b[0m\u001b[0;34m\u001b[0m\u001b[0;34m\u001b[0m\u001b[0m\n\u001b[0m\u001b[1;32m    158\u001b[0m         \u001b[0mself\u001b[0m\u001b[0;34m.\u001b[0m\u001b[0m_switch_to\u001b[0m \u001b[0;34m=\u001b[0m \u001b[0mSwitchTo\u001b[0m\u001b[0;34m(\u001b[0m\u001b[0mself\u001b[0m\u001b[0;34m)\u001b[0m\u001b[0;34m\u001b[0m\u001b[0;34m\u001b[0m\u001b[0m\n\u001b[1;32m    159\u001b[0m         \u001b[0mself\u001b[0m\u001b[0;34m.\u001b[0m\u001b[0m_mobile\u001b[0m \u001b[0;34m=\u001b[0m \u001b[0mMobile\u001b[0m\u001b[0;34m(\u001b[0m\u001b[0mself\u001b[0m\u001b[0;34m)\u001b[0m\u001b[0;34m\u001b[0m\u001b[0;34m\u001b[0m\u001b[0m\n",
      "\u001b[0;32m~/.virtualenvs/erstesVE/lib/python3.7/site-packages/selenium/webdriver/remote/webdriver.py\u001b[0m in \u001b[0;36mstart_session\u001b[0;34m(self, capabilities, browser_profile)\u001b[0m\n\u001b[1;32m    250\u001b[0m         parameters = {\"capabilities\": w3c_caps,\n\u001b[1;32m    251\u001b[0m                       \"desiredCapabilities\": capabilities}\n\u001b[0;32m--> 252\u001b[0;31m         \u001b[0mresponse\u001b[0m \u001b[0;34m=\u001b[0m \u001b[0mself\u001b[0m\u001b[0;34m.\u001b[0m\u001b[0mexecute\u001b[0m\u001b[0;34m(\u001b[0m\u001b[0mCommand\u001b[0m\u001b[0;34m.\u001b[0m\u001b[0mNEW_SESSION\u001b[0m\u001b[0;34m,\u001b[0m \u001b[0mparameters\u001b[0m\u001b[0;34m)\u001b[0m\u001b[0;34m\u001b[0m\u001b[0;34m\u001b[0m\u001b[0m\n\u001b[0m\u001b[1;32m    253\u001b[0m         \u001b[0;32mif\u001b[0m \u001b[0;34m'sessionId'\u001b[0m \u001b[0;32mnot\u001b[0m \u001b[0;32min\u001b[0m \u001b[0mresponse\u001b[0m\u001b[0;34m:\u001b[0m\u001b[0;34m\u001b[0m\u001b[0;34m\u001b[0m\u001b[0m\n\u001b[1;32m    254\u001b[0m             \u001b[0mresponse\u001b[0m \u001b[0;34m=\u001b[0m \u001b[0mresponse\u001b[0m\u001b[0;34m[\u001b[0m\u001b[0;34m'value'\u001b[0m\u001b[0;34m]\u001b[0m\u001b[0;34m\u001b[0m\u001b[0;34m\u001b[0m\u001b[0m\n",
      "\u001b[0;32m~/.virtualenvs/erstesVE/lib/python3.7/site-packages/selenium/webdriver/remote/webdriver.py\u001b[0m in \u001b[0;36mexecute\u001b[0;34m(self, driver_command, params)\u001b[0m\n\u001b[1;32m    319\u001b[0m         \u001b[0mresponse\u001b[0m \u001b[0;34m=\u001b[0m \u001b[0mself\u001b[0m\u001b[0;34m.\u001b[0m\u001b[0mcommand_executor\u001b[0m\u001b[0;34m.\u001b[0m\u001b[0mexecute\u001b[0m\u001b[0;34m(\u001b[0m\u001b[0mdriver_command\u001b[0m\u001b[0;34m,\u001b[0m \u001b[0mparams\u001b[0m\u001b[0;34m)\u001b[0m\u001b[0;34m\u001b[0m\u001b[0;34m\u001b[0m\u001b[0m\n\u001b[1;32m    320\u001b[0m         \u001b[0;32mif\u001b[0m \u001b[0mresponse\u001b[0m\u001b[0;34m:\u001b[0m\u001b[0;34m\u001b[0m\u001b[0;34m\u001b[0m\u001b[0m\n\u001b[0;32m--> 321\u001b[0;31m             \u001b[0mself\u001b[0m\u001b[0;34m.\u001b[0m\u001b[0merror_handler\u001b[0m\u001b[0;34m.\u001b[0m\u001b[0mcheck_response\u001b[0m\u001b[0;34m(\u001b[0m\u001b[0mresponse\u001b[0m\u001b[0;34m)\u001b[0m\u001b[0;34m\u001b[0m\u001b[0;34m\u001b[0m\u001b[0m\n\u001b[0m\u001b[1;32m    322\u001b[0m             response['value'] = self._unwrap_value(\n\u001b[1;32m    323\u001b[0m                 response.get('value', None))\n",
      "\u001b[0;32m~/.virtualenvs/erstesVE/lib/python3.7/site-packages/selenium/webdriver/remote/errorhandler.py\u001b[0m in \u001b[0;36mcheck_response\u001b[0;34m(self, response)\u001b[0m\n\u001b[1;32m    240\u001b[0m                 \u001b[0malert_text\u001b[0m \u001b[0;34m=\u001b[0m \u001b[0mvalue\u001b[0m\u001b[0;34m[\u001b[0m\u001b[0;34m'alert'\u001b[0m\u001b[0;34m]\u001b[0m\u001b[0;34m.\u001b[0m\u001b[0mget\u001b[0m\u001b[0;34m(\u001b[0m\u001b[0;34m'text'\u001b[0m\u001b[0;34m)\u001b[0m\u001b[0;34m\u001b[0m\u001b[0;34m\u001b[0m\u001b[0m\n\u001b[1;32m    241\u001b[0m             \u001b[0;32mraise\u001b[0m \u001b[0mexception_class\u001b[0m\u001b[0;34m(\u001b[0m\u001b[0mmessage\u001b[0m\u001b[0;34m,\u001b[0m \u001b[0mscreen\u001b[0m\u001b[0;34m,\u001b[0m \u001b[0mstacktrace\u001b[0m\u001b[0;34m,\u001b[0m \u001b[0malert_text\u001b[0m\u001b[0;34m)\u001b[0m\u001b[0;34m\u001b[0m\u001b[0;34m\u001b[0m\u001b[0m\n\u001b[0;32m--> 242\u001b[0;31m         \u001b[0;32mraise\u001b[0m \u001b[0mexception_class\u001b[0m\u001b[0;34m(\u001b[0m\u001b[0mmessage\u001b[0m\u001b[0;34m,\u001b[0m \u001b[0mscreen\u001b[0m\u001b[0;34m,\u001b[0m \u001b[0mstacktrace\u001b[0m\u001b[0;34m)\u001b[0m\u001b[0;34m\u001b[0m\u001b[0;34m\u001b[0m\u001b[0m\n\u001b[0m\u001b[1;32m    243\u001b[0m \u001b[0;34m\u001b[0m\u001b[0m\n\u001b[1;32m    244\u001b[0m     \u001b[0;32mdef\u001b[0m \u001b[0m_value_or_default\u001b[0m\u001b[0;34m(\u001b[0m\u001b[0mself\u001b[0m\u001b[0;34m,\u001b[0m \u001b[0mobj\u001b[0m\u001b[0;34m,\u001b[0m \u001b[0mkey\u001b[0m\u001b[0;34m,\u001b[0m \u001b[0mdefault\u001b[0m\u001b[0;34m)\u001b[0m\u001b[0;34m:\u001b[0m\u001b[0;34m\u001b[0m\u001b[0;34m\u001b[0m\u001b[0m\n",
      "\u001b[0;31mSessionNotCreatedException\u001b[0m: Message: session not created: This version of ChromeDriver only supports Chrome version 77\n"
     ]
    }
   ],
   "source": [
    "from selenium import webdriver\n",
    "from selenium.webdriver.common.keys import Keys   # erlaubt Begriff an best. Stelle einzufügen\n",
    "from selenium.webdriver.common.by import By\n",
    "from selenium.webdriver.support.ui import Select  #erlaubt Pulldownmenus zu operieren\n",
    "import time  # um Zeitpausen einzubauen, damit er z.Bsp. die Website laden kann\n",
    "import numpy as np #brauchen wir zum Aufrunden der Seitenzahlen\n",
    "\n",
    "# öffnen der Website\n",
    "driver = webdriver.Chrome(executable_path=\"/usr/local/bin/chromedriver\")\n",
    "driver.get(\"https://www.gemeinderat-zuerich.ch/geschaefte\")\n",
    "\n",
    "time.sleep(3)"
   ]
  },
  {
   "cell_type": "markdown",
   "metadata": {},
   "source": [
    "Hier versuche ich ein Interface zu machen, bei dem man per Eingabe die Geschäftsart und die Jahre ändern kann:"
   ]
  },
  {
   "cell_type": "code",
   "execution_count": 98,
   "metadata": {},
   "outputs": [
    {
     "name": "stdout",
     "output_type": "stream",
     "text": [
      "Geben Sie die Nummer der gewünschten Geschäftsart ein (1 = Motion, 2 = Postulat, 3 = Interpellation): 2\n",
      "Sie haben Postulat gewählt.\n",
      "Geben Sie das gewünschte Jahr ein (0 = alle Jahre): 2014\n",
      "Sie haben das Jahr 2014 gewählt.\n"
     ]
    }
   ],
   "source": [
    "while True:\n",
    "    typ_geschaeft = input(\"Geben Sie die Nummer der gewünschten Geschäftsart ein (1 = Motion, 2 = Postulat, 3 = Interpellation): \")\n",
    "    typ_geschaeft = int(typ_geschaeft)\n",
    "    \n",
    "    if typ_geschaeft in range (1,4):\n",
    "        if typ_geschaeft == 1:\n",
    "            print(\"Sie haben Motion gewählt.\")\n",
    "        elif typ_geschaeft == 2:\n",
    "            print(\"Sie haben Postulat gewählt.\")\n",
    "        elif typ_geschaeft == 3:\n",
    "            print(\"Sie haben Interpellation gewählt.\")\n",
    "        break\n",
    "    print(\"Sie haben eine ungültige Zahl eingegegeben. Bitte wiederholen.\")\n",
    "\n",
    "while True:\n",
    "    jahr_geschaeft = input(\"Geben Sie das gewünschte Jahr ein (0 = alle Jahre): \")\n",
    "    jahr_geschaeft = int(jahr_geschaeft)\n",
    "    \n",
    "    if jahr_geschaeft in range (1970,2020):\n",
    "        print(\"Sie haben das Jahr \"+str(jahr_geschaeft)+\" gewählt.\")\n",
    "        break\n",
    "    elif jahr_geschaeft == 0:\n",
    "        print(\"Sie haben alle verfügbaren Jahre gewählt.\")\n",
    "        break\n",
    "    print(\"Sie haben eine ungültige Zahl eingegegeben. Bitte wiederholen.\")"
   ]
  },
  {
   "cell_type": "code",
   "execution_count": 99,
   "metadata": {},
   "outputs": [],
   "source": [
    "if jahr_geschaeft == 0:\n",
    "    driver.get(\"https://www.gemeinderat-zuerich.ch/geschaefte/#!geschaeftsartId=\"+str(typ_geschaeft)+\"&activePage=1\")\n",
    "else:\n",
    "    driver.get(\"https://www.gemeinderat-zuerich.ch/geschaefte/#!geschaeftsartId=\"+str(typ_geschaeft)+\"&jahr=\"+str(jahr_geschaeft)+\"&activePage=1\")\n",
    "\n",
    "time.sleep(3)"
   ]
  },
  {
   "cell_type": "markdown",
   "metadata": {},
   "source": [
    "Ansteuern der einzelnen Geschäfte (bei voller Seite 10 Stück):"
   ]
  },
  {
   "cell_type": "code",
   "execution_count": 83,
   "metadata": {},
   "outputs": [],
   "source": [
    "geschaefte = driver.find_elements_by_class_name(\"tableDataRow\")"
   ]
  },
  {
   "cell_type": "code",
   "execution_count": 50,
   "metadata": {},
   "outputs": [],
   "source": [
    "for einzelgeschaeft in range(0,9): \n",
    "    geschaefte[einzelgeschaeft].click()"
   ]
  },
  {
   "cell_type": "code",
   "execution_count": 51,
   "metadata": {},
   "outputs": [],
   "source": [
    "page = driver.page_source.encode('utf-8')  "
   ]
  },
  {
   "cell_type": "code",
   "execution_count": 59,
   "metadata": {},
   "outputs": [
    {
     "data": {
      "text/plain": [
       "'2019/524'"
      ]
     },
     "execution_count": 59,
     "metadata": {},
     "output_type": "execute_result"
    }
   ],
   "source": [
    "#hier ist die Geschäftsnummer für den Filetitel:\n",
    "from bs4 import BeautifulSoup\n",
    "soup = BeautifulSoup(page, 'html.parser')\n",
    "nummer = soup.find_all(\"span\")[2].text"
   ]
  },
  {
   "cell_type": "code",
   "execution_count": null,
   "metadata": {},
   "outputs": [],
   "source": [
    "  with open(\"data/geschaeft\"+nummer+\".htm\", \"wb+\") as file:\n",
    "        file.write(page)\n",
    "        file.close()"
   ]
  },
  {
   "cell_type": "markdown",
   "metadata": {},
   "source": [
    "### Jetzt setzen wir mal alles zusammen – 3 Durchläufe mit unterschiedlichen Geschäftsarten:"
   ]
  },
  {
   "cell_type": "code",
   "execution_count": 86,
   "metadata": {},
   "outputs": [],
   "source": [
    "from bs4 import BeautifulSoup\n",
    "from selenium import webdriver\n",
    "from selenium.webdriver.common.keys import Keys   # erlaubt Begriff an best. Stelle einzufügen\n",
    "from selenium.webdriver.common.by import By\n",
    "from selenium.webdriver.support.ui import Select  #erlaubt Pulldownmenus zu operieren\n",
    "import time  # um Zeitpausen einzubauen, damit er z.Bsp. die Website laden kann"
   ]
  },
  {
   "cell_type": "code",
   "execution_count": 87,
   "metadata": {},
   "outputs": [],
   "source": [
    "# öffnen der Website\n",
    "driver = webdriver.Chrome(executable_path=\"/usr/local/bin/chromedriver\")\n",
    "driver.get(\"https://www.gemeinderat-zuerich.ch/geschaefte\")\n",
    "time.sleep(3)"
   ]
  },
  {
   "cell_type": "code",
   "execution_count": 177,
   "metadata": {},
   "outputs": [
    {
     "name": "stdout",
     "output_type": "stream",
     "text": [
      "Geben Sie die Nummer der gewünschten Geschäftsart ein (1 = Motion, 2 = Postulat, 3 = Interpellation): 3\n",
      "Sie haben Interpellation gewählt.\n",
      "Geben Sie das gewünschte Jahr ein (0 = alle Jahre): 1990\n",
      "Sie haben das Jahr 1990 gewählt.\n"
     ]
    }
   ],
   "source": [
    "#Interface für Geschäftstyp und Jahr\n",
    "while True:\n",
    "    typ_geschaeft = input(\"Geben Sie die Nummer der gewünschten Geschäftsart ein (1 = Motion, 2 = Postulat, 3 = Interpellation): \")\n",
    "    typ_geschaeft = int(typ_geschaeft)\n",
    "    \n",
    "    if typ_geschaeft in range (1,4):\n",
    "        if typ_geschaeft == 1:\n",
    "            print(\"Sie haben Motion gewählt.\")\n",
    "        elif typ_geschaeft == 2:\n",
    "            print(\"Sie haben Postulat gewählt.\")\n",
    "        elif typ_geschaeft == 3:\n",
    "            print(\"Sie haben Interpellation gewählt.\")\n",
    "        break\n",
    "    print(\"Sie haben eine ungültige Zahl eingegegeben. Bitte wiederholen.\")\n",
    "\n",
    "while True:\n",
    "    jahr_geschaeft = input(\"Geben Sie das gewünschte Jahr ein (0 = alle Jahre): \")\n",
    "    jahr_geschaeft = int(jahr_geschaeft)\n",
    "    \n",
    "    if jahr_geschaeft in range (1970,2020):\n",
    "        print(\"Sie haben das Jahr \"+str(jahr_geschaeft)+\" gewählt.\")\n",
    "        break\n",
    "    elif jahr_geschaeft == 0:\n",
    "        print(\"Sie haben alle verfügbaren Jahre gewählt.\")\n",
    "        break\n",
    "    print(\"Sie haben eine ungültige Zahl eingegegeben. Bitte wiederholen.\")\n",
    "\n",
    "if jahr_geschaeft == 0:\n",
    "    url = \"https://www.gemeinderat-zuerich.ch/geschaefte/#!geschaeftsartId=\"+str(typ_geschaeft)+\"&activePage=\"\n",
    "    driver.get(url+\"1\")\n",
    "else:\n",
    "    url = \"https://www.gemeinderat-zuerich.ch/geschaefte/#!geschaeftsartId=\"+str(typ_geschaeft)+\"&jahr=\"+str(jahr_geschaeft)+\"&activePage=\"\n",
    "    driver.get(url+\"\")\n",
    "\n",
    "time.sleep(3)"
   ]
  },
  {
   "cell_type": "code",
   "execution_count": 178,
   "metadata": {},
   "outputs": [
    {
     "data": {
      "text/plain": [
       "0"
      ]
     },
     "execution_count": 178,
     "metadata": {},
     "output_type": "execute_result"
    }
   ],
   "source": [
    "#Die Anzahl Seiten-Loops ermittle ich durch den Wert \"Liste der Geschäfte\" geteilt durch 10\n",
    "page = driver.page_source.encode('utf-8')\n",
    "\n",
    "soup1 = BeautifulSoup(page, 'html.parser')\n",
    "span = soup1.find_all(\"span\")\n",
    "treffer = int(span[85].text)\n",
    "seitenzahl = int(np.ceil(treffer/10)) # hier wird mit ceil konsequent aufgerundet\n",
    "seitenzahl"
   ]
  },
  {
   "cell_type": "code",
   "execution_count": 179,
   "metadata": {},
   "outputs": [
    {
     "data": {
      "text/plain": [
       "'https://www.gemeinderat-zuerich.ch/geschaefte/#!geschaeftsartId=3&jahr=1990&activePage='"
      ]
     },
     "execution_count": 179,
     "metadata": {},
     "output_type": "execute_result"
    }
   ],
   "source": [
    "url"
   ]
  },
  {
   "cell_type": "code",
   "execution_count": 180,
   "metadata": {},
   "outputs": [],
   "source": [
    "#Jetzt kommt der übergeordnete Seitenloop:\n",
    "for seite in range(1,seitenzahl+1):\n",
    "    \n",
    "    driver.get(url+str(seite))\n",
    "    time.sleep(3)\n",
    "        \n",
    "    # hier finde ich heraus, wie oft der Loop stattfinden soll\n",
    "    anzahl_geschaefte = len(driver.find_elements_by_class_name(\"tableDataRow\"))\n",
    "\n",
    "    # nacheinander ansteuern jedes Geschäfts und speichern\n",
    "    for einzelgeschaeft in range(0,anzahl_geschaefte): \n",
    "        time.sleep(1)     \n",
    "        geschaefte = driver.find_elements_by_class_name(\"tableDataRow\")\n",
    "        \n",
    "        geschaefte[einzelgeschaeft].click()\n",
    "    \n",
    "        page = driver.page_source.encode('utf-8')\n",
    "    \n",
    "        # hier hole ich für den Filetitel die Geschäftsnummer raus und säubere sie vom \"/\"\n",
    "        soup = BeautifulSoup(page, 'html.parser')\n",
    "        nummer = soup.find_all(\"span\")[2].text\n",
    "        nummer = nummer.replace(\"/\",\"_\")\n",
    "    \n",
    "        with open(\"data/geschaeft\"+nummer+\".htm\", \"wb+\") as file:\n",
    "            file.write(page)\n",
    "            file.close()\n",
    "    \n",
    "        # jetzt gehe ich zurück zur Übersichtsseite und lege eine kurze Pause ein, weil sonst Click z.T. nicht geht \n",
    "        driver.back()"
   ]
  },
  {
   "cell_type": "code",
   "execution_count": null,
   "metadata": {},
   "outputs": [],
   "source": []
  },
  {
   "cell_type": "markdown",
   "metadata": {},
   "source": [
    "### "
   ]
  }
 ],
 "metadata": {
  "kernelspec": {
   "display_name": "Python 3",
   "language": "python",
   "name": "python3"
  },
  "language_info": {
   "codemirror_mode": {
    "name": "ipython",
    "version": 3
   },
   "file_extension": ".py",
   "mimetype": "text/x-python",
   "name": "python",
   "nbconvert_exporter": "python",
   "pygments_lexer": "ipython3",
   "version": "3.7.4"
  }
 },
 "nbformat": 4,
 "nbformat_minor": 2
}
