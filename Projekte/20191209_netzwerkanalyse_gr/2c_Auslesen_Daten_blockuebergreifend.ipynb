{
 "cells": [
  {
   "cell_type": "markdown",
   "metadata": {},
   "source": [
    "Weil für die Analyse bez. der Abhängigkeit von (linken) Mehrheiten Kooperation über den linken Block (SP,GP,AL) womöglich interessanter sind, konstruieren wir hier doch einen entsprechenden Dataframe"
   ]
  },
  {
   "cell_type": "code",
   "execution_count": 63,
   "metadata": {},
   "outputs": [],
   "source": [
    "#Hier definieren wir die drei Blöcke\n",
    "Block_Links = [\"SP\", \"Grüne\", \"AL\", \"FraP\", \"CSP\"]\n",
    "Block_Mitte = [\"CVP\", \"GLP\", \"EVP\", \"LdU\", \"Parteilos\"]\n",
    "Block_Rechts = [\"FDP\", \"SVP\", \"PFZ\", \"SL\"]"
   ]
  },
  {
   "cell_type": "code",
   "execution_count": 64,
   "metadata": {},
   "outputs": [
    {
     "name": "stderr",
     "output_type": "stream",
     "text": [
      "100%|██████████| 7026/7026 [04:42<00:00, 24.84it/s]\n"
     ]
    }
   ],
   "source": [
    "import os\n",
    "from bs4 import BeautifulSoup\n",
    "import pandas as pd\n",
    "from tqdm import tqdm\n",
    "import re\n",
    "\n",
    "files = os.listdir(\"alle_geschaefte\")\n",
    "df_list = []\n",
    "\n",
    "for file in tqdm(files): \n",
    "    \n",
    "    if \"geschaeft\" in file: #um fehlerhafte files auszuschliessen\n",
    "        geschaeft = open(\"alle_geschaefte/\"+ file, \"r\", encoding = \"utf-8\")\n",
    "        text = geschaeft.read()\n",
    "        soup = BeautifulSoup(text, \"html.parser\")\n",
    "    \n",
    "        #Jetzt filtern wir nur jene raus, die mehrere Einreichende haben:\n",
    "        einreichende = soup.find_all(\"div\")[24].find_all(\"a\")\n",
    "        if len(einreichende) > 1: \n",
    "            \n",
    "            #Jetzt filtern wir jene, die überhaupt einen Namen drin haben; Erkennungsmerkmal: Klammern\n",
    "            einreichender1 = einreichende[0].text.strip()\n",
    "            if \"(\" and \")\" in einreichender1:\n",
    "                \n",
    "                name1 = einreichender1.split(\" (\")[0]\n",
    "                partei1 = einreichender1.split(\" (\")[1][:-1]\n",
    "                \n",
    "                einreichender2 = einreichende[1].text.strip()\n",
    "                name2 = einreichender2.split(\" (\")[0]\n",
    "                partei2 = einreichender2.split(\" (\")[1][:-1]\n",
    "                \n",
    "                geschaeft_nr = soup.find_all(\"div\")[22].find_all(\"span\")[1].text\n",
    "                \n",
    "                regex = r\"((?<=\\svom\\s)\\d*\\.\\d*\\.\\s*\\d*)\"\n",
    "                datum = re.findall(regex, str(soup))[0]\n",
    "                \n",
    "                try: \n",
    "                    regex_dep = r\"((?<=Zuständiges Departement).*\\n*.*)\"\n",
    "                    dep_fragment = re.findall(regex_dep, str(soup))[0]\n",
    "                    soup_dep = BeautifulSoup(dep_fragment, \"html.parser\")\n",
    "                    departement = soup_dep.text[1:]\n",
    "\n",
    "                except: \n",
    "                    departement = \"\"\n",
    "                            \n",
    "                #Zum Schluss: Wir wollen nur jene in unserem Dict mit unterschiedlichen Blocks\n",
    "                if partei1 in Block_Links:\n",
    "                    block1 = \"links\"\n",
    "                elif partei1 in Block_Mitte:\n",
    "                    block1 = \"mitte\"\n",
    "                else:\n",
    "                    block1 = \"rechts\"\n",
    "                    \n",
    "                if partei2 in Block_Links:\n",
    "                    block2 = \"links\"\n",
    "                elif partei2 in Block_Mitte:\n",
    "                    block2 = \"mitte\"\n",
    "                else:\n",
    "                    block2 = \"rechts\"\n",
    "                \n",
    "                if block1 != block2:\n",
    "                    mini_dict = {\n",
    "                        \"Datum\" : datum,\n",
    "                        \"Geschäft\" : geschaeft_nr,\n",
    "                        \"Einreichender 1\" : name1,\n",
    "                        \"Partei 1\" : partei1,\n",
    "                        \"Block 1\" : block1,\n",
    "                        \"Einreichender 2\" : name2,\n",
    "                        \"Partei 2\" : partei2,\n",
    "                        \"Block 2\" : block2,\n",
    "                        \"Departement\" : departement\n",
    "                    }\n",
    "                    df_list.append(mini_dict)  "
   ]
  },
  {
   "cell_type": "code",
   "execution_count": 89,
   "metadata": {},
   "outputs": [
    {
     "data": {
      "text/plain": [
       "541"
      ]
     },
     "execution_count": 89,
     "metadata": {},
     "output_type": "execute_result"
    }
   ],
   "source": [
    "#Jetzt ist die Liste nicht mehr so lang...\n",
    "len(df_list)"
   ]
  },
  {
   "cell_type": "code",
   "execution_count": 90,
   "metadata": {},
   "outputs": [
    {
     "data": {
      "text/html": [
       "<div>\n",
       "<style scoped>\n",
       "    .dataframe tbody tr th:only-of-type {\n",
       "        vertical-align: middle;\n",
       "    }\n",
       "\n",
       "    .dataframe tbody tr th {\n",
       "        vertical-align: top;\n",
       "    }\n",
       "\n",
       "    .dataframe thead th {\n",
       "        text-align: right;\n",
       "    }\n",
       "</style>\n",
       "<table border=\"1\" class=\"dataframe\">\n",
       "  <thead>\n",
       "    <tr style=\"text-align: right;\">\n",
       "      <th></th>\n",
       "      <th>Datum</th>\n",
       "      <th>Geschäft</th>\n",
       "      <th>Einreichender 1</th>\n",
       "      <th>Partei 1</th>\n",
       "      <th>Block 1</th>\n",
       "      <th>Einreichender 2</th>\n",
       "      <th>Partei 2</th>\n",
       "      <th>Block 2</th>\n",
       "      <th>Departement</th>\n",
       "    </tr>\n",
       "  </thead>\n",
       "  <tbody>\n",
       "    <tr>\n",
       "      <th>0</th>\n",
       "      <td>25.11.2009</td>\n",
       "      <td>2009/562</td>\n",
       "      <td>Kurt Hüssy</td>\n",
       "      <td>SVP</td>\n",
       "      <td>rechts</td>\n",
       "      <td>Peter Anderegg</td>\n",
       "      <td>EVP</td>\n",
       "      <td>mitte</td>\n",
       "      <td>Polizeidepartement (PD)</td>\n",
       "    </tr>\n",
       "    <tr>\n",
       "      <th>1</th>\n",
       "      <td>28.09.2011</td>\n",
       "      <td>2011/362</td>\n",
       "      <td>Alecs Recher</td>\n",
       "      <td>AL</td>\n",
       "      <td>links</td>\n",
       "      <td>Maleica Landolt</td>\n",
       "      <td>GLP</td>\n",
       "      <td>mitte</td>\n",
       "      <td>Finanzdepartement (FD)</td>\n",
       "    </tr>\n",
       "    <tr>\n",
       "      <th>2</th>\n",
       "      <td>20.10.2004</td>\n",
       "      <td>2004/541</td>\n",
       "      <td>Niklaus Scherr</td>\n",
       "      <td>AL</td>\n",
       "      <td>links</td>\n",
       "      <td>Kurt Maeder</td>\n",
       "      <td>CVP</td>\n",
       "      <td>mitte</td>\n",
       "      <td>Hochbaudepartement (HBD)</td>\n",
       "    </tr>\n",
       "    <tr>\n",
       "      <th>3</th>\n",
       "      <td>16.05.2013</td>\n",
       "      <td>2005/550</td>\n",
       "      <td>Mario Mariani</td>\n",
       "      <td>CVP</td>\n",
       "      <td>mitte</td>\n",
       "      <td>Muriel Herzig</td>\n",
       "      <td>Grüne</td>\n",
       "      <td>links</td>\n",
       "      <td>Tiefbau- und Entsorgungsdepartement (TED)</td>\n",
       "    </tr>\n",
       "    <tr>\n",
       "      <th>4</th>\n",
       "      <td>06.01.2016</td>\n",
       "      <td>2016/16</td>\n",
       "      <td>Christina Schiller</td>\n",
       "      <td>AL</td>\n",
       "      <td>links</td>\n",
       "      <td>Mario Babini</td>\n",
       "      <td>Parteilos</td>\n",
       "      <td>mitte</td>\n",
       "      <td>Polizeidepartement (PD)</td>\n",
       "    </tr>\n",
       "  </tbody>\n",
       "</table>\n",
       "</div>"
      ],
      "text/plain": [
       "        Datum  Geschäft     Einreichender 1 Partei 1 Block 1  Einreichender 2  \\\n",
       "0  25.11.2009  2009/562          Kurt Hüssy      SVP  rechts   Peter Anderegg   \n",
       "1  28.09.2011  2011/362        Alecs Recher       AL   links  Maleica Landolt   \n",
       "2  20.10.2004  2004/541      Niklaus Scherr       AL   links      Kurt Maeder   \n",
       "3  16.05.2013  2005/550       Mario Mariani      CVP   mitte    Muriel Herzig   \n",
       "4  06.01.2016   2016/16  Christina Schiller       AL   links     Mario Babini   \n",
       "\n",
       "    Partei 2 Block 2                                Departement  \n",
       "0        EVP   mitte                    Polizeidepartement (PD)  \n",
       "1        GLP   mitte                     Finanzdepartement (FD)  \n",
       "2        CVP   mitte                   Hochbaudepartement (HBD)  \n",
       "3      Grüne   links  Tiefbau- und Entsorgungsdepartement (TED)  \n",
       "4  Parteilos   mitte                    Polizeidepartement (PD)  "
      ]
     },
     "execution_count": 90,
     "metadata": {},
     "output_type": "execute_result"
    }
   ],
   "source": [
    "df = pd.DataFrame(df_list)\n",
    "df.head(5)"
   ]
  },
  {
   "cell_type": "code",
   "execution_count": 91,
   "metadata": {},
   "outputs": [
    {
     "data": {
      "text/plain": [
       "Anton Stäbler          8\n",
       "Gregor Bucher          5\n",
       "Placidus Maissen       4\n",
       "Urs Rechsteiner        4\n",
       "Andreas Ammann         4\n",
       "Esther Ponti-Weder     2\n",
       "Fakir Atalay           1\n",
       "Urs Lauffer            1\n",
       "Andreas J. Schlegel    1\n",
       "Name: Einreichender 2, dtype: int64"
      ]
     },
     "execution_count": 91,
     "metadata": {},
     "output_type": "execute_result"
    }
   ],
   "source": [
    "#Hats hier noch zusätzliche Leute ohne Parteiangabe, so dass wir das Reparatur-Dict ergänzen müssen? Nein!\n",
    "df[df[\"Partei 2\"] == \"\"][\"Einreichender 2\"].value_counts()"
   ]
  },
  {
   "cell_type": "code",
   "execution_count": 92,
   "metadata": {},
   "outputs": [],
   "source": [
    "Reparatur_dict = {\"Gregor Bucher\":\"Grüne\",\n",
    "                  \"Andreas Ammann\":\"SP\",\n",
    "                  \"Urs Rechsteiner\":\"CVP\",\n",
    "                  \"Andreas J. Schlegel\":\"FDP\",\n",
    "                  \"Jürg Liebermann\":\"FDP\",\n",
    "                  \"Peter Marti\":\"FDP\",\n",
    "                  \"Fakir Atalay\":\"SP\",\n",
    "                  \"Anton Stäbler\":\"CVP\",\n",
    "                  \"Placidus Maissen\":\"CVP\",\n",
    "                  \"Salomon Browar\":\"Grüne\",\n",
    "                  \"Monika Piesbergen\":\"FDP\",\n",
    "                  \"Hanna Lienhard\":\"FDP\",\n",
    "                  \"Urs Lauffer\":\"FDP\",\n",
    "                  \"Esther Ponti-Weder\":\"CVP\"}"
   ]
  },
  {
   "cell_type": "code",
   "execution_count": 93,
   "metadata": {},
   "outputs": [],
   "source": [
    "def Reparatur(Person):\n",
    "    return Reparatur_dict[Person]\n",
    "\n",
    "fehlerposition1 = df[df[\"Partei 1\"] == \"\"][\"Einreichender 1\"].index.tolist()\n",
    "fehlerposition2 = df[df[\"Partei 2\"] == \"\"][\"Einreichender 2\"].index.tolist()\n",
    "\n",
    "for zeile in fehlerposition1:\n",
    "    df.loc[zeile, 'Partei 1'] = df.loc[zeile, 'Partei 1'].replace(\"\", Reparatur(df.loc[zeile, \"Einreichender 1\"]))\n",
    "\n",
    "for zeile in fehlerposition2:\n",
    "    df.loc[zeile, 'Partei 2'] = df.loc[zeile, 'Partei 2'].replace(\"\", Reparatur(df.loc[zeile, \"Einreichender 2\"]))"
   ]
  },
  {
   "cell_type": "markdown",
   "metadata": {},
   "source": [
    "Achtung, durch die Reparatur sind möglicherweise Paare der gleichen Partei oder des gleichen Blocks entstanden, die müssen wir rausfiltern:"
   ]
  },
  {
   "cell_type": "code",
   "execution_count": 94,
   "metadata": {},
   "outputs": [
    {
     "data": {
      "text/plain": [
       "541"
      ]
     },
     "execution_count": 94,
     "metadata": {},
     "output_type": "execute_result"
    }
   ],
   "source": [
    "len(df)"
   ]
  },
  {
   "cell_type": "code",
   "execution_count": 83,
   "metadata": {},
   "outputs": [
    {
     "data": {
      "text/plain": [
       "'EVP'"
      ]
     },
     "execution_count": 83,
     "metadata": {},
     "output_type": "execute_result"
    }
   ],
   "source": [
    "df.loc[0, \"Partei 2\"]"
   ]
  },
  {
   "cell_type": "code",
   "execution_count": 84,
   "metadata": {},
   "outputs": [],
   "source": [
    "#Hier ist die Variante für Parteien:\n",
    "for zeile in range(0, len(df)-1):\n",
    "    if df.loc[zeile, \"Partei 1\"] == df.loc[zeile, \"Partei 2\"]:\n",
    "        df.drop(zeile, inplace = True)"
   ]
  },
  {
   "cell_type": "code",
   "execution_count": 85,
   "metadata": {},
   "outputs": [
    {
     "data": {
      "text/plain": [
       "493"
      ]
     },
     "execution_count": 85,
     "metadata": {},
     "output_type": "execute_result"
    }
   ],
   "source": [
    "len(df)"
   ]
  },
  {
   "cell_type": "code",
   "execution_count": 95,
   "metadata": {},
   "outputs": [],
   "source": [
    "#Und hier ist die Variante für Blöcke:\n",
    "#Hier definieren wir die drei Blöcke\n",
    "Block_Links = [\"SP\", \"Grüne\", \"AL\", \"FraP\", \"CSP\"]\n",
    "Block_Mitte = [\"CVP\", \"GLP\", \"EVP\", \"LdU\", \"Parteilos\"]\n",
    "Block_Rechts = [\"FDP\", \"SVP\", \"PFZ\", \"SL\"]\n",
    "\n",
    "for zeile in range(0, len(df)-1):\n",
    "    \n",
    "    #erst müssen wir die fehlende Wert für die Blöcke ergänzen...\n",
    "    if df.loc[zeile, \"Partei 1\"] in Block_Links:\n",
    "        df.loc[zeile, \"Block 1\"] = \"links\"\n",
    "    elif df.loc[zeile, \"Partei 1\"] in Block_Mitte:\n",
    "        df.loc[zeile, \"Block 1\"] = \"mitte\"\n",
    "    else:\n",
    "        df.loc[zeile, \"Block 1\"] = \"rechts\"\n",
    "                    \n",
    "    if df.loc[zeile, \"Partei 2\"] in Block_Links:\n",
    "        df.loc[zeile, \"Block 2\"] = \"links\"\n",
    "    elif df.loc[zeile, \"Partei 2\"] in Block_Mitte:\n",
    "        df.loc[zeile, \"Block 2\"] = \"mitte\"\n",
    "    else:\n",
    "        df.loc[zeile, \"Block 2\"] = \"rechts\"\n",
    "    \n",
    "    #...und dann löschen wir gleiche raus\n",
    "    if df.loc[zeile, \"Block 1\"] == df.loc[zeile, \"Block 2\"]:\n",
    "        #print( df.loc[zeile, \"Block 1\"] + df.loc[zeile, \"Block 2\"])\n",
    "        df.drop(zeile, inplace = True)"
   ]
  },
  {
   "cell_type": "code",
   "execution_count": 96,
   "metadata": {},
   "outputs": [
    {
     "data": {
      "text/plain": [
       "478"
      ]
     },
     "execution_count": 96,
     "metadata": {},
     "output_type": "execute_result"
    }
   ],
   "source": [
    "len(df)"
   ]
  },
  {
   "cell_type": "code",
   "execution_count": 97,
   "metadata": {},
   "outputs": [],
   "source": [
    "#Auch diesen Dataframe speichern wir:\n",
    "df.to_csv(\"Dataframe_bereinigt_blockuebergreifend.csv\")"
   ]
  },
  {
   "cell_type": "markdown",
   "metadata": {},
   "source": [
    "### Die Zahlen können wir schon einmal auswerten:"
   ]
  },
  {
   "cell_type": "code",
   "execution_count": 59,
   "metadata": {},
   "outputs": [
    {
     "data": {
      "text/html": [
       "<div>\n",
       "<style scoped>\n",
       "    .dataframe tbody tr th:only-of-type {\n",
       "        vertical-align: middle;\n",
       "    }\n",
       "\n",
       "    .dataframe tbody tr th {\n",
       "        vertical-align: top;\n",
       "    }\n",
       "\n",
       "    .dataframe thead th {\n",
       "        text-align: right;\n",
       "    }\n",
       "</style>\n",
       "<table border=\"1\" class=\"dataframe\">\n",
       "  <thead>\n",
       "    <tr style=\"text-align: right;\">\n",
       "      <th></th>\n",
       "      <th>Geschaefte</th>\n",
       "    </tr>\n",
       "  </thead>\n",
       "  <tbody>\n",
       "    <tr>\n",
       "      <th>SP</th>\n",
       "      <td>196.0</td>\n",
       "    </tr>\n",
       "    <tr>\n",
       "      <th>Grüne</th>\n",
       "      <td>96.0</td>\n",
       "    </tr>\n",
       "    <tr>\n",
       "      <th>FDP</th>\n",
       "      <td>133.0</td>\n",
       "    </tr>\n",
       "    <tr>\n",
       "      <th>GLP</th>\n",
       "      <td>104.0</td>\n",
       "    </tr>\n",
       "    <tr>\n",
       "      <th>CVP</th>\n",
       "      <td>139.0</td>\n",
       "    </tr>\n",
       "    <tr>\n",
       "      <th>AL</th>\n",
       "      <td>31.0</td>\n",
       "    </tr>\n",
       "    <tr>\n",
       "      <th>SVP</th>\n",
       "      <td>43.0</td>\n",
       "    </tr>\n",
       "    <tr>\n",
       "      <th>Parteilos</th>\n",
       "      <td>16.0</td>\n",
       "    </tr>\n",
       "    <tr>\n",
       "      <th>EVP</th>\n",
       "      <td>42.0</td>\n",
       "    </tr>\n",
       "    <tr>\n",
       "      <th>PFZ</th>\n",
       "      <td>NaN</td>\n",
       "    </tr>\n",
       "    <tr>\n",
       "      <th>LdU</th>\n",
       "      <td>2.0</td>\n",
       "    </tr>\n",
       "  </tbody>\n",
       "</table>\n",
       "</div>"
      ],
      "text/plain": [
       "           Geschaefte\n",
       "SP              196.0\n",
       "Grüne            96.0\n",
       "FDP             133.0\n",
       "GLP             104.0\n",
       "CVP             139.0\n",
       "AL               31.0\n",
       "SVP              43.0\n",
       "Parteilos        16.0\n",
       "EVP              42.0\n",
       "PFZ               NaN\n",
       "LdU               2.0"
      ]
     },
     "execution_count": 59,
     "metadata": {},
     "output_type": "execute_result"
    }
   ],
   "source": [
    "df_Anzahl = df[\"Partei 1\"].value_counts().to_frame()\n",
    "df_Anzahl[\"Partei 2\"] = df[\"Partei 2\"].value_counts()\n",
    "df_Anzahl[\"Geschaefte\"] = df_Anzahl[\"Partei 1\"] + df_Anzahl[\"Partei 2\"]\n",
    "df_Anzahl = df_Anzahl.drop(columns=['Partei 1', 'Partei 2'])\n",
    "df_Anzahl"
   ]
  },
  {
   "cell_type": "code",
   "execution_count": 60,
   "metadata": {
    "scrolled": true
   },
   "outputs": [
    {
     "data": {
      "text/html": [
       "<div>\n",
       "<style scoped>\n",
       "    .dataframe tbody tr th:only-of-type {\n",
       "        vertical-align: middle;\n",
       "    }\n",
       "\n",
       "    .dataframe tbody tr th {\n",
       "        vertical-align: top;\n",
       "    }\n",
       "\n",
       "    .dataframe thead th {\n",
       "        text-align: right;\n",
       "    }\n",
       "</style>\n",
       "<table border=\"1\" class=\"dataframe\">\n",
       "  <thead>\n",
       "    <tr style=\"text-align: right;\">\n",
       "      <th></th>\n",
       "      <th>Datum</th>\n",
       "      <th>Geschäft</th>\n",
       "      <th>Einreichender 1</th>\n",
       "      <th>Partei 1</th>\n",
       "      <th>Block 1</th>\n",
       "      <th>Einreichender 2</th>\n",
       "      <th>Partei 2</th>\n",
       "      <th>Block 2</th>\n",
       "      <th>Departement</th>\n",
       "    </tr>\n",
       "  </thead>\n",
       "  <tbody>\n",
       "    <tr>\n",
       "      <th>20</th>\n",
       "      <td>24.3.2004</td>\n",
       "      <td>2004/150</td>\n",
       "      <td>Albert Leiser</td>\n",
       "      <td>FDP</td>\n",
       "      <td>rechts</td>\n",
       "      <td>Peter Püntener</td>\n",
       "      <td>GLP</td>\n",
       "      <td>mitte</td>\n",
       "      <td>Schul- und Sportdepartement (SSD)</td>\n",
       "    </tr>\n",
       "    <tr>\n",
       "      <th>307</th>\n",
       "      <td>13.6.2007</td>\n",
       "      <td>2007/348</td>\n",
       "      <td>Albert Leiser</td>\n",
       "      <td>FDP</td>\n",
       "      <td>rechts</td>\n",
       "      <td>Niklaus Scherr</td>\n",
       "      <td>AL</td>\n",
       "      <td>links</td>\n",
       "      <td>Tiefbau- und Entsorgungsdepartement (TED)</td>\n",
       "    </tr>\n",
       "    <tr>\n",
       "      <th>372</th>\n",
       "      <td>30.10.2002</td>\n",
       "      <td>2002/446</td>\n",
       "      <td>Albert Leiser</td>\n",
       "      <td>FDP</td>\n",
       "      <td>rechts</td>\n",
       "      <td>Robert Schönbächler</td>\n",
       "      <td>CVP</td>\n",
       "      <td>mitte</td>\n",
       "      <td>Präsidialdepartement (PRD)</td>\n",
       "    </tr>\n",
       "    <tr>\n",
       "      <th>428</th>\n",
       "      <td>04.09.2019</td>\n",
       "      <td>2017/263</td>\n",
       "      <td>Albert Leiser</td>\n",
       "      <td>FDP</td>\n",
       "      <td>rechts</td>\n",
       "      <td>Andreas Kirstein</td>\n",
       "      <td>AL</td>\n",
       "      <td>links</td>\n",
       "      <td>Tiefbau- und Entsorgungsdepartement (TED)</td>\n",
       "    </tr>\n",
       "    <tr>\n",
       "      <th>433</th>\n",
       "      <td>19.08.2009</td>\n",
       "      <td>2009/355</td>\n",
       "      <td>Albert Leiser</td>\n",
       "      <td>FDP</td>\n",
       "      <td>rechts</td>\n",
       "      <td>Daniel Leupi</td>\n",
       "      <td>Grüne</td>\n",
       "      <td>links</td>\n",
       "      <td>Tiefbau- und Entsorgungsdepartement (TED)</td>\n",
       "    </tr>\n",
       "  </tbody>\n",
       "</table>\n",
       "</div>"
      ],
      "text/plain": [
       "          Datum  Geschäft Einreichender 1 Partei 1 Block 1  \\\n",
       "20    24.3.2004  2004/150   Albert Leiser      FDP  rechts   \n",
       "307   13.6.2007  2007/348   Albert Leiser      FDP  rechts   \n",
       "372  30.10.2002  2002/446   Albert Leiser      FDP  rechts   \n",
       "428  04.09.2019  2017/263   Albert Leiser      FDP  rechts   \n",
       "433  19.08.2009  2009/355   Albert Leiser      FDP  rechts   \n",
       "\n",
       "         Einreichender 2 Partei 2 Block 2  \\\n",
       "20        Peter Püntener      GLP   mitte   \n",
       "307       Niklaus Scherr       AL   links   \n",
       "372  Robert Schönbächler      CVP   mitte   \n",
       "428     Andreas Kirstein       AL   links   \n",
       "433         Daniel Leupi    Grüne   links   \n",
       "\n",
       "                                   Departement  \n",
       "20           Schul- und Sportdepartement (SSD)  \n",
       "307  Tiefbau- und Entsorgungsdepartement (TED)  \n",
       "372                 Präsidialdepartement (PRD)  \n",
       "428  Tiefbau- und Entsorgungsdepartement (TED)  \n",
       "433  Tiefbau- und Entsorgungsdepartement (TED)  "
      ]
     },
     "execution_count": 60,
     "metadata": {},
     "output_type": "execute_result"
    }
   ],
   "source": [
    "df[df[\"Einreichender 1\"] == \"Albert Leiser\"]"
   ]
  },
  {
   "cell_type": "code",
   "execution_count": 61,
   "metadata": {},
   "outputs": [
    {
     "data": {
      "text/html": [
       "<div>\n",
       "<style scoped>\n",
       "    .dataframe tbody tr th:only-of-type {\n",
       "        vertical-align: middle;\n",
       "    }\n",
       "\n",
       "    .dataframe tbody tr th {\n",
       "        vertical-align: top;\n",
       "    }\n",
       "\n",
       "    .dataframe thead th {\n",
       "        text-align: right;\n",
       "    }\n",
       "</style>\n",
       "<table border=\"1\" class=\"dataframe\">\n",
       "  <thead>\n",
       "    <tr style=\"text-align: right;\">\n",
       "      <th></th>\n",
       "      <th>Datum</th>\n",
       "      <th>Geschäft</th>\n",
       "      <th>Einreichender 1</th>\n",
       "      <th>Partei 1</th>\n",
       "      <th>Block 1</th>\n",
       "      <th>Einreichender 2</th>\n",
       "      <th>Partei 2</th>\n",
       "      <th>Block 2</th>\n",
       "      <th>Departement</th>\n",
       "    </tr>\n",
       "  </thead>\n",
       "  <tbody>\n",
       "    <tr>\n",
       "      <th>318</th>\n",
       "      <td>9.6.2004</td>\n",
       "      <td>2004/300</td>\n",
       "      <td>Niklaus Scherr</td>\n",
       "      <td>AL</td>\n",
       "      <td>links</td>\n",
       "      <td>Albert Leiser</td>\n",
       "      <td>FDP</td>\n",
       "      <td>rechts</td>\n",
       "      <td>Tiefbau- und Entsorgungsdepartement (TED)</td>\n",
       "    </tr>\n",
       "    <tr>\n",
       "      <th>340</th>\n",
       "      <td>31.3.2004</td>\n",
       "      <td>2004/164</td>\n",
       "      <td>Gerold Lauber</td>\n",
       "      <td>CVP</td>\n",
       "      <td>mitte</td>\n",
       "      <td>Albert Leiser</td>\n",
       "      <td>FDP</td>\n",
       "      <td>rechts</td>\n",
       "      <td>Sozialdepartement (SD)</td>\n",
       "    </tr>\n",
       "    <tr>\n",
       "      <th>14</th>\n",
       "      <td>31.01.2007</td>\n",
       "      <td>2007/52</td>\n",
       "      <td>Daniel Meier</td>\n",
       "      <td>CVP</td>\n",
       "      <td>mitte</td>\n",
       "      <td>Albert Leiser</td>\n",
       "      <td>FDP</td>\n",
       "      <td>rechts</td>\n",
       "      <td>Hochbaudepartement (HBD)</td>\n",
       "    </tr>\n",
       "    <tr>\n",
       "      <th>310</th>\n",
       "      <td>19.06.2013</td>\n",
       "      <td>2013/234</td>\n",
       "      <td>Niklaus Scherr</td>\n",
       "      <td>AL</td>\n",
       "      <td>links</td>\n",
       "      <td>Albert Leiser</td>\n",
       "      <td>FDP</td>\n",
       "      <td>rechts</td>\n",
       "      <td>Tiefbau- und Entsorgungsdepartement (TED)</td>\n",
       "    </tr>\n",
       "    <tr>\n",
       "      <th>353</th>\n",
       "      <td>12.04.2017</td>\n",
       "      <td>2017/105</td>\n",
       "      <td>Andreas Kirstein</td>\n",
       "      <td>AL</td>\n",
       "      <td>links</td>\n",
       "      <td>Albert Leiser</td>\n",
       "      <td>FDP</td>\n",
       "      <td>rechts</td>\n",
       "      <td>Tiefbau- und Entsorgungsdepartement (TED)</td>\n",
       "    </tr>\n",
       "    <tr>\n",
       "      <th>254</th>\n",
       "      <td>12.03.2008</td>\n",
       "      <td>2008/120</td>\n",
       "      <td>Mario Mariani</td>\n",
       "      <td>CVP</td>\n",
       "      <td>mitte</td>\n",
       "      <td>Albert Leiser</td>\n",
       "      <td>FDP</td>\n",
       "      <td>rechts</td>\n",
       "      <td>Hochbaudepartement (HBD)</td>\n",
       "    </tr>\n",
       "    <tr>\n",
       "      <th>3</th>\n",
       "      <td>1.12.2004</td>\n",
       "      <td>2004/637</td>\n",
       "      <td>Corine Mauch</td>\n",
       "      <td>SP</td>\n",
       "      <td>links</td>\n",
       "      <td>Albert Leiser</td>\n",
       "      <td>FDP</td>\n",
       "      <td>rechts</td>\n",
       "      <td>Finanzdepartement (FD)</td>\n",
       "    </tr>\n",
       "    <tr>\n",
       "      <th>211</th>\n",
       "      <td>08.01.20</td>\n",
       "      <td>2006/387</td>\n",
       "      <td>Niklaus Scherr</td>\n",
       "      <td>AL</td>\n",
       "      <td>links</td>\n",
       "      <td>Albert Leiser</td>\n",
       "      <td>FDP</td>\n",
       "      <td>rechts</td>\n",
       "      <td>Tiefbau- und Entsorgungsdepartement (TED)</td>\n",
       "    </tr>\n",
       "    <tr>\n",
       "      <th>422</th>\n",
       "      <td>07.11.2018</td>\n",
       "      <td>2018/423</td>\n",
       "      <td>Marco Denoth</td>\n",
       "      <td>SP</td>\n",
       "      <td>links</td>\n",
       "      <td>Albert Leiser</td>\n",
       "      <td>FDP</td>\n",
       "      <td>rechts</td>\n",
       "      <td>Hochbaudepartement (HBD)</td>\n",
       "    </tr>\n",
       "    <tr>\n",
       "      <th>8</th>\n",
       "      <td>06.03.2019</td>\n",
       "      <td>2019/84</td>\n",
       "      <td>Ernst Danner</td>\n",
       "      <td>EVP</td>\n",
       "      <td>mitte</td>\n",
       "      <td>Albert Leiser</td>\n",
       "      <td>FDP</td>\n",
       "      <td>rechts</td>\n",
       "      <td>Tiefbau- und Entsorgungsdepartement (TED)</td>\n",
       "    </tr>\n",
       "  </tbody>\n",
       "</table>\n",
       "</div>"
      ],
      "text/plain": [
       "          Datum  Geschäft   Einreichender 1 Partei 1 Block 1 Einreichender 2  \\\n",
       "318    9.6.2004  2004/300    Niklaus Scherr       AL   links   Albert Leiser   \n",
       "340   31.3.2004  2004/164     Gerold Lauber      CVP   mitte   Albert Leiser   \n",
       "14   31.01.2007   2007/52      Daniel Meier      CVP   mitte   Albert Leiser   \n",
       "310  19.06.2013  2013/234    Niklaus Scherr       AL   links   Albert Leiser   \n",
       "353  12.04.2017  2017/105  Andreas Kirstein       AL   links   Albert Leiser   \n",
       "254  12.03.2008  2008/120     Mario Mariani      CVP   mitte   Albert Leiser   \n",
       "3     1.12.2004  2004/637      Corine Mauch       SP   links   Albert Leiser   \n",
       "211    08.01.20  2006/387    Niklaus Scherr       AL   links   Albert Leiser   \n",
       "422  07.11.2018  2018/423      Marco Denoth       SP   links   Albert Leiser   \n",
       "8    06.03.2019   2019/84      Ernst Danner      EVP   mitte   Albert Leiser   \n",
       "\n",
       "    Partei 2 Block 2                                Departement  \n",
       "318      FDP  rechts  Tiefbau- und Entsorgungsdepartement (TED)  \n",
       "340      FDP  rechts                     Sozialdepartement (SD)  \n",
       "14       FDP  rechts                   Hochbaudepartement (HBD)  \n",
       "310      FDP  rechts  Tiefbau- und Entsorgungsdepartement (TED)  \n",
       "353      FDP  rechts  Tiefbau- und Entsorgungsdepartement (TED)  \n",
       "254      FDP  rechts                   Hochbaudepartement (HBD)  \n",
       "3        FDP  rechts                     Finanzdepartement (FD)  \n",
       "211      FDP  rechts  Tiefbau- und Entsorgungsdepartement (TED)  \n",
       "422      FDP  rechts                   Hochbaudepartement (HBD)  \n",
       "8        FDP  rechts  Tiefbau- und Entsorgungsdepartement (TED)  "
      ]
     },
     "execution_count": 61,
     "metadata": {},
     "output_type": "execute_result"
    }
   ],
   "source": [
    "df[df[\"Einreichender 2\"] == \"Albert Leiser\"].sort_values(\"Datum\", ascending = False)"
   ]
  },
  {
   "cell_type": "code",
   "execution_count": 62,
   "metadata": {},
   "outputs": [
    {
     "data": {
      "text/plain": [
       "Tiefbau- und Entsorgungsdepartement (TED)                      113\n",
       "Hochbaudepartement (HBD)                                        47\n",
       "Polizeidepartement (PD)                                         37\n",
       "Schul- und Sportdepartement (SSD)                               36\n",
       "Präsidialdepartement (PRD)                                      34\n",
       "Departement der Industriellen Betriebe (DIB)                    33\n",
       "Sozialdepartement (SD)                                          31\n",
       "Finanzdepartement (FD)                                          28\n",
       "Gesundheits- und Umweltdepartement (GUD)                        20\n",
       "Sicherheitsdepartement (SID)                                    19\n",
       "Hochbaudepartement (HBD), Schul- und Sportdepartement (SSD)      2\n",
       "                                                                 2\n",
       "Name: Departement, dtype: int64"
      ]
     },
     "execution_count": 62,
     "metadata": {},
     "output_type": "execute_result"
    }
   ],
   "source": [
    "df[\"Departement\"].value_counts()"
   ]
  },
  {
   "cell_type": "markdown",
   "metadata": {},
   "source": [
    "### Jetzt zählen wir nach Legislaturen"
   ]
  },
  {
   "cell_type": "markdown",
   "metadata": {},
   "source": [
    "bei diesen Positionen stimmt beim Datum etwas Grundsätzliches nicht, weshalb wir es mit einem annäherungsweisen Datum  aufgrund der Geschäftnummer ersetzen:"
   ]
  },
  {
   "cell_type": "code",
   "execution_count": 98,
   "metadata": {},
   "outputs": [],
   "source": [
    "fehlerliste = [\"29.01.20\",\"08.01.20\",\"18.12.19\"]\n",
    "\n",
    "for fehler in fehlerliste:\n",
    "    fehlerposition = df[df[\"Datum\"] == fehler].index.tolist()\n",
    "    for zeile in fehlerposition:\n",
    "        Jahr = df.loc[zeile, \"Geschäft\"].split(\"/\")[0]\n",
    "        Ersatzdatum = \"31.12.\" + Jahr\n",
    "        df.loc[zeile, \"Datum\"] = df.loc[zeile, \"Datum\"].replace(fehler, Ersatzdatum)"
   ]
  },
  {
   "cell_type": "code",
   "execution_count": 99,
   "metadata": {},
   "outputs": [
    {
     "data": {
      "text/html": [
       "<div>\n",
       "<style scoped>\n",
       "    .dataframe tbody tr th:only-of-type {\n",
       "        vertical-align: middle;\n",
       "    }\n",
       "\n",
       "    .dataframe tbody tr th {\n",
       "        vertical-align: top;\n",
       "    }\n",
       "\n",
       "    .dataframe thead th {\n",
       "        text-align: right;\n",
       "    }\n",
       "</style>\n",
       "<table border=\"1\" class=\"dataframe\">\n",
       "  <thead>\n",
       "    <tr style=\"text-align: right;\">\n",
       "      <th></th>\n",
       "      <th>Geschäft</th>\n",
       "      <th>Einreichender 1</th>\n",
       "      <th>Partei 1</th>\n",
       "      <th>Block 1</th>\n",
       "      <th>Einreichender 2</th>\n",
       "      <th>Partei 2</th>\n",
       "      <th>Block 2</th>\n",
       "      <th>Departement</th>\n",
       "    </tr>\n",
       "    <tr>\n",
       "      <th>Datum</th>\n",
       "      <th></th>\n",
       "      <th></th>\n",
       "      <th></th>\n",
       "      <th></th>\n",
       "      <th></th>\n",
       "      <th></th>\n",
       "      <th></th>\n",
       "      <th></th>\n",
       "    </tr>\n",
       "  </thead>\n",
       "  <tbody>\n",
       "    <tr>\n",
       "      <th>2009-11-25</th>\n",
       "      <td>2009/562</td>\n",
       "      <td>Kurt Hüssy</td>\n",
       "      <td>SVP</td>\n",
       "      <td>rechts</td>\n",
       "      <td>Peter Anderegg</td>\n",
       "      <td>EVP</td>\n",
       "      <td>mitte</td>\n",
       "      <td>Polizeidepartement (PD)</td>\n",
       "    </tr>\n",
       "    <tr>\n",
       "      <th>2011-09-28</th>\n",
       "      <td>2011/362</td>\n",
       "      <td>Alecs Recher</td>\n",
       "      <td>AL</td>\n",
       "      <td>links</td>\n",
       "      <td>Maleica Landolt</td>\n",
       "      <td>GLP</td>\n",
       "      <td>mitte</td>\n",
       "      <td>Finanzdepartement (FD)</td>\n",
       "    </tr>\n",
       "    <tr>\n",
       "      <th>2004-10-20</th>\n",
       "      <td>2004/541</td>\n",
       "      <td>Niklaus Scherr</td>\n",
       "      <td>AL</td>\n",
       "      <td>links</td>\n",
       "      <td>Kurt Maeder</td>\n",
       "      <td>CVP</td>\n",
       "      <td>mitte</td>\n",
       "      <td>Hochbaudepartement (HBD)</td>\n",
       "    </tr>\n",
       "    <tr>\n",
       "      <th>2013-05-16</th>\n",
       "      <td>2005/550</td>\n",
       "      <td>Mario Mariani</td>\n",
       "      <td>CVP</td>\n",
       "      <td>mitte</td>\n",
       "      <td>Muriel Herzig</td>\n",
       "      <td>Grüne</td>\n",
       "      <td>links</td>\n",
       "      <td>Tiefbau- und Entsorgungsdepartement (TED)</td>\n",
       "    </tr>\n",
       "    <tr>\n",
       "      <th>2016-01-06</th>\n",
       "      <td>2016/16</td>\n",
       "      <td>Christina Schiller</td>\n",
       "      <td>AL</td>\n",
       "      <td>links</td>\n",
       "      <td>Mario Babini</td>\n",
       "      <td>Parteilos</td>\n",
       "      <td>mitte</td>\n",
       "      <td>Polizeidepartement (PD)</td>\n",
       "    </tr>\n",
       "  </tbody>\n",
       "</table>\n",
       "</div>"
      ],
      "text/plain": [
       "            Geschäft     Einreichender 1 Partei 1 Block 1  Einreichender 2  \\\n",
       "Datum                                                                        \n",
       "2009-11-25  2009/562          Kurt Hüssy      SVP  rechts   Peter Anderegg   \n",
       "2011-09-28  2011/362        Alecs Recher       AL   links  Maleica Landolt   \n",
       "2004-10-20  2004/541      Niklaus Scherr       AL   links      Kurt Maeder   \n",
       "2013-05-16  2005/550       Mario Mariani      CVP   mitte    Muriel Herzig   \n",
       "2016-01-06   2016/16  Christina Schiller       AL   links     Mario Babini   \n",
       "\n",
       "             Partei 2 Block 2                                Departement  \n",
       "Datum                                                                     \n",
       "2009-11-25        EVP   mitte                    Polizeidepartement (PD)  \n",
       "2011-09-28        GLP   mitte                     Finanzdepartement (FD)  \n",
       "2004-10-20        CVP   mitte                   Hochbaudepartement (HBD)  \n",
       "2013-05-16      Grüne   links  Tiefbau- und Entsorgungsdepartement (TED)  \n",
       "2016-01-06  Parteilos   mitte                    Polizeidepartement (PD)  "
      ]
     },
     "execution_count": 99,
     "metadata": {},
     "output_type": "execute_result"
    }
   ],
   "source": [
    "df[\"Datum\"] = pd.to_datetime(df['Datum'], format='%d.%m.%Y')\n",
    "df = df.set_index(\"Datum\")\n",
    "df.head(5)"
   ]
  },
  {
   "cell_type": "code",
   "execution_count": 100,
   "metadata": {},
   "outputs": [
    {
     "name": "stdout",
     "output_type": "stream",
     "text": [
      "1990-94: 0\n",
      "1994-98: 7\n",
      "1998-02: 39\n",
      "2002-06: 79\n",
      "2006-10: 93\n",
      "2010-14: 91\n",
      "2014-18: 102\n",
      "2018-22: 67\n"
     ]
    }
   ],
   "source": [
    "df_1990 = df[\"1990-05-15\":\"1994-05-14\"]\n",
    "df_1994 = df[\"1994-05-15\":\"1998-05-14\"]\n",
    "df_1998 = df[\"1998-05-15\":\"2002-05-14\"]\n",
    "df_2002 = df[\"2002-05-15\":\"2006-05-14\"]\n",
    "df_2006 = df[\"2006-05-15\":\"2010-05-14\"]\n",
    "df_2010 = df[\"2010-05-15\":\"2014-05-14\"]\n",
    "df_2014 = df[\"2014-05-15\":\"2018-05-14\"]\n",
    "df_2018 = df[\"2018-05-15\":\"2022-05-14\"]\n",
    "\n",
    "print(\"1990-94: \"+str(len(df_1990)))\n",
    "print(\"1994-98: \"+str(len(df_1994)))\n",
    "print(\"1998-02: \"+str(len(df_1998)))\n",
    "print(\"2002-06: \"+str(len(df_2002)))\n",
    "print(\"2006-10: \"+str(len(df_2006)))\n",
    "print(\"2010-14: \"+str(len(df_2010)))\n",
    "print(\"2014-18: \"+str(len(df_2014)))\n",
    "print(\"2018-22: \"+str(len(df_2018)))"
   ]
  },
  {
   "cell_type": "code",
   "execution_count": null,
   "metadata": {},
   "outputs": [],
   "source": []
  }
 ],
 "metadata": {
  "kernelspec": {
   "display_name": "Python 3",
   "language": "python",
   "name": "python3"
  },
  "language_info": {
   "codemirror_mode": {
    "name": "ipython",
    "version": 3
   },
   "file_extension": ".py",
   "mimetype": "text/x-python",
   "name": "python",
   "nbconvert_exporter": "python",
   "pygments_lexer": "ipython3",
   "version": "3.7.6"
  }
 },
 "nbformat": 4,
 "nbformat_minor": 2
}
