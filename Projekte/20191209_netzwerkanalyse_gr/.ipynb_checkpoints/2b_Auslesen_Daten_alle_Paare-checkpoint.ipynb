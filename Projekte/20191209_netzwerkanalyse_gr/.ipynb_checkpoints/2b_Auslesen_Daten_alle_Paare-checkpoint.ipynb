{
 "cells": [
  {
   "cell_type": "markdown",
   "metadata": {},
   "source": [
    "Weil ich noch nicht ganz sicher bin, was die besseren Ergebnisse bringt bei der Netzwerkanalyse, mache ich hier eine Version, die auch jene Paare erfasst, die von der gleichen Partei sind."
   ]
  },
  {
   "cell_type": "code",
   "execution_count": 13,
   "metadata": {},
   "outputs": [
    {
     "name": "stderr",
     "output_type": "stream",
     "text": [
      "100%|██████████| 5086/5086 [03:02<00:00, 27.81it/s]\n"
     ]
    }
   ],
   "source": [
    "import os\n",
    "from bs4 import BeautifulSoup\n",
    "import pandas as pd\n",
    "from tqdm import tqdm\n",
    "import re\n",
    "\n",
    "files = os.listdir(\"alle_geschaefte\")\n",
    "df_list = []\n",
    "\n",
    "for file in tqdm(files): \n",
    "    \n",
    "    if \"geschaeft\" in file: #um fehlerhafte files auszuschliessen\n",
    "        geschaeft = open(\"alle_geschaefte/\"+ file, \"r\", encoding = \"utf-8\")\n",
    "        text = geschaeft.read()\n",
    "        soup = BeautifulSoup(text, \"html.parser\")\n",
    "    \n",
    "        #Jetzt filtern wir nur jene raus, die mehrere Einreichende haben:\n",
    "        einreichende = soup.find_all(\"div\")[24].find_all(\"a\")\n",
    "        if len(einreichende) > 1: \n",
    "            \n",
    "            #Jetzt filtern wir jene, die überhaupt einen Namen drin haben; Erkennungsmerkmal: Klammern\n",
    "            einreichender1 = einreichende[0].text.strip()\n",
    "            if \"(\" and \")\" in einreichender1:\n",
    "                \n",
    "                name1 = einreichender1.split(\" (\")[0]\n",
    "                partei1 = einreichender1.split(\" (\")[1][:-1]\n",
    "                \n",
    "                einreichender2 = einreichende[1].text.strip()\n",
    "                name2 = einreichender2.split(\" (\")[0]\n",
    "                partei2 = einreichender2.split(\" (\")[1][:-1]\n",
    "                \n",
    "                geschaeft_nr = soup.find_all(\"div\")[22].find_all(\"span\")[1].text\n",
    "                \n",
    "                regex = r\"((?<=\\svom\\s)\\d*\\.\\d*\\.\\s*\\d*)\"\n",
    "                datum = re.findall(regex, str(soup))[0]\n",
    "                \n",
    "                 try: \n",
    "                    regex_dep = r\"((?<=Zuständiges Departement).*\\n*.*)\"\n",
    "                    dep_fragment = re.findall(regex_dep, str(soup))[0]\n",
    "                    soup_dep = BeautifulSoup(dep_fragment, \"html.parser\")\n",
    "                    departement = soup_dep.text[1:]\n",
    "\n",
    "                except: \n",
    "                    departement = \"\"\n",
    "                            \n",
    "                mini_dict = {\n",
    "                    \"Datum\" : datum,\n",
    "                    \"Geschäft\" : geschaeft_nr,\n",
    "                    \"Einreichender 1\" : name1,\n",
    "                    \"Partei 1\" : partei1,\n",
    "                    \"Einreichender 2\" : name2,\n",
    "                    \"Partei 2\" : partei2,\n",
    "                    \"Departement\" : departement}\n",
    "                df_list.append(mini_dict)  "
   ]
  },
  {
   "cell_type": "code",
   "execution_count": 14,
   "metadata": {},
   "outputs": [
    {
     "data": {
      "text/plain": [
       "3128"
      ]
     },
     "execution_count": 14,
     "metadata": {},
     "output_type": "execute_result"
    }
   ],
   "source": [
    "#Jetzt ist die Liste dreimal so lang! (Also: zwei Drittel aller Doppeleingaben sind nicht parteiübergreifend!)\n",
    "len(df_list)"
   ]
  },
  {
   "cell_type": "code",
   "execution_count": 3,
   "metadata": {},
   "outputs": [
    {
     "data": {
      "text/html": [
       "<div>\n",
       "<style scoped>\n",
       "    .dataframe tbody tr th:only-of-type {\n",
       "        vertical-align: middle;\n",
       "    }\n",
       "\n",
       "    .dataframe tbody tr th {\n",
       "        vertical-align: top;\n",
       "    }\n",
       "\n",
       "    .dataframe thead th {\n",
       "        text-align: right;\n",
       "    }\n",
       "</style>\n",
       "<table border=\"1\" class=\"dataframe\">\n",
       "  <thead>\n",
       "    <tr style=\"text-align: right;\">\n",
       "      <th></th>\n",
       "      <th>Datum</th>\n",
       "      <th>Geschäft</th>\n",
       "      <th>Einreichender 1</th>\n",
       "      <th>Partei 1</th>\n",
       "      <th>Einreichender 2</th>\n",
       "      <th>Partei 2</th>\n",
       "      <th>Departement</th>\n",
       "    </tr>\n",
       "  </thead>\n",
       "  <tbody>\n",
       "    <tr>\n",
       "      <th>0</th>\n",
       "      <td>27.6.2001</td>\n",
       "      <td>2001/362</td>\n",
       "      <td>Jürg R. Schüepp</td>\n",
       "      <td>FDP</td>\n",
       "      <td>Ronald Schmid</td>\n",
       "      <td>FDP</td>\n",
       "      <td></td>\n",
       "    </tr>\n",
       "    <tr>\n",
       "      <th>1</th>\n",
       "      <td>5.4.2000</td>\n",
       "      <td>2000/171</td>\n",
       "      <td>Romana Leuzinger</td>\n",
       "      <td>SP</td>\n",
       "      <td>Vreni Hollenweger</td>\n",
       "      <td>SP</td>\n",
       "      <td>Schul- und Sportdepartement (SSD)</td>\n",
       "    </tr>\n",
       "    <tr>\n",
       "      <th>2</th>\n",
       "      <td>14.03.2012</td>\n",
       "      <td>2012/99</td>\n",
       "      <td>Gian von Planta</td>\n",
       "      <td>GLP</td>\n",
       "      <td>Guido Trevisan</td>\n",
       "      <td>GLP</td>\n",
       "      <td></td>\n",
       "    </tr>\n",
       "    <tr>\n",
       "      <th>3</th>\n",
       "      <td>02.07.2014</td>\n",
       "      <td>2014/227</td>\n",
       "      <td>Markus Knauss</td>\n",
       "      <td>Grüne</td>\n",
       "      <td>Felix Moser</td>\n",
       "      <td>Grüne</td>\n",
       "      <td>Polizeidepartement (PD)</td>\n",
       "    </tr>\n",
       "    <tr>\n",
       "      <th>4</th>\n",
       "      <td>05.10.2011</td>\n",
       "      <td>2011/376</td>\n",
       "      <td>Roger Bartholdi</td>\n",
       "      <td>SVP</td>\n",
       "      <td>Roland Scheck</td>\n",
       "      <td>SVP</td>\n",
       "      <td></td>\n",
       "    </tr>\n",
       "  </tbody>\n",
       "</table>\n",
       "</div>"
      ],
      "text/plain": [
       "        Datum  Geschäft   Einreichender 1 Partei 1    Einreichender 2  \\\n",
       "0   27.6.2001  2001/362   Jürg R. Schüepp      FDP      Ronald Schmid   \n",
       "1    5.4.2000  2000/171  Romana Leuzinger       SP  Vreni Hollenweger   \n",
       "2  14.03.2012   2012/99   Gian von Planta      GLP     Guido Trevisan   \n",
       "3  02.07.2014  2014/227     Markus Knauss    Grüne        Felix Moser   \n",
       "4  05.10.2011  2011/376   Roger Bartholdi      SVP      Roland Scheck   \n",
       "\n",
       "  Partei 2                        Departement  \n",
       "0      FDP                                     \n",
       "1       SP  Schul- und Sportdepartement (SSD)  \n",
       "2      GLP                                     \n",
       "3    Grüne            Polizeidepartement (PD)  \n",
       "4      SVP                                     "
      ]
     },
     "execution_count": 3,
     "metadata": {},
     "output_type": "execute_result"
    }
   ],
   "source": [
    "df = pd.DataFrame(df_list)\n",
    "df.head(5)"
   ]
  },
  {
   "cell_type": "code",
   "execution_count": 5,
   "metadata": {},
   "outputs": [
    {
     "data": {
      "text/plain": [
       "Andreas J. Schlegel    8\n",
       "Anton Stäbler          7\n",
       "Gregor Bucher          5\n",
       "Andreas Ammann         4\n",
       "Monika Piesbergen      4\n",
       "Placidus Maissen       3\n",
       "Urs Rechsteiner        3\n",
       "Jürg Liebermann        3\n",
       "Peter Marti            2\n",
       "Hanna Lienhard         2\n",
       "Fakir Atalay           1\n",
       "Urs Lauffer            1\n",
       "Esther Ponti-Weder     1\n",
       "Name: Einreichender 2, dtype: int64"
      ]
     },
     "execution_count": 5,
     "metadata": {},
     "output_type": "execute_result"
    }
   ],
   "source": [
    "#Hats hier noch zusätzliche Leute ohne Parteiangabe, so dass wir das Reparatur-Dict ergänzen müssen? Nein!\n",
    "df[df[\"Partei 2\"] == \"\"][\"Einreichender 2\"].value_counts()"
   ]
  },
  {
   "cell_type": "code",
   "execution_count": 6,
   "metadata": {},
   "outputs": [],
   "source": [
    "Reparatur_dict = {\"Gregor Bucher\":\"Grüne\",\n",
    "                  \"Andreas Ammann\":\"SP\",\n",
    "                  \"Urs Rechsteiner\":\"CVP\",\n",
    "                  \"Andreas J. Schlegel\":\"FDP\",\n",
    "                  \"Jürg Liebermann\":\"FDP\",\n",
    "                  \"Peter Marti\":\"FDP\",\n",
    "                  \"Fakir Atalay\":\"SP\",\n",
    "                  \"Anton Stäbler\":\"CVP\",\n",
    "                  \"Placidus Maissen\":\"CVP\",\n",
    "                  \"Salomon Browar\":\"Grüne\",\n",
    "                  \"Monika Piesbergen\":\"FDP\",\n",
    "                  \"Hanna Lienhard\":\"FDP\",\n",
    "                  \"Urs Lauffer\":\"FDP\",\n",
    "                  \"Esther Ponti-Weder\":\"CVP\"}"
   ]
  },
  {
   "cell_type": "code",
   "execution_count": 7,
   "metadata": {},
   "outputs": [],
   "source": [
    "def Reparatur(Person):\n",
    "    return Reparatur_dict[Person]\n",
    "\n",
    "fehlerposition1 = df[df[\"Partei 1\"] == \"\"][\"Einreichender 1\"].index.tolist()\n",
    "fehlerposition2 = df[df[\"Partei 2\"] == \"\"][\"Einreichender 2\"].index.tolist()\n",
    "\n",
    "for zeile in fehlerposition1:\n",
    "    df.loc[zeile, 'Partei 1'] = df.loc[zeile, 'Partei 1'].replace(\"\", Reparatur(df.loc[zeile, \"Einreichender 1\"]))\n",
    "\n",
    "for zeile in fehlerposition2:\n",
    "    df.loc[zeile, 'Partei 2'] = df.loc[zeile, 'Partei 2'].replace(\"\", Reparatur(df.loc[zeile, \"Einreichender 2\"]))"
   ]
  },
  {
   "cell_type": "code",
   "execution_count": 12,
   "metadata": {},
   "outputs": [],
   "source": [
    "#Auch diesen Dataframe speichern wir:\n",
    "df.to_csv(\"Dataframe_bereinigt_allepaare.csv\")"
   ]
  },
  {
   "cell_type": "code",
   "execution_count": null,
   "metadata": {},
   "outputs": [],
   "source": []
  }
 ],
 "metadata": {
  "kernelspec": {
   "display_name": "Python 3",
   "language": "python",
   "name": "python3"
  },
  "language_info": {
   "codemirror_mode": {
    "name": "ipython",
    "version": 3
   },
   "file_extension": ".py",
   "mimetype": "text/x-python",
   "name": "python",
   "nbconvert_exporter": "python",
   "pygments_lexer": "ipython3",
   "version": "3.7.6"
  }
 },
 "nbformat": 4,
 "nbformat_minor": 2
}
