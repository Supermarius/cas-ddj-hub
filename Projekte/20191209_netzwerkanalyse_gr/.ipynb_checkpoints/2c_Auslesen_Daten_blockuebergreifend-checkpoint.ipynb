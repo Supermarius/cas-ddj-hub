{
 "cells": [
  {
   "cell_type": "markdown",
   "metadata": {},
   "source": [
    "Weil für die Analyse bez. der Abhängigkeit von (linken) Mehrheiten Kooperation über den linken Block (SP,GP,AL) womöglich interessanter sind, konstruieren wir hier doch einen entsprechenden Dataframe"
   ]
  },
  {
   "cell_type": "code",
   "execution_count": 1,
   "metadata": {},
   "outputs": [],
   "source": [
    "#Hier definieren wir die drei Blöcke\n",
    "Block_Links = [\"SP\", \"Grüne\", \"AL\", \"FraP\"]\n",
    "Block_Mitte = [\"CVP\", \"GLP\", \"EVP\", \"CSP\", \"LdU\", \"Parteilos\"]\n",
    "Block_Rechts = [\"FDP\", \"SVP\", \"PFZ\", \"SL\"]"
   ]
  },
  {
   "cell_type": "code",
   "execution_count": 78,
   "metadata": {},
   "outputs": [
    {
     "name": "stderr",
     "output_type": "stream",
     "text": [
      "100%|██████████| 5086/5086 [03:13<00:00, 26.23it/s]\n"
     ]
    }
   ],
   "source": [
    "import os\n",
    "from bs4 import BeautifulSoup\n",
    "import pandas as pd\n",
    "from tqdm import tqdm\n",
    "import re\n",
    "\n",
    "files = os.listdir(\"alle_geschaefte\")\n",
    "df_list = []\n",
    "\n",
    "for file in tqdm(files): \n",
    "    \n",
    "    if \"geschaeft\" in file: #um fehlerhafte files auszuschliessen\n",
    "        geschaeft = open(\"alle_geschaefte/\"+ file, \"r\", encoding = \"utf-8\")\n",
    "        text = geschaeft.read()\n",
    "        soup = BeautifulSoup(text, \"html.parser\")\n",
    "    \n",
    "        #Jetzt filtern wir nur jene raus, die mehrere Einreichende haben:\n",
    "        einreichende = soup.find_all(\"div\")[24].find_all(\"a\")\n",
    "        if len(einreichende) > 1: \n",
    "            \n",
    "            #Jetzt filtern wir jene, die überhaupt einen Namen drin haben; Erkennungsmerkmal: Klammern\n",
    "            einreichender1 = einreichende[0].text.strip()\n",
    "            if \"(\" and \")\" in einreichender1:\n",
    "                \n",
    "                name1 = einreichender1.split(\" (\")[0]\n",
    "                partei1 = einreichender1.split(\" (\")[1][:-1]\n",
    "                \n",
    "                einreichender2 = einreichende[1].text.strip()\n",
    "                name2 = einreichender2.split(\" (\")[0]\n",
    "                partei2 = einreichender2.split(\" (\")[1][:-1]\n",
    "                \n",
    "                geschaeft_nr = soup.find_all(\"div\")[22].find_all(\"span\")[1].text\n",
    "                \n",
    "                regex = r\"((?<=\\svom\\s)\\d*\\.\\d*\\.\\d*)\"\n",
    "                datum = re.findall(regex, str(soup))[0]\n",
    "                \n",
    "                try: \n",
    "                    departement = soup.find_all(\"div\")[28].find_all(\"span\")[2].text\n",
    "                except: \n",
    "                    departement = \"\"\n",
    "                            \n",
    "                #Zum Schluss: Wir wollen nur jene in unserem Dict mit unterschiedlichen Blocks\n",
    "                if partei1 in Block_Links:\n",
    "                    block1 = \"links\"\n",
    "                elif partei1 in Block_Mitte:\n",
    "                    block1 = \"mitte\"\n",
    "                else:\n",
    "                    block1 = \"rechts\"\n",
    "                    \n",
    "                if partei2 in Block_Links:\n",
    "                    block2 = \"links\"\n",
    "                elif partei2 in Block_Mitte:\n",
    "                    block2 = \"mitte\"\n",
    "                else:\n",
    "                    block2 = \"rechts\"\n",
    "                \n",
    "                if block1 != block2:\n",
    "                    mini_dict = {\n",
    "                        \"Datum\" : datum,\n",
    "                        \"Geschäft\" : geschaeft_nr,\n",
    "                        \"Einreichender 1\" : name1,\n",
    "                        \"Partei 1\" : partei1,\n",
    "                        \"Block 1\" : block1,\n",
    "                        \"Einreichender 2\" : name2,\n",
    "                        \"Partei 2\" : partei2,\n",
    "                        \"Block 2\" : block2,\n",
    "                        \"Departement\" : departement\n",
    "                    }\n",
    "                    df_list.append(mini_dict)  "
   ]
  },
  {
   "cell_type": "code",
   "execution_count": 218,
   "metadata": {},
   "outputs": [
    {
     "data": {
      "text/plain": [
       "459"
      ]
     },
     "execution_count": 218,
     "metadata": {},
     "output_type": "execute_result"
    }
   ],
   "source": [
    "#Jetzt ist die Liste nicht mehr so lang...\n",
    "len(df_list)"
   ]
  },
  {
   "cell_type": "code",
   "execution_count": 206,
   "metadata": {},
   "outputs": [
    {
     "data": {
      "text/html": [
       "<div>\n",
       "<style scoped>\n",
       "    .dataframe tbody tr th:only-of-type {\n",
       "        vertical-align: middle;\n",
       "    }\n",
       "\n",
       "    .dataframe tbody tr th {\n",
       "        vertical-align: top;\n",
       "    }\n",
       "\n",
       "    .dataframe thead th {\n",
       "        text-align: right;\n",
       "    }\n",
       "</style>\n",
       "<table border=\"1\" class=\"dataframe\">\n",
       "  <thead>\n",
       "    <tr style=\"text-align: right;\">\n",
       "      <th></th>\n",
       "      <th>Datum</th>\n",
       "      <th>Geschäft</th>\n",
       "      <th>Einreichender 1</th>\n",
       "      <th>Partei 1</th>\n",
       "      <th>Block 1</th>\n",
       "      <th>Einreichender 2</th>\n",
       "      <th>Partei 2</th>\n",
       "      <th>Block 2</th>\n",
       "      <th>Departement</th>\n",
       "    </tr>\n",
       "  </thead>\n",
       "  <tbody>\n",
       "    <tr>\n",
       "      <th>0</th>\n",
       "      <td>25.11.2009</td>\n",
       "      <td>2009/562</td>\n",
       "      <td>Kurt Hüssy</td>\n",
       "      <td>SVP</td>\n",
       "      <td>rechts</td>\n",
       "      <td>Peter Anderegg</td>\n",
       "      <td>EVP</td>\n",
       "      <td>mitte</td>\n",
       "      <td>Polizeidepartement (PD)</td>\n",
       "    </tr>\n",
       "    <tr>\n",
       "      <th>1</th>\n",
       "      <td>16.05.2013</td>\n",
       "      <td>2005/550</td>\n",
       "      <td>Mario Mariani</td>\n",
       "      <td>CVP</td>\n",
       "      <td>mitte</td>\n",
       "      <td>Muriel Herzig</td>\n",
       "      <td>Grüne</td>\n",
       "      <td>links</td>\n",
       "      <td></td>\n",
       "    </tr>\n",
       "    <tr>\n",
       "      <th>2</th>\n",
       "      <td>31.10.2018</td>\n",
       "      <td>2018/413</td>\n",
       "      <td>Ernst Danner</td>\n",
       "      <td>EVP</td>\n",
       "      <td>mitte</td>\n",
       "      <td>Raphael Kobler</td>\n",
       "      <td>FDP</td>\n",
       "      <td>rechts</td>\n",
       "      <td></td>\n",
       "    </tr>\n",
       "    <tr>\n",
       "      <th>3</th>\n",
       "      <td>1.12.2004</td>\n",
       "      <td>2004/637</td>\n",
       "      <td>Corine Mauch</td>\n",
       "      <td>SP</td>\n",
       "      <td>links</td>\n",
       "      <td>Albert Leiser</td>\n",
       "      <td>FDP</td>\n",
       "      <td>rechts</td>\n",
       "      <td></td>\n",
       "    </tr>\n",
       "    <tr>\n",
       "      <th>4</th>\n",
       "      <td>19.09.2018</td>\n",
       "      <td>2018/361</td>\n",
       "      <td>Matthias Probst</td>\n",
       "      <td>Grüne</td>\n",
       "      <td>links</td>\n",
       "      <td>Guido Hüni</td>\n",
       "      <td>GLP</td>\n",
       "      <td>mitte</td>\n",
       "      <td>Stadtrat</td>\n",
       "    </tr>\n",
       "  </tbody>\n",
       "</table>\n",
       "</div>"
      ],
      "text/plain": [
       "        Datum  Geschäft  Einreichender 1 Partei 1 Block 1 Einreichender 2  \\\n",
       "0  25.11.2009  2009/562       Kurt Hüssy      SVP  rechts  Peter Anderegg   \n",
       "1  16.05.2013  2005/550    Mario Mariani      CVP   mitte   Muriel Herzig   \n",
       "2  31.10.2018  2018/413     Ernst Danner      EVP   mitte  Raphael Kobler   \n",
       "3   1.12.2004  2004/637     Corine Mauch       SP   links   Albert Leiser   \n",
       "4  19.09.2018  2018/361  Matthias Probst    Grüne   links      Guido Hüni   \n",
       "\n",
       "  Partei 2 Block 2              Departement  \n",
       "0      EVP   mitte  Polizeidepartement (PD)  \n",
       "1    Grüne   links                           \n",
       "2      FDP  rechts                           \n",
       "3      FDP  rechts                           \n",
       "4      GLP   mitte                 Stadtrat  "
      ]
     },
     "execution_count": 206,
     "metadata": {},
     "output_type": "execute_result"
    }
   ],
   "source": [
    "df = pd.DataFrame(df_list)\n",
    "df.head(5)"
   ]
  },
  {
   "cell_type": "code",
   "execution_count": 207,
   "metadata": {},
   "outputs": [
    {
     "data": {
      "text/plain": [
       "Anton Stäbler         7\n",
       "Gregor Bucher         5\n",
       "Andreas Ammann        4\n",
       "Placidus Maissen      3\n",
       "Urs Rechsteiner       3\n",
       "Fakir Atalay          1\n",
       "Esther Ponti-Weder    1\n",
       "Urs Lauffer           1\n",
       "Name: Einreichender 2, dtype: int64"
      ]
     },
     "execution_count": 207,
     "metadata": {},
     "output_type": "execute_result"
    }
   ],
   "source": [
    "#Hats hier noch zusätzliche Leute ohne Parteiangabe, so dass wir das Reparatur-Dict ergänzen müssen? Nein!\n",
    "df[df[\"Partei 2\"] == \"\"][\"Einreichender 2\"].value_counts()"
   ]
  },
  {
   "cell_type": "code",
   "execution_count": 208,
   "metadata": {},
   "outputs": [],
   "source": [
    "Reparatur_dict = {\"Gregor Bucher\":\"Grüne\",\n",
    "                  \"Andreas Ammann\":\"SP\",\n",
    "                  \"Urs Rechsteiner\":\"CVP\",\n",
    "                  \"Andreas J. Schlegel\":\"FDP\",\n",
    "                  \"Jürg Liebermann\":\"FDP\",\n",
    "                  \"Peter Marti\":\"FDP\",\n",
    "                  \"Fakir Atalay\":\"SP\",\n",
    "                  \"Anton Stäbler\":\"CVP\",\n",
    "                  \"Placidus Maissen\":\"CVP\",\n",
    "                  \"Salomon Browar\":\"Grüne\",\n",
    "                  \"Monika Piesbergen\":\"FDP\",\n",
    "                  \"Hanna Lienhard\":\"FDP\",\n",
    "                  \"Urs Lauffer\":\"FDP\",\n",
    "                  \"Esther Ponti-Weder\":\"CVP\"}"
   ]
  },
  {
   "cell_type": "code",
   "execution_count": 209,
   "metadata": {},
   "outputs": [],
   "source": [
    "def Reparatur(Person):\n",
    "    return Reparatur_dict[Person]\n",
    "\n",
    "fehlerposition1 = df[df[\"Partei 1\"] == \"\"][\"Einreichender 1\"].index.tolist()\n",
    "fehlerposition2 = df[df[\"Partei 2\"] == \"\"][\"Einreichender 2\"].index.tolist()\n",
    "\n",
    "for zeile in fehlerposition1:\n",
    "    df.loc[zeile, 'Partei 1'] = df.loc[zeile, 'Partei 1'].replace(\"\", Reparatur(df.loc[zeile, \"Einreichender 1\"]))\n",
    "\n",
    "for zeile in fehlerposition2:\n",
    "    df.loc[zeile, 'Partei 2'] = df.loc[zeile, 'Partei 2'].replace(\"\", Reparatur(df.loc[zeile, \"Einreichender 2\"]))"
   ]
  },
  {
   "cell_type": "markdown",
   "metadata": {},
   "source": [
    "Achtung, durch die Reparatur sind möglicherweise Paare der gleichen Partei oder des gleichen Blocks entstanden, die müssen wir rausfiltern:"
   ]
  },
  {
   "cell_type": "code",
   "execution_count": 210,
   "metadata": {},
   "outputs": [
    {
     "data": {
      "text/plain": [
       "459"
      ]
     },
     "execution_count": 210,
     "metadata": {},
     "output_type": "execute_result"
    }
   ],
   "source": [
    "len(df)"
   ]
  },
  {
   "cell_type": "code",
   "execution_count": 166,
   "metadata": {},
   "outputs": [
    {
     "data": {
      "text/plain": [
       "'EVP'"
      ]
     },
     "execution_count": 166,
     "metadata": {},
     "output_type": "execute_result"
    }
   ],
   "source": [
    "df.loc[0, \"Partei 2\"]"
   ]
  },
  {
   "cell_type": "code",
   "execution_count": 154,
   "metadata": {},
   "outputs": [],
   "source": [
    "#Hier ist die Variante für Parteien:\n",
    "for zeile in range(0, len(df)-1):\n",
    "    if df.loc[zeile, \"Partei 1\"] == df.loc[zeile, \"Partei 2\"]:\n",
    "        df.drop(zeile, inplace = True)"
   ]
  },
  {
   "cell_type": "code",
   "execution_count": 167,
   "metadata": {},
   "outputs": [
    {
     "data": {
      "text/plain": [
       "459"
      ]
     },
     "execution_count": 167,
     "metadata": {},
     "output_type": "execute_result"
    }
   ],
   "source": [
    "len(df)"
   ]
  },
  {
   "cell_type": "code",
   "execution_count": 211,
   "metadata": {},
   "outputs": [],
   "source": [
    "#Und hier ist die Variante für Blöcke:\n",
    "#Hier definieren wir die drei Blöcke\n",
    "Block_Links = [\"SP\", \"Grüne\", \"AL\", \"FraP\"]\n",
    "Block_Mitte = [\"CVP\", \"GLP\", \"EVP\", \"CSP\", \"LdU\", \"Parteilos\"]\n",
    "Block_Rechts = [\"FDP\", \"SVP\", \"PFZ\", \"SL\"]\n",
    "\n",
    "for zeile in range(0, len(df)-1):\n",
    "    \n",
    "    #erst müssen wir die fehlende Wert für die Blöcke ergänzen...\n",
    "    if df.loc[zeile, \"Partei 1\"] in Block_Links:\n",
    "        df.loc[zeile, \"Block 1\"] = \"links\"\n",
    "    elif df.loc[zeile, \"Partei 1\"] in Block_Mitte:\n",
    "        df.loc[zeile, \"Block 1\"] = \"mitte\"\n",
    "    else:\n",
    "        df.loc[zeile, \"Block 1\"] = \"rechts\"\n",
    "                    \n",
    "    if df.loc[zeile, \"Partei 2\"] in Block_Links:\n",
    "        df.loc[zeile, \"Block 2\"] = \"links\"\n",
    "    elif df.loc[zeile, \"Partei 2\"] in Block_Mitte:\n",
    "        df.loc[zeile, \"Block 2\"] = \"mitte\"\n",
    "    else:\n",
    "        df.loc[zeile, \"Block 2\"] = \"rechts\"\n",
    "    \n",
    "    #...und dann löschen wir gleiche raus\n",
    "    if df.loc[zeile, \"Block 1\"] == df.loc[zeile, \"Block 2\"]:\n",
    "        #print( df.loc[zeile, \"Block 1\"] + df.loc[zeile, \"Block 2\"])\n",
    "        df.drop(zeile, inplace = True)"
   ]
  },
  {
   "cell_type": "code",
   "execution_count": 212,
   "metadata": {},
   "outputs": [
    {
     "data": {
      "text/plain": [
       "406"
      ]
     },
     "execution_count": 212,
     "metadata": {},
     "output_type": "execute_result"
    }
   ],
   "source": [
    "len(df)"
   ]
  },
  {
   "cell_type": "code",
   "execution_count": 216,
   "metadata": {},
   "outputs": [
    {
     "data": {
      "text/html": [
       "<div>\n",
       "<style scoped>\n",
       "    .dataframe tbody tr th:only-of-type {\n",
       "        vertical-align: middle;\n",
       "    }\n",
       "\n",
       "    .dataframe tbody tr th {\n",
       "        vertical-align: top;\n",
       "    }\n",
       "\n",
       "    .dataframe thead th {\n",
       "        text-align: right;\n",
       "    }\n",
       "</style>\n",
       "<table border=\"1\" class=\"dataframe\">\n",
       "  <thead>\n",
       "    <tr style=\"text-align: right;\">\n",
       "      <th></th>\n",
       "      <th>Datum</th>\n",
       "      <th>Geschäft</th>\n",
       "      <th>Einreichender 1</th>\n",
       "      <th>Partei 1</th>\n",
       "      <th>Block 1</th>\n",
       "      <th>Einreichender 2</th>\n",
       "      <th>Partei 2</th>\n",
       "      <th>Block 2</th>\n",
       "      <th>Departement</th>\n",
       "    </tr>\n",
       "  </thead>\n",
       "  <tbody>\n",
       "    <tr>\n",
       "      <th>0</th>\n",
       "      <td>25.11.2009</td>\n",
       "      <td>2009/562</td>\n",
       "      <td>Kurt Hüssy</td>\n",
       "      <td>SVP</td>\n",
       "      <td>rechts</td>\n",
       "      <td>Peter Anderegg</td>\n",
       "      <td>EVP</td>\n",
       "      <td>mitte</td>\n",
       "      <td>Polizeidepartement (PD)</td>\n",
       "    </tr>\n",
       "    <tr>\n",
       "      <th>1</th>\n",
       "      <td>16.05.2013</td>\n",
       "      <td>2005/550</td>\n",
       "      <td>Mario Mariani</td>\n",
       "      <td>CVP</td>\n",
       "      <td>mitte</td>\n",
       "      <td>Muriel Herzig</td>\n",
       "      <td>Grüne</td>\n",
       "      <td>links</td>\n",
       "      <td></td>\n",
       "    </tr>\n",
       "    <tr>\n",
       "      <th>2</th>\n",
       "      <td>31.10.2018</td>\n",
       "      <td>2018/413</td>\n",
       "      <td>Ernst Danner</td>\n",
       "      <td>EVP</td>\n",
       "      <td>mitte</td>\n",
       "      <td>Raphael Kobler</td>\n",
       "      <td>FDP</td>\n",
       "      <td>rechts</td>\n",
       "      <td></td>\n",
       "    </tr>\n",
       "    <tr>\n",
       "      <th>3</th>\n",
       "      <td>1.12.2004</td>\n",
       "      <td>2004/637</td>\n",
       "      <td>Corine Mauch</td>\n",
       "      <td>SP</td>\n",
       "      <td>links</td>\n",
       "      <td>Albert Leiser</td>\n",
       "      <td>FDP</td>\n",
       "      <td>rechts</td>\n",
       "      <td></td>\n",
       "    </tr>\n",
       "    <tr>\n",
       "      <th>4</th>\n",
       "      <td>19.09.2018</td>\n",
       "      <td>2018/361</td>\n",
       "      <td>Matthias Probst</td>\n",
       "      <td>Grüne</td>\n",
       "      <td>links</td>\n",
       "      <td>Guido Hüni</td>\n",
       "      <td>GLP</td>\n",
       "      <td>mitte</td>\n",
       "      <td>Stadtrat</td>\n",
       "    </tr>\n",
       "    <tr>\n",
       "      <th>...</th>\n",
       "      <td>...</td>\n",
       "      <td>...</td>\n",
       "      <td>...</td>\n",
       "      <td>...</td>\n",
       "      <td>...</td>\n",
       "      <td>...</td>\n",
       "      <td>...</td>\n",
       "      <td>...</td>\n",
       "      <td>...</td>\n",
       "    </tr>\n",
       "    <tr>\n",
       "      <th>453</th>\n",
       "      <td>25.5.2005</td>\n",
       "      <td>2005/207</td>\n",
       "      <td>Hans Jörg Käppeli</td>\n",
       "      <td>SP</td>\n",
       "      <td>links</td>\n",
       "      <td>Heinz F. Steger</td>\n",
       "      <td>FDP</td>\n",
       "      <td>rechts</td>\n",
       "      <td>Tiefbau- und Entsorgungsdepartement (TED)</td>\n",
       "    </tr>\n",
       "    <tr>\n",
       "      <th>454</th>\n",
       "      <td>16.1.2008</td>\n",
       "      <td>2008/33</td>\n",
       "      <td>Marlène Butz</td>\n",
       "      <td>SP</td>\n",
       "      <td>links</td>\n",
       "      <td>Astrid Hirzel</td>\n",
       "      <td>CVP</td>\n",
       "      <td>mitte</td>\n",
       "      <td>Polizeidepartement (PD)</td>\n",
       "    </tr>\n",
       "    <tr>\n",
       "      <th>456</th>\n",
       "      <td>25.1.2006</td>\n",
       "      <td>2006/22</td>\n",
       "      <td>Andreas Ammann</td>\n",
       "      <td>SP</td>\n",
       "      <td>links</td>\n",
       "      <td>Robert Schönbächler</td>\n",
       "      <td>CVP</td>\n",
       "      <td>mitte</td>\n",
       "      <td>Tiefbau- und Entsorgungsdepartement (TED)</td>\n",
       "    </tr>\n",
       "    <tr>\n",
       "      <th>457</th>\n",
       "      <td>3.5.2006</td>\n",
       "      <td>2006/139</td>\n",
       "      <td>Marlène Butz</td>\n",
       "      <td>SP</td>\n",
       "      <td>links</td>\n",
       "      <td>Robert Schönbächler</td>\n",
       "      <td>CVP</td>\n",
       "      <td>mitte</td>\n",
       "      <td>Departement der Industriellen Betriebe (DIB)</td>\n",
       "    </tr>\n",
       "    <tr>\n",
       "      <th>458</th>\n",
       "      <td>9.1.2008</td>\n",
       "      <td>2008/3</td>\n",
       "      <td>Joe A. Manser</td>\n",
       "      <td>SP</td>\n",
       "      <td>links</td>\n",
       "      <td>Mario Mariani</td>\n",
       "      <td>CVP</td>\n",
       "      <td>mitte</td>\n",
       "      <td>Präsidialdepartement (PRD)</td>\n",
       "    </tr>\n",
       "  </tbody>\n",
       "</table>\n",
       "<p>406 rows × 9 columns</p>\n",
       "</div>"
      ],
      "text/plain": [
       "          Datum  Geschäft    Einreichender 1 Partei 1 Block 1  \\\n",
       "0    25.11.2009  2009/562         Kurt Hüssy      SVP  rechts   \n",
       "1    16.05.2013  2005/550      Mario Mariani      CVP   mitte   \n",
       "2    31.10.2018  2018/413       Ernst Danner      EVP   mitte   \n",
       "3     1.12.2004  2004/637       Corine Mauch       SP   links   \n",
       "4    19.09.2018  2018/361    Matthias Probst    Grüne   links   \n",
       "..          ...       ...                ...      ...     ...   \n",
       "453   25.5.2005  2005/207  Hans Jörg Käppeli       SP   links   \n",
       "454   16.1.2008   2008/33       Marlène Butz       SP   links   \n",
       "456   25.1.2006   2006/22     Andreas Ammann       SP   links   \n",
       "457    3.5.2006  2006/139       Marlène Butz       SP   links   \n",
       "458    9.1.2008    2008/3      Joe A. Manser       SP   links   \n",
       "\n",
       "         Einreichender 2 Partei 2 Block 2  \\\n",
       "0         Peter Anderegg      EVP   mitte   \n",
       "1          Muriel Herzig    Grüne   links   \n",
       "2         Raphael Kobler      FDP  rechts   \n",
       "3          Albert Leiser      FDP  rechts   \n",
       "4             Guido Hüni      GLP   mitte   \n",
       "..                   ...      ...     ...   \n",
       "453      Heinz F. Steger      FDP  rechts   \n",
       "454        Astrid Hirzel      CVP   mitte   \n",
       "456  Robert Schönbächler      CVP   mitte   \n",
       "457  Robert Schönbächler      CVP   mitte   \n",
       "458        Mario Mariani      CVP   mitte   \n",
       "\n",
       "                                      Departement  \n",
       "0                         Polizeidepartement (PD)  \n",
       "1                                                  \n",
       "2                                                  \n",
       "3                                                  \n",
       "4                                        Stadtrat  \n",
       "..                                            ...  \n",
       "453     Tiefbau- und Entsorgungsdepartement (TED)  \n",
       "454                       Polizeidepartement (PD)  \n",
       "456     Tiefbau- und Entsorgungsdepartement (TED)  \n",
       "457  Departement der Industriellen Betriebe (DIB)  \n",
       "458                    Präsidialdepartement (PRD)  \n",
       "\n",
       "[406 rows x 9 columns]"
      ]
     },
     "execution_count": 216,
     "metadata": {},
     "output_type": "execute_result"
    }
   ],
   "source": [
    "df"
   ]
  },
  {
   "cell_type": "code",
   "execution_count": 217,
   "metadata": {},
   "outputs": [],
   "source": [
    "#Auch diesen Dataframe speichern wir:\n",
    "df.to_csv(\"Dataframe_bereinigt_blockuebergreifend.csv\")"
   ]
  },
  {
   "cell_type": "markdown",
   "metadata": {},
   "source": [
    "### Die Zahlen können wir schon einmal auswerten:"
   ]
  },
  {
   "cell_type": "code",
   "execution_count": 219,
   "metadata": {},
   "outputs": [
    {
     "data": {
      "text/html": [
       "<div>\n",
       "<style scoped>\n",
       "    .dataframe tbody tr th:only-of-type {\n",
       "        vertical-align: middle;\n",
       "    }\n",
       "\n",
       "    .dataframe tbody tr th {\n",
       "        vertical-align: top;\n",
       "    }\n",
       "\n",
       "    .dataframe thead th {\n",
       "        text-align: right;\n",
       "    }\n",
       "</style>\n",
       "<table border=\"1\" class=\"dataframe\">\n",
       "  <thead>\n",
       "    <tr style=\"text-align: right;\">\n",
       "      <th></th>\n",
       "      <th>Geschaefte</th>\n",
       "    </tr>\n",
       "  </thead>\n",
       "  <tbody>\n",
       "    <tr>\n",
       "      <th>SP</th>\n",
       "      <td>193.0</td>\n",
       "    </tr>\n",
       "    <tr>\n",
       "      <th>Grüne</th>\n",
       "      <td>98.0</td>\n",
       "    </tr>\n",
       "    <tr>\n",
       "      <th>FDP</th>\n",
       "      <td>133.0</td>\n",
       "    </tr>\n",
       "    <tr>\n",
       "      <th>GLP</th>\n",
       "      <td>104.0</td>\n",
       "    </tr>\n",
       "    <tr>\n",
       "      <th>CVP</th>\n",
       "      <td>137.0</td>\n",
       "    </tr>\n",
       "    <tr>\n",
       "      <th>AL</th>\n",
       "      <td>30.0</td>\n",
       "    </tr>\n",
       "    <tr>\n",
       "      <th>SVP</th>\n",
       "      <td>43.0</td>\n",
       "    </tr>\n",
       "    <tr>\n",
       "      <th>Parteilos</th>\n",
       "      <td>16.0</td>\n",
       "    </tr>\n",
       "    <tr>\n",
       "      <th>CSP</th>\n",
       "      <td>14.0</td>\n",
       "    </tr>\n",
       "    <tr>\n",
       "      <th>EVP</th>\n",
       "      <td>40.0</td>\n",
       "    </tr>\n",
       "    <tr>\n",
       "      <th>PFZ</th>\n",
       "      <td>NaN</td>\n",
       "    </tr>\n",
       "    <tr>\n",
       "      <th>LdU</th>\n",
       "      <td>2.0</td>\n",
       "    </tr>\n",
       "  </tbody>\n",
       "</table>\n",
       "</div>"
      ],
      "text/plain": [
       "           Geschaefte\n",
       "SP              193.0\n",
       "Grüne            98.0\n",
       "FDP             133.0\n",
       "GLP             104.0\n",
       "CVP             137.0\n",
       "AL               30.0\n",
       "SVP              43.0\n",
       "Parteilos        16.0\n",
       "CSP              14.0\n",
       "EVP              40.0\n",
       "PFZ               NaN\n",
       "LdU               2.0"
      ]
     },
     "execution_count": 219,
     "metadata": {},
     "output_type": "execute_result"
    }
   ],
   "source": [
    "df_Anzahl = df[\"Partei 1\"].value_counts().to_frame()\n",
    "df_Anzahl[\"Partei 2\"] = df[\"Partei 2\"].value_counts()\n",
    "df_Anzahl[\"Geschaefte\"] = df_Anzahl[\"Partei 1\"] + df_Anzahl[\"Partei 2\"]\n",
    "df_Anzahl = df_Anzahl.drop(columns=['Partei 1', 'Partei 2'])\n",
    "df_Anzahl"
   ]
  },
  {
   "cell_type": "code",
   "execution_count": null,
   "metadata": {},
   "outputs": [],
   "source": []
  }
 ],
 "metadata": {
  "kernelspec": {
   "display_name": "Python 3",
   "language": "python",
   "name": "python3"
  },
  "language_info": {
   "codemirror_mode": {
    "name": "ipython",
    "version": 3
   },
   "file_extension": ".py",
   "mimetype": "text/x-python",
   "name": "python",
   "nbconvert_exporter": "python",
   "pygments_lexer": "ipython3",
   "version": "3.7.6"
  }
 },
 "nbformat": 4,
 "nbformat_minor": 2
}
