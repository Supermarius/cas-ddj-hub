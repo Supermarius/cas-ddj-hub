{
 "cells": [
  {
   "cell_type": "code",
   "execution_count": 2,
   "metadata": {},
   "outputs": [],
   "source": [
    "import warnings\n",
    "warnings.filterwarnings('ignore')\n",
    "import networkx as nx\n",
    "import pandas as pd\n",
    "\n",
    "file = open(\"Dataframe_bereinigt_parteiuebergreifend.csv\", mode=\"r\")\n",
    "df2=pd.read_csv(file)\n",
    "df2 = df2.set_index(\"Unnamed: 0\")\n",
    "\n",
    "#Hier setze ich noch eine Spalte mit dem Timestamp in den Dataframe:\n",
    "df2[\"Jahr\"] = df2[\"Geschäft\"]\n",
    "df2[\"Jahr\"] = df2[\"Jahr\"].apply(lambda x: x.split(\"/\")[0])\n",
    "df2[\"Jahr\"]= pd.to_datetime(df2[\"Jahr\"], format=\"%Y\")\n",
    "\n",
    "#Als erstes ziehen wir die Personen as knodes raus und verleiehen ihnen das Attribut \"Partei\"\n",
    "Netz2 = nx.Graph()\n",
    "for a in range(0,(len(df2)-1)):\n",
    "    Person1 = str(df2.loc[a][\"Einreichender 1\"])\n",
    "    Person2 = str(df2.loc[a][\"Einreichender 2\"])\n",
    "    Partei1 = str(df2.loc[a][\"Partei 1\"])\n",
    "    Partei2 = str(df2.loc[a][\"Partei 2\"])\n",
    "    Netz2.add_node(Person1, Partei = Partei1)\n",
    "    Netz2.add_node(Person2, Partei = Partei2)\n",
    "\n",
    "#Als zweites machen wir die edges und versehen sie mit drei Attributen: Thema und Timestamp und Weight:\n",
    "for a in range(0,(len(df2)-1)):\n",
    "    Person1 = str(df2.loc[a][\"Einreichender 1\"])\n",
    "    Person2 = str(df2.loc[a][\"Einreichender 2\"])\n",
    "    Jahr = str(df2.loc[a][\"Jahr\"])\n",
    "    Departement = str(df2.loc[a][\"Departement\"])\n",
    "    \n",
    "     #Beziehungen, die mehrmals vorkommen, sollen stärker gewichtet werden (weight +1)\n",
    "    if Netz2.has_edge(Person1, Person2):\n",
    "        Netz2[Person1][Person2][\"weight\"] += 1\n",
    "    else:\n",
    "        Netz2.add_edge(Person1, Person2, timestamp = Jahr, thema = Departement, weight=1)\n",
    "    \n",
    "nx.write_gexf(Netz2, \"Politikerpaare.gexf\")"
   ]
  },
  {
   "cell_type": "code",
   "execution_count": null,
   "metadata": {},
   "outputs": [],
   "source": []
  }
 ],
 "metadata": {
  "kernelspec": {
   "display_name": "Python 3",
   "language": "python",
   "name": "python3"
  },
  "language_info": {
   "codemirror_mode": {
    "name": "ipython",
    "version": 3
   },
   "file_extension": ".py",
   "mimetype": "text/x-python",
   "name": "python",
   "nbconvert_exporter": "python",
   "pygments_lexer": "ipython3",
   "version": "3.7.6"
  }
 },
 "nbformat": 4,
 "nbformat_minor": 2
}
