{
 "cells": [
  {
   "cell_type": "code",
   "execution_count": null,
   "metadata": {},
   "outputs": [],
   "source": [
    "import camelot\n",
    "import tabula\n",
    "import pandas as pd\n",
    "import numpy as np"
   ]
  },
  {
   "cell_type": "code",
   "execution_count": null,
   "metadata": {},
   "outputs": [],
   "source": [
    "pfad = \"Lieferung_SEB-Schulergebnisse_2/Schulberichte/AlleSchulen_2006.pdf\"\n",
    "umfrage = camelot.read_pdf(pfad, flavor='stream', pages='all')"
   ]
  },
  {
   "cell_type": "code",
   "execution_count": null,
   "metadata": {},
   "outputs": [],
   "source": [
    "jahr = 2006\n",
    "dic_list = []\n",
    "\n",
    "\n",
    "for table in range(0, len(umfrage), 2):\n",
    "    df_schule = umfrage[table].df\n",
    "    \n",
    "    if df_schule.loc[0,13] == \"Beurteilung\":   #Wir checken hier anhand eines eindeutigen Merkmals, ob eine Zeile fehlt\n",
    "        df_newrow = df_schule.head(1)\n",
    "        df_schule = pd.concat([df_newrow, df_schule], ignore_index = True)   # Ignore Index ist entscheidend!\n",
    "\n",
    "    name = df_schule.loc[2,0]\n",
    "        \n",
    "    if df_schule.loc[1,12] == \"Beurteilung\": # wiederholen den CHeck wegen Spaltenverschiebungen\n",
    "        df_kurz = df_schule.drop([0,1,2,3,4,5,81,82])  # auch Schluss kürzen, weils da Müll drinhat, der stört\n",
    "        df_kurz = df_kurz.replace(\"\", np.nan)\n",
    "        df_kurz.columns = [1,2,3,4,5,6,7,8,9,10,11,12,13,14,15,16,17,18,19] # Kolumnenamen umschreiben\n",
    "    \n",
    "    else:\n",
    "        df_kurz = df_schule.drop([0,1,2,3,4,5])\n",
    "        df_kurz = df_kurz.replace(\"\", np.nan)\n",
    "    \n",
    "    our_columns = [3,8,9,10,11,12,13]\n",
    "    df_kurz[our_columns] = df_kurz[our_columns].astype(float)\n",
    "    df_kurz[\"Summe\"] = df_kurz[8] + df_kurz[9].multiply(2) + df_kurz[10].multiply(3) + df_kurz[11].multiply(4) + df_kurz[12].multiply(5) + df_kurz[13].multiply(6)\n",
    "    df_kurz[\"Notenschnitt\"] = (df_kurz[\"Summe\"] / df_kurz[3]).round(3) #gerundet auf eine Kommastelle\n",
    "    \n",
    "    zufr = df_kurz.loc[6, \"Notenschnitt\"]\n",
    "    vorb_f = df_kurz.loc[7, \"Notenschnitt\"]\n",
    "    vorb_p = df_kurz.loc[9, \"Notenschnitt\"]\n",
    "    prob = df_kurz.loc[13, \"Notenschnitt\"]\n",
    "    urt = df_kurz.loc[14, \"Notenschnitt\"]\n",
    "    zus = df_kurz.loc[16, \"Notenschnitt\"]\n",
    "    konf = df_kurz.loc[17, \"Notenschnitt\"]\n",
    "\n",
    "    mini_dict = {\"jahr\": jahr, \n",
    "                 \"name\": name, \n",
    "                 \"zufr\": zufr, \n",
    "                 \"vorb_f\": vorb_f, \n",
    "                 \"vorb_p\":vorb_p, \n",
    "                 \"prob\": prob, \n",
    "                 \"urt\": urt, \n",
    "                 \"zus\": zus, \n",
    "                 \"konf\": konf}\n",
    "    dic_list.append(mini_dict)"
   ]
  },
  {
   "cell_type": "code",
   "execution_count": null,
   "metadata": {},
   "outputs": [],
   "source": [
    "df_final = pd.DataFrame(dic_list)\n",
    "df_final.to_csv(\"Pandas_Results2006.csv\")"
   ]
  },
  {
   "cell_type": "code",
   "execution_count": null,
   "metadata": {},
   "outputs": [],
   "source": []
  }
 ],
 "metadata": {
  "kernelspec": {
   "display_name": "Python 3",
   "language": "python",
   "name": "python3"
  }
 },
 "nbformat": 4,
 "nbformat_minor": 2
}
