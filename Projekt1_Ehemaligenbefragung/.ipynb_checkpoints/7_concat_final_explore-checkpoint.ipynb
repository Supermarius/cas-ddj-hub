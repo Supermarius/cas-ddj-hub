{
 "cells": [
  {
   "cell_type": "code",
   "execution_count": 1,
   "metadata": {},
   "outputs": [],
   "source": [
    "import pandas as pd\n",
    "import re\n",
    "%matplotlib inline"
   ]
  },
  {
   "cell_type": "code",
   "execution_count": 2,
   "metadata": {},
   "outputs": [],
   "source": [
    "data2006 = pd.read_csv(\"Pandas_Results2006.csv\", index_col = 0) \n",
    "data2009 = pd.read_csv(\"Pandas_Results2009.csv\", index_col = 0)\n",
    "data2015 = pd.read_csv(\"Pandas_Results2015.csv\", index_col = 0) \n",
    "data2018 = pd.read_csv(\"Pandas_Results2018.csv\", index_col = 0)"
   ]
  },
  {
   "cell_type": "code",
   "execution_count": 3,
   "metadata": {},
   "outputs": [],
   "source": [
    "df_total = pd.concat([data2006, data2009, data2015, data2018], ignore_index = True)"
   ]
  },
  {
   "cell_type": "code",
   "execution_count": 64,
   "metadata": {},
   "outputs": [
    {
     "data": {
      "text/html": [
       "<div>\n",
       "<style scoped>\n",
       "    .dataframe tbody tr th:only-of-type {\n",
       "        vertical-align: middle;\n",
       "    }\n",
       "\n",
       "    .dataframe tbody tr th {\n",
       "        vertical-align: top;\n",
       "    }\n",
       "\n",
       "    .dataframe thead th {\n",
       "        text-align: right;\n",
       "    }\n",
       "</style>\n",
       "<table border=\"1\" class=\"dataframe\">\n",
       "  <thead>\n",
       "    <tr style=\"text-align: right;\">\n",
       "      <th></th>\n",
       "      <th>jahr</th>\n",
       "      <th>name</th>\n",
       "      <th>zufr</th>\n",
       "      <th>vorb_f</th>\n",
       "      <th>vorb_p</th>\n",
       "      <th>prob</th>\n",
       "      <th>urt</th>\n",
       "      <th>zus</th>\n",
       "      <th>konf</th>\n",
       "      <th>F&amp;P</th>\n",
       "    </tr>\n",
       "  </thead>\n",
       "  <tbody>\n",
       "    <tr>\n",
       "      <td>0</td>\n",
       "      <td>2006</td>\n",
       "      <td>Büelrain</td>\n",
       "      <td>4.8</td>\n",
       "      <td>4.2</td>\n",
       "      <td>4.1</td>\n",
       "      <td>4.3</td>\n",
       "      <td>4.2</td>\n",
       "      <td>4.2</td>\n",
       "      <td>3.7</td>\n",
       "      <td>4.1</td>\n",
       "    </tr>\n",
       "    <tr>\n",
       "      <td>1</td>\n",
       "      <td>2006</td>\n",
       "      <td>Enge</td>\n",
       "      <td>4.7</td>\n",
       "      <td>4.1</td>\n",
       "      <td>3.9</td>\n",
       "      <td>4.5</td>\n",
       "      <td>4.4</td>\n",
       "      <td>4.0</td>\n",
       "      <td>3.8</td>\n",
       "      <td>4.0</td>\n",
       "    </tr>\n",
       "    <tr>\n",
       "      <td>2</td>\n",
       "      <td>2006</td>\n",
       "      <td>Freudenberg</td>\n",
       "      <td>4.3</td>\n",
       "      <td>4.0</td>\n",
       "      <td>3.9</td>\n",
       "      <td>4.5</td>\n",
       "      <td>4.7</td>\n",
       "      <td>4.1</td>\n",
       "      <td>3.8</td>\n",
       "      <td>3.9</td>\n",
       "    </tr>\n",
       "    <tr>\n",
       "      <td>3</td>\n",
       "      <td>2006</td>\n",
       "      <td>Glattal</td>\n",
       "      <td>4.8</td>\n",
       "      <td>3.9</td>\n",
       "      <td>4.1</td>\n",
       "      <td>4.5</td>\n",
       "      <td>4.3</td>\n",
       "      <td>3.7</td>\n",
       "      <td>3.4</td>\n",
       "      <td>4.0</td>\n",
       "    </tr>\n",
       "    <tr>\n",
       "      <td>4</td>\n",
       "      <td>2006</td>\n",
       "      <td>Hohe Promenade</td>\n",
       "      <td>5.1</td>\n",
       "      <td>4.8</td>\n",
       "      <td>4.6</td>\n",
       "      <td>4.7</td>\n",
       "      <td>4.7</td>\n",
       "      <td>4.0</td>\n",
       "      <td>4.0</td>\n",
       "      <td>4.7</td>\n",
       "    </tr>\n",
       "    <tr>\n",
       "      <td>...</td>\n",
       "      <td>...</td>\n",
       "      <td>...</td>\n",
       "      <td>...</td>\n",
       "      <td>...</td>\n",
       "      <td>...</td>\n",
       "      <td>...</td>\n",
       "      <td>...</td>\n",
       "      <td>...</td>\n",
       "      <td>...</td>\n",
       "      <td>...</td>\n",
       "    </tr>\n",
       "    <tr>\n",
       "      <td>80</td>\n",
       "      <td>2018</td>\n",
       "      <td>Wiedikon</td>\n",
       "      <td>4.9</td>\n",
       "      <td>4.3</td>\n",
       "      <td>4.7</td>\n",
       "      <td>4.5</td>\n",
       "      <td>4.5</td>\n",
       "      <td>4.8</td>\n",
       "      <td>4.2</td>\n",
       "      <td>4.5</td>\n",
       "    </tr>\n",
       "    <tr>\n",
       "      <td>81</td>\n",
       "      <td>2018</td>\n",
       "      <td>Küsnacht</td>\n",
       "      <td>4.7</td>\n",
       "      <td>3.6</td>\n",
       "      <td>4.8</td>\n",
       "      <td>4.5</td>\n",
       "      <td>4.9</td>\n",
       "      <td>4.8</td>\n",
       "      <td>4.3</td>\n",
       "      <td>4.2</td>\n",
       "    </tr>\n",
       "    <tr>\n",
       "      <td>82</td>\n",
       "      <td>2018</td>\n",
       "      <td>Liceo Artistico</td>\n",
       "      <td>4.8</td>\n",
       "      <td>4.1</td>\n",
       "      <td>5.4</td>\n",
       "      <td>4.5</td>\n",
       "      <td>4.4</td>\n",
       "      <td>5.1</td>\n",
       "      <td>4.4</td>\n",
       "      <td>4.8</td>\n",
       "    </tr>\n",
       "    <tr>\n",
       "      <td>83</td>\n",
       "      <td>2018</td>\n",
       "      <td>Rämibühl MNG</td>\n",
       "      <td>5.2</td>\n",
       "      <td>4.9</td>\n",
       "      <td>4.7</td>\n",
       "      <td>4.4</td>\n",
       "      <td>4.4</td>\n",
       "      <td>4.5</td>\n",
       "      <td>4.1</td>\n",
       "      <td>4.8</td>\n",
       "    </tr>\n",
       "    <tr>\n",
       "      <td>84</td>\n",
       "      <td>2018</td>\n",
       "      <td>Uster</td>\n",
       "      <td>4.3</td>\n",
       "      <td>4.2</td>\n",
       "      <td>4.0</td>\n",
       "      <td>4.2</td>\n",
       "      <td>4.1</td>\n",
       "      <td>4.7</td>\n",
       "      <td>3.7</td>\n",
       "      <td>4.1</td>\n",
       "    </tr>\n",
       "  </tbody>\n",
       "</table>\n",
       "<p>85 rows × 10 columns</p>\n",
       "</div>"
      ],
      "text/plain": [
       "    jahr             name  zufr  vorb_f  vorb_p  prob  urt  zus  konf  F&P\n",
       "0   2006         Büelrain   4.8     4.2     4.1   4.3  4.2  4.2   3.7  4.1\n",
       "1   2006             Enge   4.7     4.1     3.9   4.5  4.4  4.0   3.8  4.0\n",
       "2   2006      Freudenberg   4.3     4.0     3.9   4.5  4.7  4.1   3.8  3.9\n",
       "3   2006          Glattal   4.8     3.9     4.1   4.5  4.3  3.7   3.4  4.0\n",
       "4   2006   Hohe Promenade   5.1     4.8     4.6   4.7  4.7  4.0   4.0  4.7\n",
       "..   ...              ...   ...     ...     ...   ...  ...  ...   ...  ...\n",
       "80  2018         Wiedikon   4.9     4.3     4.7   4.5  4.5  4.8   4.2  4.5\n",
       "81  2018         Küsnacht   4.7     3.6     4.8   4.5  4.9  4.8   4.3  4.2\n",
       "82  2018  Liceo Artistico   4.8     4.1     5.4   4.5  4.4  5.1   4.4  4.8\n",
       "83  2018     Rämibühl MNG   5.2     4.9     4.7   4.4  4.4  4.5   4.1  4.8\n",
       "84  2018            Uster   4.3     4.2     4.0   4.2  4.1  4.7   3.7  4.1\n",
       "\n",
       "[85 rows x 10 columns]"
      ]
     },
     "execution_count": 64,
     "metadata": {},
     "output_type": "execute_result"
    }
   ],
   "source": [
    "df_total.round(1)"
   ]
  },
  {
   "cell_type": "markdown",
   "metadata": {},
   "source": [
    "Das Problem: Nur acht Schulen haben immer die gleichen Namen, den Rest muss man noch umbenennen/vereinheitlichen"
   ]
  },
  {
   "cell_type": "code",
   "execution_count": 51,
   "metadata": {},
   "outputs": [
    {
     "data": {
      "text/plain": [
       "Küsnacht             4\n",
       "Büelrain             4\n",
       "KME                  4\n",
       "Rämibühl RG          4\n",
       "Rämibühl LG          4\n",
       "Hohe Promenade       4\n",
       "Zürcher Unterland    4\n",
       "Stadelhofen          4\n",
       "Rämibühl MNG         4\n",
       "Enge                 4\n",
       "Name: name, dtype: int64"
      ]
     },
     "execution_count": 51,
     "metadata": {},
     "output_type": "execute_result"
    }
   ],
   "source": [
    "df_total[\"name\"].value_counts().head(10)"
   ]
  },
  {
   "cell_type": "markdown",
   "metadata": {},
   "source": [
    "Enge: 1x KEN\n",
    "Hohe Promenade: 1x KSHP\n",
    "Im Lee: 2x im Lee\n",
    "Zürcher Oberland: 2x KZO\n",
    "Büelrain = 1 x Buelrain\n",
    "Zürcher Unterland: 1 x KZU, 1x Zuercher Unterland\n",
    "Rämibühl MNG: 1x MNG, 1x MNG Raemibuehl\n",
    "Rämibühl LG: 1x LG Raemibuehl, 1x Literaturgymnasium Raemibuehl\n",
    "Rämibühl RG: 1x Realgym Raemibuehl, 1x Realgymnasium Raemibuehl\n",
    "Nord: 1x KZN\n",
    "\n",
    "Somderfälle:\n",
    "KZN (Zürich Nord): Entstand 2012 durch Fusion Oerlikon und Birch > wie verarbeiten?\n",
    "Glattal (in Dübi) wurd zu Uster"
   ]
  },
  {
   "cell_type": "markdown",
   "metadata": {},
   "source": [
    "Bereinigungen, immer mit Copy (zur Sicherheit!)"
   ]
  },
  {
   "cell_type": "code",
   "execution_count": 52,
   "metadata": {},
   "outputs": [],
   "source": [
    "df_total = df_total.replace(\"KEN\", \"Enge\").copy()\n",
    "df_total = df_total.replace(\"KSHP\", \"Hohe Promenade\").copy()\n",
    "df_total = df_total.replace(\"im Lee\", \"Im Lee\").copy()\n",
    "df_total = df_total.replace(\"KZO\", \"Zürcher Oberland\").copy()\n",
    "df_total = df_total.replace([\"KBW\", \"Buelrain\"], \"Büelrain\").copy()\n",
    "df_total = df_total.replace(\"Kuesnacht\", \"Küsnacht\").copy()\n",
    "df_total = df_total.replace([\"KZU\", \"Zuercher Unterland\"], \"Zürcher Unterland\").copy()\n",
    "df_total = df_total.replace([\"MNG\", \"MNG Raemibuehl\"], \"Rämibühl MNG\").copy()\n",
    "df_total = df_total.replace([\"LG Raemibuehl\", \"Literaturgymnasium Raemibuehl\"], \"Rämibühl LG\").copy()\n",
    "df_total = df_total.replace([\"Realgym Raemibuehl\", \"Realgymnasium Raemibuehl\"], \"Rämibühl RG\").copy()\n",
    "df_total = df_total.replace([\"Nord\", \"KZN\"], \"Zürich Nord\").copy()\n",
    "df_total = df_total.replace(\"Gymnasium Zürich\", \"Katholisches Gymnasium Zürich\").copy()\n"
   ]
  },
  {
   "cell_type": "code",
   "execution_count": 53,
   "metadata": {},
   "outputs": [
    {
     "data": {
      "text/plain": [
       "Küsnacht                         4\n",
       "Büelrain                         4\n",
       "KME                              4\n",
       "Rämibühl RG                      4\n",
       "Rämibühl LG                      4\n",
       "Hohe Promenade                   4\n",
       "Zürcher Unterland                4\n",
       "Stadelhofen                      4\n",
       "Rämibühl MNG                     4\n",
       "Enge                             4\n",
       "Im Lee                           4\n",
       "Hottingen                        4\n",
       "Limmattal                        4\n",
       "Wiedikon                         4\n",
       "Liceo Artistico                  4\n",
       "Zürcher Oberland                 4\n",
       "Freudenberg                      4\n",
       "Rychenberg                       4\n",
       "Oerlikon                         2\n",
       "Zürich Nord                      2\n",
       "Glattal                          2\n",
       "Uster                            2\n",
       "Zürich Birch                     2\n",
       "Gymnasium Unterstrass            1\n",
       "Katholisches Gymnasium Zürich    1\n",
       "Freies Gymnasium Zürich          1\n",
       "Name: name, dtype: int64"
      ]
     },
     "execution_count": 53,
     "metadata": {},
     "output_type": "execute_result"
    }
   ],
   "source": [
    "df_total[\"name\"].value_counts()"
   ]
  },
  {
   "cell_type": "code",
   "execution_count": 54,
   "metadata": {},
   "outputs": [
    {
     "data": {
      "text/plain": [
       "<matplotlib.axes._subplots.AxesSubplot at 0x11d6d5f10>"
      ]
     },
     "execution_count": 54,
     "metadata": {},
     "output_type": "execute_result"
    },
    {
     "data": {
      "image/png": "[encoded data removed]",
      "text/plain": [
       "<Figure size 432x288 with 1 Axes>"
      ]
     },
     "metadata": {
      "needs_background": "light"
     },
     "output_type": "display_data"
    }
   ],
   "source": [
    "df_total.plot(kind='scatter', x='vorb_f', y='zus')"
   ]
  },
  {
   "cell_type": "markdown",
   "metadata": {},
   "source": [
    "Nicht alle Schulen, die bei fachlicher Vorbereitung gut abschneiden, haben auch die Zusammenarbeitsfähigkeiten gefördert."
   ]
  },
  {
   "cell_type": "code",
   "execution_count": 55,
   "metadata": {},
   "outputs": [
    {
     "data": {
      "text/plain": [
       "<matplotlib.axes._subplots.AxesSubplot at 0x11d7c0710>"
      ]
     },
     "execution_count": 55,
     "metadata": {},
     "output_type": "execute_result"
    },
    {
     "data": {
      "image/png": "[encoded data removed]",
      "text/plain": [
       "<Figure size 432x288 with 1 Axes>"
      ]
     },
     "metadata": {
      "needs_background": "light"
     },
     "output_type": "display_data"
    }
   ],
   "source": [
    "df_total.plot(kind='scatter', x='vorb_p', y='zufr')"
   ]
  },
  {
   "cell_type": "markdown",
   "metadata": {},
   "source": [
    "Was ist Schülern wichtig? Die deutlichste Korrelation besteht zwischen Zufriedenheit und guter Persönlichkeitsbildung!"
   ]
  },
  {
   "cell_type": "code",
   "execution_count": 56,
   "metadata": {},
   "outputs": [
    {
     "data": {
      "text/plain": [
       "<matplotlib.axes._subplots.AxesSubplot at 0x11d89eb50>"
      ]
     },
     "execution_count": 56,
     "metadata": {},
     "output_type": "execute_result"
    },
    {
     "data": {
      "image/png": "[encoded data removed]",
      "text/plain": [
       "<Figure size 432x288 with 1 Axes>"
      ]
     },
     "metadata": {
      "needs_background": "light"
     },
     "output_type": "display_data"
    }
   ],
   "source": [
    "df_total[df_total[\"name\"] == \"Im Lee\"].plot(x=\"jahr\")"
   ]
  },
  {
   "cell_type": "code",
   "execution_count": 57,
   "metadata": {},
   "outputs": [
    {
     "data": {
      "text/plain": [
       "<matplotlib.axes._subplots.AxesSubplot at 0x11d9a6290>"
      ]
     },
     "execution_count": 57,
     "metadata": {},
     "output_type": "execute_result"
    },
    {
     "data": {
      "image/png": "[encoded data removed]",
      "text/plain": [
       "<Figure size 432x288 with 1 Axes>"
      ]
     },
     "metadata": {
      "needs_background": "light"
     },
     "output_type": "display_data"
    }
   ],
   "source": [
    "df_total[df_total[\"name\"] == \"Im Lee\"][\"zus\"].plot(x=\"jahr\")"
   ]
  },
  {
   "cell_type": "markdown",
   "metadata": {},
   "source": [
    "Da ist über die Jahre was passiert im Punkt Zusammenarbeit."
   ]
  },
  {
   "cell_type": "markdown",
   "metadata": {},
   "source": [
    "Und so findet man die Spitzenreiter für bestimmte Werte über alle Jahre:"
   ]
  },
  {
   "cell_type": "code",
   "execution_count": 58,
   "metadata": {},
   "outputs": [
    {
     "data": {
      "text/plain": [
       "name\n",
       "Küsnacht                         5.0\n",
       "Zürcher Unterland                5.0\n",
       "Liceo Artistico                  5.0\n",
       "Gymnasium Unterstrass            5.0\n",
       "Hohe Promenade                   5.0\n",
       "Rämibühl RG                      4.9\n",
       "Limmattal                        4.9\n",
       "KME                              4.9\n",
       "Zürcher Oberland                 4.9\n",
       "Büelrain                         4.9\n",
       "Rämibühl MNG                     4.9\n",
       "Stadelhofen                      4.8\n",
       "Freudenberg                      4.8\n",
       "Rychenberg                       4.8\n",
       "Im Lee                           4.8\n",
       "Glattal                          4.8\n",
       "Oerlikon                         4.8\n",
       "Zürich Nord                      4.8\n",
       "Rämibühl LG                      4.7\n",
       "Enge                             4.7\n",
       "Wiedikon                         4.6\n",
       "Katholisches Gymnasium Zürich    4.6\n",
       "Freies Gymnasium Zürich          4.6\n",
       "Hottingen                        4.6\n",
       "Zürich Birch                     4.5\n",
       "Uster                            4.4\n",
       "Name: zufr, dtype: float64"
      ]
     },
     "execution_count": 58,
     "metadata": {},
     "output_type": "execute_result"
    }
   ],
   "source": [
    "df_total.groupby(\"name\").mean()[\"zufr\"].sort_values(ascending=False).round(1)"
   ]
  },
  {
   "cell_type": "markdown",
   "metadata": {},
   "source": [
    "Hier wird man am besten fachlich vorbereitet:"
   ]
  },
  {
   "cell_type": "code",
   "execution_count": 59,
   "metadata": {},
   "outputs": [
    {
     "data": {
      "text/plain": [
       "name\n",
       "Rämibühl MNG                     4.8\n",
       "Limmattal                        4.6\n",
       "Hohe Promenade                   4.5\n",
       "Zürcher Unterland                4.4\n",
       "Im Lee                           4.3\n",
       "Freudenberg                      4.3\n",
       "Katholisches Gymnasium Zürich    4.3\n",
       "Zürcher Oberland                 4.3\n",
       "Rychenberg                       4.3\n",
       "Uster                            4.2\n",
       "Büelrain                         4.2\n",
       "KME                              4.2\n",
       "Zürich Birch                     4.2\n",
       "Liceo Artistico                  4.1\n",
       "Zürich Nord                      4.1\n",
       "Glattal                          4.1\n",
       "Rämibühl RG                      4.1\n",
       "Enge                             4.0\n",
       "Oerlikon                         4.0\n",
       "Küsnacht                         4.0\n",
       "Wiedikon                         3.9\n",
       "Rämibühl LG                      3.9\n",
       "Hottingen                        3.8\n",
       "Stadelhofen                      3.8\n",
       "Gymnasium Unterstrass            3.6\n",
       "Freies Gymnasium Zürich          3.5\n",
       "Name: vorb_f, dtype: float64"
      ]
     },
     "execution_count": 59,
     "metadata": {},
     "output_type": "execute_result"
    }
   ],
   "source": [
    "df_total.groupby(\"name\").mean()[\"vorb_f\"].sort_values(ascending=False).round(1)"
   ]
  },
  {
   "cell_type": "markdown",
   "metadata": {},
   "source": [
    "Hier sind die Persönlichkeitsbildungsmeister:"
   ]
  },
  {
   "cell_type": "code",
   "execution_count": 60,
   "metadata": {},
   "outputs": [
    {
     "data": {
      "text/plain": [
       "name\n",
       "Liceo Artistico                  4.9\n",
       "Gymnasium Unterstrass            4.8\n",
       "Küsnacht                         4.8\n",
       "Hohe Promenade                   4.7\n",
       "Zürich Birch                     4.6\n",
       "KME                              4.5\n",
       "Stadelhofen                      4.4\n",
       "Rämibühl RG                      4.4\n",
       "Büelrain                         4.3\n",
       "Zürcher Oberland                 4.3\n",
       "Rämibühl LG                      4.3\n",
       "Im Lee                           4.3\n",
       "Zürcher Unterland                4.3\n",
       "Freudenberg                      4.3\n",
       "Rychenberg                       4.3\n",
       "Rämibühl MNG                     4.3\n",
       "Limmattal                        4.2\n",
       "Enge                             4.2\n",
       "Hottingen                        4.2\n",
       "Zürich Nord                      4.2\n",
       "Glattal                          4.2\n",
       "Uster                            4.2\n",
       "Wiedikon                         4.1\n",
       "Oerlikon                         4.0\n",
       "Katholisches Gymnasium Zürich    3.9\n",
       "Freies Gymnasium Zürich          3.9\n",
       "Name: vorb_p, dtype: float64"
      ]
     },
     "execution_count": 60,
     "metadata": {},
     "output_type": "execute_result"
    }
   ],
   "source": [
    "df_total.groupby(\"name\").mean()[\"vorb_p\"].sort_values(ascending=False).round(1)"
   ]
  },
  {
   "cell_type": "markdown",
   "metadata": {},
   "source": [
    "Und hier die Meister beider Kategorien:\n"
   ]
  },
  {
   "cell_type": "code",
   "execution_count": 61,
   "metadata": {},
   "outputs": [
    {
     "data": {
      "text/plain": [
       "name\n",
       "Hohe Promenade                   4.6\n",
       "Liceo Artistico                  4.5\n",
       "Rämibühl MNG                     4.5\n",
       "Limmattal                        4.4\n",
       "Zürich Birch                     4.4\n",
       "Küsnacht                         4.4\n",
       "Zürcher Unterland                4.4\n",
       "KME                              4.3\n",
       "Im Lee                           4.3\n",
       "Zürcher Oberland                 4.3\n",
       "Freudenberg                      4.3\n",
       "Büelrain                         4.3\n",
       "Rychenberg                       4.3\n",
       "Rämibühl RG                      4.2\n",
       "Gymnasium Unterstrass            4.2\n",
       "Uster                            4.2\n",
       "Zürich Nord                      4.1\n",
       "Enge                             4.1\n",
       "Glattal                          4.1\n",
       "Stadelhofen                      4.1\n",
       "Rämibühl LG                      4.1\n",
       "Katholisches Gymnasium Zürich    4.1\n",
       "Oerlikon                         4.0\n",
       "Wiedikon                         4.0\n",
       "Hottingen                        4.0\n",
       "Freies Gymnasium Zürich          3.7\n",
       "Name: F&P, dtype: float64"
      ]
     },
     "execution_count": 61,
     "metadata": {},
     "output_type": "execute_result"
    }
   ],
   "source": [
    "df_total[\"F&P\"] = (df_total[\"vorb_f\"]+df_total[\"vorb_p\"])/2\n",
    "df_total.groupby(\"name\").mean()[\"F&P\"].sort_values(ascending=False).round(1)"
   ]
  },
  {
   "cell_type": "markdown",
   "metadata": {},
   "source": [
    "### Mit Pivot...\n",
    "können wir jetzt neue dfs erstellen, die uns die Jahresentwicklungen bestimmter Werte für alle Schulen zeigt.\n",
    "Ale erstes zum Beispiel die Entwicklung der allgemeinen Zufriedenheit:"
   ]
  },
  {
   "cell_type": "code",
   "execution_count": 65,
   "metadata": {},
   "outputs": [
    {
     "data": {
      "text/html": [
       "<div>\n",
       "<style scoped>\n",
       "    .dataframe tbody tr th:only-of-type {\n",
       "        vertical-align: middle;\n",
       "    }\n",
       "\n",
       "    .dataframe tbody tr th {\n",
       "        vertical-align: top;\n",
       "    }\n",
       "\n",
       "    .dataframe thead th {\n",
       "        text-align: right;\n",
       "    }\n",
       "</style>\n",
       "<table border=\"1\" class=\"dataframe\">\n",
       "  <thead>\n",
       "    <tr style=\"text-align: right;\">\n",
       "      <th>name</th>\n",
       "      <th>Büelrain</th>\n",
       "      <th>Enge</th>\n",
       "      <th>Freies Gymnasium Zürich</th>\n",
       "      <th>Freudenberg</th>\n",
       "      <th>Glattal</th>\n",
       "      <th>Gymnasium Unterstrass</th>\n",
       "      <th>Hohe Promenade</th>\n",
       "      <th>Hottingen</th>\n",
       "      <th>Im Lee</th>\n",
       "      <th>KME</th>\n",
       "      <th>...</th>\n",
       "      <th>Rämibühl LG</th>\n",
       "      <th>Rämibühl MNG</th>\n",
       "      <th>Rämibühl RG</th>\n",
       "      <th>Stadelhofen</th>\n",
       "      <th>Uster</th>\n",
       "      <th>Wiedikon</th>\n",
       "      <th>Zürcher Oberland</th>\n",
       "      <th>Zürcher Unterland</th>\n",
       "      <th>Zürich Birch</th>\n",
       "      <th>Zürich Nord</th>\n",
       "    </tr>\n",
       "    <tr>\n",
       "      <th>jahr</th>\n",
       "      <th></th>\n",
       "      <th></th>\n",
       "      <th></th>\n",
       "      <th></th>\n",
       "      <th></th>\n",
       "      <th></th>\n",
       "      <th></th>\n",
       "      <th></th>\n",
       "      <th></th>\n",
       "      <th></th>\n",
       "      <th></th>\n",
       "      <th></th>\n",
       "      <th></th>\n",
       "      <th></th>\n",
       "      <th></th>\n",
       "      <th></th>\n",
       "      <th></th>\n",
       "      <th></th>\n",
       "      <th></th>\n",
       "      <th></th>\n",
       "      <th></th>\n",
       "    </tr>\n",
       "  </thead>\n",
       "  <tbody>\n",
       "    <tr>\n",
       "      <td>2006</td>\n",
       "      <td>4.8</td>\n",
       "      <td>4.7</td>\n",
       "      <td>NaN</td>\n",
       "      <td>4.3</td>\n",
       "      <td>4.8</td>\n",
       "      <td>NaN</td>\n",
       "      <td>5.1</td>\n",
       "      <td>4.1</td>\n",
       "      <td>4.7</td>\n",
       "      <td>5.0</td>\n",
       "      <td>...</td>\n",
       "      <td>4.5</td>\n",
       "      <td>5.0</td>\n",
       "      <td>4.7</td>\n",
       "      <td>4.8</td>\n",
       "      <td>NaN</td>\n",
       "      <td>4.3</td>\n",
       "      <td>4.8</td>\n",
       "      <td>4.9</td>\n",
       "      <td>4.4</td>\n",
       "      <td>NaN</td>\n",
       "    </tr>\n",
       "    <tr>\n",
       "      <td>2009</td>\n",
       "      <td>4.9</td>\n",
       "      <td>4.8</td>\n",
       "      <td>4.6</td>\n",
       "      <td>4.6</td>\n",
       "      <td>4.7</td>\n",
       "      <td>5.0</td>\n",
       "      <td>4.8</td>\n",
       "      <td>5.0</td>\n",
       "      <td>4.7</td>\n",
       "      <td>4.9</td>\n",
       "      <td>...</td>\n",
       "      <td>4.7</td>\n",
       "      <td>4.8</td>\n",
       "      <td>4.9</td>\n",
       "      <td>5.0</td>\n",
       "      <td>NaN</td>\n",
       "      <td>4.5</td>\n",
       "      <td>4.9</td>\n",
       "      <td>5.0</td>\n",
       "      <td>4.7</td>\n",
       "      <td>NaN</td>\n",
       "    </tr>\n",
       "    <tr>\n",
       "      <td>2015</td>\n",
       "      <td>4.9</td>\n",
       "      <td>4.5</td>\n",
       "      <td>NaN</td>\n",
       "      <td>5.2</td>\n",
       "      <td>NaN</td>\n",
       "      <td>NaN</td>\n",
       "      <td>5.0</td>\n",
       "      <td>4.6</td>\n",
       "      <td>5.1</td>\n",
       "      <td>4.9</td>\n",
       "      <td>...</td>\n",
       "      <td>5.0</td>\n",
       "      <td>4.5</td>\n",
       "      <td>5.1</td>\n",
       "      <td>4.6</td>\n",
       "      <td>4.6</td>\n",
       "      <td>4.7</td>\n",
       "      <td>4.9</td>\n",
       "      <td>5.2</td>\n",
       "      <td>NaN</td>\n",
       "      <td>4.8</td>\n",
       "    </tr>\n",
       "    <tr>\n",
       "      <td>2018</td>\n",
       "      <td>4.9</td>\n",
       "      <td>4.8</td>\n",
       "      <td>NaN</td>\n",
       "      <td>5.2</td>\n",
       "      <td>NaN</td>\n",
       "      <td>NaN</td>\n",
       "      <td>5.1</td>\n",
       "      <td>4.6</td>\n",
       "      <td>4.8</td>\n",
       "      <td>4.9</td>\n",
       "      <td>...</td>\n",
       "      <td>4.7</td>\n",
       "      <td>5.2</td>\n",
       "      <td>5.1</td>\n",
       "      <td>4.9</td>\n",
       "      <td>4.3</td>\n",
       "      <td>4.9</td>\n",
       "      <td>5.0</td>\n",
       "      <td>5.1</td>\n",
       "      <td>NaN</td>\n",
       "      <td>4.7</td>\n",
       "    </tr>\n",
       "  </tbody>\n",
       "</table>\n",
       "<p>4 rows × 26 columns</p>\n",
       "</div>"
      ],
      "text/plain": [
       "name  Büelrain  Enge  Freies Gymnasium Zürich  Freudenberg  Glattal  \\\n",
       "jahr                                                                  \n",
       "2006       4.8   4.7                      NaN          4.3      4.8   \n",
       "2009       4.9   4.8                      4.6          4.6      4.7   \n",
       "2015       4.9   4.5                      NaN          5.2      NaN   \n",
       "2018       4.9   4.8                      NaN          5.2      NaN   \n",
       "\n",
       "name  Gymnasium Unterstrass  Hohe Promenade  Hottingen  Im Lee  KME  ...  \\\n",
       "jahr                                                                 ...   \n",
       "2006                    NaN             5.1        4.1     4.7  5.0  ...   \n",
       "2009                    5.0             4.8        5.0     4.7  4.9  ...   \n",
       "2015                    NaN             5.0        4.6     5.1  4.9  ...   \n",
       "2018                    NaN             5.1        4.6     4.8  4.9  ...   \n",
       "\n",
       "name  Rämibühl LG  Rämibühl MNG  Rämibühl RG  Stadelhofen  Uster  Wiedikon  \\\n",
       "jahr                                                                         \n",
       "2006          4.5           5.0          4.7          4.8    NaN       4.3   \n",
       "2009          4.7           4.8          4.9          5.0    NaN       4.5   \n",
       "2015          5.0           4.5          5.1          4.6    4.6       4.7   \n",
       "2018          4.7           5.2          5.1          4.9    4.3       4.9   \n",
       "\n",
       "name  Zürcher Oberland  Zürcher Unterland  Zürich Birch  Zürich Nord  \n",
       "jahr                                                                  \n",
       "2006               4.8                4.9           4.4          NaN  \n",
       "2009               4.9                5.0           4.7          NaN  \n",
       "2015               4.9                5.2           NaN          4.8  \n",
       "2018               5.0                5.1           NaN          4.7  \n",
       "\n",
       "[4 rows x 26 columns]"
      ]
     },
     "execution_count": 65,
     "metadata": {},
     "output_type": "execute_result"
    }
   ],
   "source": [
    "df_pivoted = df_total.pivot(index='jahr', columns='name', values='zufr')\n",
    "df_pivoted.round(1)"
   ]
  },
  {
   "cell_type": "markdown",
   "metadata": {},
   "source": [
    "Erstaunlich: Bei der Persönlichkeitsbildung machten fast alle Vortschritte!"
   ]
  },
  {
   "cell_type": "code",
   "execution_count": 66,
   "metadata": {},
   "outputs": [
    {
     "data": {
      "text/html": [
       "<div>\n",
       "<style scoped>\n",
       "    .dataframe tbody tr th:only-of-type {\n",
       "        vertical-align: middle;\n",
       "    }\n",
       "\n",
       "    .dataframe tbody tr th {\n",
       "        vertical-align: top;\n",
       "    }\n",
       "\n",
       "    .dataframe thead th {\n",
       "        text-align: right;\n",
       "    }\n",
       "</style>\n",
       "<table border=\"1\" class=\"dataframe\">\n",
       "  <thead>\n",
       "    <tr style=\"text-align: right;\">\n",
       "      <th>name</th>\n",
       "      <th>Büelrain</th>\n",
       "      <th>Enge</th>\n",
       "      <th>Freies Gymnasium Zürich</th>\n",
       "      <th>Freudenberg</th>\n",
       "      <th>Glattal</th>\n",
       "      <th>Gymnasium Unterstrass</th>\n",
       "      <th>Hohe Promenade</th>\n",
       "      <th>Hottingen</th>\n",
       "      <th>Im Lee</th>\n",
       "      <th>KME</th>\n",
       "      <th>...</th>\n",
       "      <th>Rämibühl LG</th>\n",
       "      <th>Rämibühl MNG</th>\n",
       "      <th>Rämibühl RG</th>\n",
       "      <th>Stadelhofen</th>\n",
       "      <th>Uster</th>\n",
       "      <th>Wiedikon</th>\n",
       "      <th>Zürcher Oberland</th>\n",
       "      <th>Zürcher Unterland</th>\n",
       "      <th>Zürich Birch</th>\n",
       "      <th>Zürich Nord</th>\n",
       "    </tr>\n",
       "    <tr>\n",
       "      <th>jahr</th>\n",
       "      <th></th>\n",
       "      <th></th>\n",
       "      <th></th>\n",
       "      <th></th>\n",
       "      <th></th>\n",
       "      <th></th>\n",
       "      <th></th>\n",
       "      <th></th>\n",
       "      <th></th>\n",
       "      <th></th>\n",
       "      <th></th>\n",
       "      <th></th>\n",
       "      <th></th>\n",
       "      <th></th>\n",
       "      <th></th>\n",
       "      <th></th>\n",
       "      <th></th>\n",
       "      <th></th>\n",
       "      <th></th>\n",
       "      <th></th>\n",
       "      <th></th>\n",
       "    </tr>\n",
       "  </thead>\n",
       "  <tbody>\n",
       "    <tr>\n",
       "      <td>2006</td>\n",
       "      <td>4.1</td>\n",
       "      <td>3.9</td>\n",
       "      <td>NaN</td>\n",
       "      <td>3.9</td>\n",
       "      <td>4.1</td>\n",
       "      <td>NaN</td>\n",
       "      <td>4.6</td>\n",
       "      <td>3.7</td>\n",
       "      <td>4.0</td>\n",
       "      <td>4.3</td>\n",
       "      <td>...</td>\n",
       "      <td>4.2</td>\n",
       "      <td>4.5</td>\n",
       "      <td>4.0</td>\n",
       "      <td>4.1</td>\n",
       "      <td>NaN</td>\n",
       "      <td>3.6</td>\n",
       "      <td>4.0</td>\n",
       "      <td>3.9</td>\n",
       "      <td>4.4</td>\n",
       "      <td>NaN</td>\n",
       "    </tr>\n",
       "    <tr>\n",
       "      <td>2009</td>\n",
       "      <td>4.4</td>\n",
       "      <td>4.1</td>\n",
       "      <td>3.9</td>\n",
       "      <td>4.1</td>\n",
       "      <td>4.2</td>\n",
       "      <td>4.8</td>\n",
       "      <td>4.5</td>\n",
       "      <td>4.2</td>\n",
       "      <td>4.3</td>\n",
       "      <td>4.4</td>\n",
       "      <td>...</td>\n",
       "      <td>4.0</td>\n",
       "      <td>4.1</td>\n",
       "      <td>4.3</td>\n",
       "      <td>4.4</td>\n",
       "      <td>NaN</td>\n",
       "      <td>4.1</td>\n",
       "      <td>4.3</td>\n",
       "      <td>4.3</td>\n",
       "      <td>4.8</td>\n",
       "      <td>NaN</td>\n",
       "    </tr>\n",
       "    <tr>\n",
       "      <td>2015</td>\n",
       "      <td>4.3</td>\n",
       "      <td>4.2</td>\n",
       "      <td>NaN</td>\n",
       "      <td>4.7</td>\n",
       "      <td>NaN</td>\n",
       "      <td>NaN</td>\n",
       "      <td>4.8</td>\n",
       "      <td>4.4</td>\n",
       "      <td>4.7</td>\n",
       "      <td>4.4</td>\n",
       "      <td>...</td>\n",
       "      <td>4.6</td>\n",
       "      <td>3.7</td>\n",
       "      <td>4.9</td>\n",
       "      <td>4.3</td>\n",
       "      <td>4.3</td>\n",
       "      <td>4.1</td>\n",
       "      <td>4.5</td>\n",
       "      <td>4.4</td>\n",
       "      <td>NaN</td>\n",
       "      <td>4.3</td>\n",
       "    </tr>\n",
       "    <tr>\n",
       "      <td>2018</td>\n",
       "      <td>4.6</td>\n",
       "      <td>4.6</td>\n",
       "      <td>NaN</td>\n",
       "      <td>4.5</td>\n",
       "      <td>NaN</td>\n",
       "      <td>NaN</td>\n",
       "      <td>4.7</td>\n",
       "      <td>4.5</td>\n",
       "      <td>4.3</td>\n",
       "      <td>4.8</td>\n",
       "      <td>...</td>\n",
       "      <td>4.5</td>\n",
       "      <td>4.7</td>\n",
       "      <td>4.5</td>\n",
       "      <td>4.9</td>\n",
       "      <td>4.0</td>\n",
       "      <td>4.7</td>\n",
       "      <td>4.5</td>\n",
       "      <td>4.6</td>\n",
       "      <td>NaN</td>\n",
       "      <td>4.1</td>\n",
       "    </tr>\n",
       "  </tbody>\n",
       "</table>\n",
       "<p>4 rows × 26 columns</p>\n",
       "</div>"
      ],
      "text/plain": [
       "name  Büelrain  Enge  Freies Gymnasium Zürich  Freudenberg  Glattal  \\\n",
       "jahr                                                                  \n",
       "2006       4.1   3.9                      NaN          3.9      4.1   \n",
       "2009       4.4   4.1                      3.9          4.1      4.2   \n",
       "2015       4.3   4.2                      NaN          4.7      NaN   \n",
       "2018       4.6   4.6                      NaN          4.5      NaN   \n",
       "\n",
       "name  Gymnasium Unterstrass  Hohe Promenade  Hottingen  Im Lee  KME  ...  \\\n",
       "jahr                                                                 ...   \n",
       "2006                    NaN             4.6        3.7     4.0  4.3  ...   \n",
       "2009                    4.8             4.5        4.2     4.3  4.4  ...   \n",
       "2015                    NaN             4.8        4.4     4.7  4.4  ...   \n",
       "2018                    NaN             4.7        4.5     4.3  4.8  ...   \n",
       "\n",
       "name  Rämibühl LG  Rämibühl MNG  Rämibühl RG  Stadelhofen  Uster  Wiedikon  \\\n",
       "jahr                                                                         \n",
       "2006          4.2           4.5          4.0          4.1    NaN       3.6   \n",
       "2009          4.0           4.1          4.3          4.4    NaN       4.1   \n",
       "2015          4.6           3.7          4.9          4.3    4.3       4.1   \n",
       "2018          4.5           4.7          4.5          4.9    4.0       4.7   \n",
       "\n",
       "name  Zürcher Oberland  Zürcher Unterland  Zürich Birch  Zürich Nord  \n",
       "jahr                                                                  \n",
       "2006               4.0                3.9           4.4          NaN  \n",
       "2009               4.3                4.3           4.8          NaN  \n",
       "2015               4.5                4.4           NaN          4.3  \n",
       "2018               4.5                4.6           NaN          4.1  \n",
       "\n",
       "[4 rows x 26 columns]"
      ]
     },
     "execution_count": 66,
     "metadata": {},
     "output_type": "execute_result"
    }
   ],
   "source": [
    "df_pivoted = df_total.pivot(index='jahr', columns='name', values='vorb_p')\n",
    "df_pivoted.round(1)"
   ]
  },
  {
   "cell_type": "markdown",
   "metadata": {},
   "source": []
  },
  {
   "cell_type": "code",
   "execution_count": 67,
   "metadata": {},
   "outputs": [
    {
     "data": {
      "text/html": [
       "<div>\n",
       "<style scoped>\n",
       "    .dataframe tbody tr th:only-of-type {\n",
       "        vertical-align: middle;\n",
       "    }\n",
       "\n",
       "    .dataframe tbody tr th {\n",
       "        vertical-align: top;\n",
       "    }\n",
       "\n",
       "    .dataframe thead th {\n",
       "        text-align: right;\n",
       "    }\n",
       "</style>\n",
       "<table border=\"1\" class=\"dataframe\">\n",
       "  <thead>\n",
       "    <tr style=\"text-align: right;\">\n",
       "      <th>name</th>\n",
       "      <th>Büelrain</th>\n",
       "      <th>Enge</th>\n",
       "      <th>Freies Gymnasium Zürich</th>\n",
       "      <th>Freudenberg</th>\n",
       "      <th>Glattal</th>\n",
       "      <th>Gymnasium Unterstrass</th>\n",
       "      <th>Hohe Promenade</th>\n",
       "      <th>Hottingen</th>\n",
       "      <th>Im Lee</th>\n",
       "      <th>KME</th>\n",
       "      <th>...</th>\n",
       "      <th>Rämibühl LG</th>\n",
       "      <th>Rämibühl MNG</th>\n",
       "      <th>Rämibühl RG</th>\n",
       "      <th>Stadelhofen</th>\n",
       "      <th>Uster</th>\n",
       "      <th>Wiedikon</th>\n",
       "      <th>Zürcher Oberland</th>\n",
       "      <th>Zürcher Unterland</th>\n",
       "      <th>Zürich Birch</th>\n",
       "      <th>Zürich Nord</th>\n",
       "    </tr>\n",
       "    <tr>\n",
       "      <th>jahr</th>\n",
       "      <th></th>\n",
       "      <th></th>\n",
       "      <th></th>\n",
       "      <th></th>\n",
       "      <th></th>\n",
       "      <th></th>\n",
       "      <th></th>\n",
       "      <th></th>\n",
       "      <th></th>\n",
       "      <th></th>\n",
       "      <th></th>\n",
       "      <th></th>\n",
       "      <th></th>\n",
       "      <th></th>\n",
       "      <th></th>\n",
       "      <th></th>\n",
       "      <th></th>\n",
       "      <th></th>\n",
       "      <th></th>\n",
       "      <th></th>\n",
       "      <th></th>\n",
       "    </tr>\n",
       "  </thead>\n",
       "  <tbody>\n",
       "    <tr>\n",
       "      <td>2006</td>\n",
       "      <td>4.2</td>\n",
       "      <td>4.1</td>\n",
       "      <td>NaN</td>\n",
       "      <td>4.0</td>\n",
       "      <td>3.9</td>\n",
       "      <td>NaN</td>\n",
       "      <td>4.8</td>\n",
       "      <td>3.5</td>\n",
       "      <td>4.4</td>\n",
       "      <td>4.2</td>\n",
       "      <td>...</td>\n",
       "      <td>4.1</td>\n",
       "      <td>5.0</td>\n",
       "      <td>3.8</td>\n",
       "      <td>3.8</td>\n",
       "      <td>NaN</td>\n",
       "      <td>3.6</td>\n",
       "      <td>4.2</td>\n",
       "      <td>4.2</td>\n",
       "      <td>3.8</td>\n",
       "      <td>NaN</td>\n",
       "    </tr>\n",
       "    <tr>\n",
       "      <td>2009</td>\n",
       "      <td>4.4</td>\n",
       "      <td>4.2</td>\n",
       "      <td>3.5</td>\n",
       "      <td>4.4</td>\n",
       "      <td>4.2</td>\n",
       "      <td>3.6</td>\n",
       "      <td>4.5</td>\n",
       "      <td>4.0</td>\n",
       "      <td>4.4</td>\n",
       "      <td>4.1</td>\n",
       "      <td>...</td>\n",
       "      <td>3.6</td>\n",
       "      <td>4.7</td>\n",
       "      <td>4.0</td>\n",
       "      <td>3.7</td>\n",
       "      <td>NaN</td>\n",
       "      <td>3.7</td>\n",
       "      <td>4.2</td>\n",
       "      <td>4.3</td>\n",
       "      <td>4.5</td>\n",
       "      <td>NaN</td>\n",
       "    </tr>\n",
       "    <tr>\n",
       "      <td>2015</td>\n",
       "      <td>4.2</td>\n",
       "      <td>3.8</td>\n",
       "      <td>NaN</td>\n",
       "      <td>4.3</td>\n",
       "      <td>NaN</td>\n",
       "      <td>NaN</td>\n",
       "      <td>4.4</td>\n",
       "      <td>3.9</td>\n",
       "      <td>4.2</td>\n",
       "      <td>4.0</td>\n",
       "      <td>...</td>\n",
       "      <td>4.0</td>\n",
       "      <td>4.6</td>\n",
       "      <td>4.1</td>\n",
       "      <td>3.8</td>\n",
       "      <td>4.2</td>\n",
       "      <td>4.1</td>\n",
       "      <td>4.3</td>\n",
       "      <td>4.5</td>\n",
       "      <td>NaN</td>\n",
       "      <td>4.1</td>\n",
       "    </tr>\n",
       "    <tr>\n",
       "      <td>2018</td>\n",
       "      <td>4.0</td>\n",
       "      <td>4.1</td>\n",
       "      <td>NaN</td>\n",
       "      <td>4.5</td>\n",
       "      <td>NaN</td>\n",
       "      <td>NaN</td>\n",
       "      <td>4.3</td>\n",
       "      <td>4.0</td>\n",
       "      <td>4.3</td>\n",
       "      <td>4.5</td>\n",
       "      <td>...</td>\n",
       "      <td>3.9</td>\n",
       "      <td>4.9</td>\n",
       "      <td>4.3</td>\n",
       "      <td>3.9</td>\n",
       "      <td>4.2</td>\n",
       "      <td>4.3</td>\n",
       "      <td>4.4</td>\n",
       "      <td>4.6</td>\n",
       "      <td>NaN</td>\n",
       "      <td>4.1</td>\n",
       "    </tr>\n",
       "  </tbody>\n",
       "</table>\n",
       "<p>4 rows × 26 columns</p>\n",
       "</div>"
      ],
      "text/plain": [
       "name  Büelrain  Enge  Freies Gymnasium Zürich  Freudenberg  Glattal  \\\n",
       "jahr                                                                  \n",
       "2006       4.2   4.1                      NaN          4.0      3.9   \n",
       "2009       4.4   4.2                      3.5          4.4      4.2   \n",
       "2015       4.2   3.8                      NaN          4.3      NaN   \n",
       "2018       4.0   4.1                      NaN          4.5      NaN   \n",
       "\n",
       "name  Gymnasium Unterstrass  Hohe Promenade  Hottingen  Im Lee  KME  ...  \\\n",
       "jahr                                                                 ...   \n",
       "2006                    NaN             4.8        3.5     4.4  4.2  ...   \n",
       "2009                    3.6             4.5        4.0     4.4  4.1  ...   \n",
       "2015                    NaN             4.4        3.9     4.2  4.0  ...   \n",
       "2018                    NaN             4.3        4.0     4.3  4.5  ...   \n",
       "\n",
       "name  Rämibühl LG  Rämibühl MNG  Rämibühl RG  Stadelhofen  Uster  Wiedikon  \\\n",
       "jahr                                                                         \n",
       "2006          4.1           5.0          3.8          3.8    NaN       3.6   \n",
       "2009          3.6           4.7          4.0          3.7    NaN       3.7   \n",
       "2015          4.0           4.6          4.1          3.8    4.2       4.1   \n",
       "2018          3.9           4.9          4.3          3.9    4.2       4.3   \n",
       "\n",
       "name  Zürcher Oberland  Zürcher Unterland  Zürich Birch  Zürich Nord  \n",
       "jahr                                                                  \n",
       "2006               4.2                4.2           3.8          NaN  \n",
       "2009               4.2                4.3           4.5          NaN  \n",
       "2015               4.3                4.5           NaN          4.1  \n",
       "2018               4.4                4.6           NaN          4.1  \n",
       "\n",
       "[4 rows x 26 columns]"
      ]
     },
     "execution_count": 67,
     "metadata": {},
     "output_type": "execute_result"
    }
   ],
   "source": [
    "df_pivoted = df_total.pivot(index='jahr', columns='name', values='vorb_f')\n",
    "df_pivoted.round(1)"
   ]
  },
  {
   "cell_type": "code",
   "execution_count": null,
   "metadata": {},
   "outputs": [],
   "source": []
  }
 ],
 "metadata": {
  "kernelspec": {
   "display_name": "Python 3",
   "language": "python",
   "name": "python3"
  },
  "language_info": {
   "codemirror_mode": {
    "name": "ipython",
    "version": 3
   },
   "file_extension": ".py",
   "mimetype": "text/x-python",
   "name": "python",
   "nbconvert_exporter": "python",
   "pygments_lexer": "ipython3",
   "version": "3.7.4"
  }
 },
 "nbformat": 4,
 "nbformat_minor": 2
}
