{
 "cells": [
  {
   "cell_type": "code",
   "execution_count": 31,
   "metadata": {},
   "outputs": [],
   "source": [
    "import pandas as pd\n",
    "import re\n",
    "%matplotlib inline"
   ]
  },
  {
   "cell_type": "code",
   "execution_count": 32,
   "metadata": {},
   "outputs": [],
   "source": [
    "data2006 = pd.read_csv(\"Pandas_Results2006.csv\", index_col = 0) \n",
    "data2009 = pd.read_csv(\"Pandas_Results2009.csv\", index_col = 0)\n",
    "data2015 = pd.read_csv(\"Pandas_Results2015.csv\", index_col = 0) \n",
    "data2018 = pd.read_csv(\"Pandas_Results2018.csv\", index_col = 0)"
   ]
  },
  {
   "cell_type": "code",
   "execution_count": 33,
   "metadata": {},
   "outputs": [],
   "source": [
    "df_total = pd.concat([data2006, data2009, data2015, data2018], ignore_index = True)"
   ]
  },
  {
   "cell_type": "code",
   "execution_count": 34,
   "metadata": {},
   "outputs": [
    {
     "data": {
      "text/html": [
       "<div>\n",
       "<style scoped>\n",
       "    .dataframe tbody tr th:only-of-type {\n",
       "        vertical-align: middle;\n",
       "    }\n",
       "\n",
       "    .dataframe tbody tr th {\n",
       "        vertical-align: top;\n",
       "    }\n",
       "\n",
       "    .dataframe thead th {\n",
       "        text-align: right;\n",
       "    }\n",
       "</style>\n",
       "<table border=\"1\" class=\"dataframe\">\n",
       "  <thead>\n",
       "    <tr style=\"text-align: right;\">\n",
       "      <th></th>\n",
       "      <th>jahr</th>\n",
       "      <th>name</th>\n",
       "      <th>zufr</th>\n",
       "      <th>vorb_f</th>\n",
       "      <th>vorb_p</th>\n",
       "      <th>prob</th>\n",
       "      <th>urt</th>\n",
       "      <th>zus</th>\n",
       "      <th>konf</th>\n",
       "    </tr>\n",
       "  </thead>\n",
       "  <tbody>\n",
       "    <tr>\n",
       "      <td>0</td>\n",
       "      <td>2006</td>\n",
       "      <td>Büelrain</td>\n",
       "      <td>4.815</td>\n",
       "      <td>4.177</td>\n",
       "      <td>4.065</td>\n",
       "      <td>4.277</td>\n",
       "      <td>4.200</td>\n",
       "      <td>4.154</td>\n",
       "      <td>3.738</td>\n",
       "    </tr>\n",
       "    <tr>\n",
       "      <td>1</td>\n",
       "      <td>2006</td>\n",
       "      <td>Enge</td>\n",
       "      <td>4.746</td>\n",
       "      <td>4.074</td>\n",
       "      <td>3.926</td>\n",
       "      <td>4.493</td>\n",
       "      <td>4.437</td>\n",
       "      <td>3.986</td>\n",
       "      <td>3.761</td>\n",
       "    </tr>\n",
       "    <tr>\n",
       "      <td>2</td>\n",
       "      <td>2006</td>\n",
       "      <td>Freudenberg</td>\n",
       "      <td>4.316</td>\n",
       "      <td>4.000</td>\n",
       "      <td>3.868</td>\n",
       "      <td>4.526</td>\n",
       "      <td>4.658</td>\n",
       "      <td>4.079</td>\n",
       "      <td>3.842</td>\n",
       "    </tr>\n",
       "    <tr>\n",
       "      <td>3</td>\n",
       "      <td>2006</td>\n",
       "      <td>Glattal</td>\n",
       "      <td>4.833</td>\n",
       "      <td>3.941</td>\n",
       "      <td>4.118</td>\n",
       "      <td>4.500</td>\n",
       "      <td>4.333</td>\n",
       "      <td>3.722</td>\n",
       "      <td>3.444</td>\n",
       "    </tr>\n",
       "    <tr>\n",
       "      <td>4</td>\n",
       "      <td>2006</td>\n",
       "      <td>Hohe Promenade</td>\n",
       "      <td>5.091</td>\n",
       "      <td>4.758</td>\n",
       "      <td>4.636</td>\n",
       "      <td>4.706</td>\n",
       "      <td>4.706</td>\n",
       "      <td>4.000</td>\n",
       "      <td>4.000</td>\n",
       "    </tr>\n",
       "    <tr>\n",
       "      <td>...</td>\n",
       "      <td>...</td>\n",
       "      <td>...</td>\n",
       "      <td>...</td>\n",
       "      <td>...</td>\n",
       "      <td>...</td>\n",
       "      <td>...</td>\n",
       "      <td>...</td>\n",
       "      <td>...</td>\n",
       "      <td>...</td>\n",
       "    </tr>\n",
       "    <tr>\n",
       "      <td>80</td>\n",
       "      <td>2018</td>\n",
       "      <td>Wiedikon</td>\n",
       "      <td>4.900</td>\n",
       "      <td>4.300</td>\n",
       "      <td>4.700</td>\n",
       "      <td>4.500</td>\n",
       "      <td>4.500</td>\n",
       "      <td>4.800</td>\n",
       "      <td>4.200</td>\n",
       "    </tr>\n",
       "    <tr>\n",
       "      <td>81</td>\n",
       "      <td>2018</td>\n",
       "      <td>Kuesnacht</td>\n",
       "      <td>4.700</td>\n",
       "      <td>3.600</td>\n",
       "      <td>4.800</td>\n",
       "      <td>4.500</td>\n",
       "      <td>4.900</td>\n",
       "      <td>4.800</td>\n",
       "      <td>4.300</td>\n",
       "    </tr>\n",
       "    <tr>\n",
       "      <td>82</td>\n",
       "      <td>2018</td>\n",
       "      <td>Liceo Artistico</td>\n",
       "      <td>4.800</td>\n",
       "      <td>4.100</td>\n",
       "      <td>5.400</td>\n",
       "      <td>4.500</td>\n",
       "      <td>4.400</td>\n",
       "      <td>5.100</td>\n",
       "      <td>4.400</td>\n",
       "    </tr>\n",
       "    <tr>\n",
       "      <td>83</td>\n",
       "      <td>2018</td>\n",
       "      <td>MNG</td>\n",
       "      <td>5.200</td>\n",
       "      <td>4.900</td>\n",
       "      <td>4.700</td>\n",
       "      <td>4.400</td>\n",
       "      <td>4.400</td>\n",
       "      <td>4.500</td>\n",
       "      <td>4.100</td>\n",
       "    </tr>\n",
       "    <tr>\n",
       "      <td>84</td>\n",
       "      <td>2018</td>\n",
       "      <td>Uster</td>\n",
       "      <td>4.300</td>\n",
       "      <td>4.200</td>\n",
       "      <td>4.000</td>\n",
       "      <td>4.200</td>\n",
       "      <td>4.100</td>\n",
       "      <td>4.700</td>\n",
       "      <td>3.700</td>\n",
       "    </tr>\n",
       "  </tbody>\n",
       "</table>\n",
       "<p>85 rows × 9 columns</p>\n",
       "</div>"
      ],
      "text/plain": [
       "    jahr             name   zufr  vorb_f  vorb_p   prob    urt    zus   konf\n",
       "0   2006         Büelrain  4.815   4.177   4.065  4.277  4.200  4.154  3.738\n",
       "1   2006             Enge  4.746   4.074   3.926  4.493  4.437  3.986  3.761\n",
       "2   2006      Freudenberg  4.316   4.000   3.868  4.526  4.658  4.079  3.842\n",
       "3   2006          Glattal  4.833   3.941   4.118  4.500  4.333  3.722  3.444\n",
       "4   2006   Hohe Promenade  5.091   4.758   4.636  4.706  4.706  4.000  4.000\n",
       "..   ...              ...    ...     ...     ...    ...    ...    ...    ...\n",
       "80  2018         Wiedikon  4.900   4.300   4.700  4.500  4.500  4.800  4.200\n",
       "81  2018        Kuesnacht  4.700   3.600   4.800  4.500  4.900  4.800  4.300\n",
       "82  2018  Liceo Artistico  4.800   4.100   5.400  4.500  4.400  5.100  4.400\n",
       "83  2018              MNG  5.200   4.900   4.700  4.400  4.400  4.500  4.100\n",
       "84  2018            Uster  4.300   4.200   4.000  4.200  4.100  4.700  3.700\n",
       "\n",
       "[85 rows x 9 columns]"
      ]
     },
     "execution_count": 34,
     "metadata": {},
     "output_type": "execute_result"
    }
   ],
   "source": [
    "df_total"
   ]
  },
  {
   "cell_type": "markdown",
   "metadata": {},
   "source": [
    "Das Problem: Nur acht Schulen haben immer die gleichen Namen, den Rest muss man noch umbenennen/vereinheitlichen"
   ]
  },
  {
   "cell_type": "code",
   "execution_count": 35,
   "metadata": {},
   "outputs": [
    {
     "data": {
      "text/plain": [
       "KME                4\n",
       "Freudenberg        4\n",
       "Stadelhofen        4\n",
       "Rychenberg         4\n",
       "Limmattal          4\n",
       "Liceo Artistico    4\n",
       "Wiedikon           4\n",
       "Hottingen          4\n",
       "Enge               3\n",
       "Hohe Promenade     3\n",
       "Name: name, dtype: int64"
      ]
     },
     "execution_count": 35,
     "metadata": {},
     "output_type": "execute_result"
    }
   ],
   "source": [
    "df_total[\"name\"].value_counts().head(10)"
   ]
  },
  {
   "cell_type": "markdown",
   "metadata": {},
   "source": [
    "Enge: 1x KEN\n",
    "Hohe Promenade: 1x KSHP\n",
    "Im Lee: 2x im Lee\n",
    "Zürcher Oberland: 2x KZO\n",
    "Büelrain = 1 x Buelrain\n",
    "Zürcher Unterland: 1 x KZU, 1x Zuercher Unterland\n",
    "Rämibühl MNG: 1x MNG, 1x MNG Raemibuehl\n",
    "Rämibühl LG: 1x LG Raemibuehl, 1x Literaturgymnasium Raemibuehl\n",
    "Rämibühl RG: 1x Realgym Raemibuehl, 1x Realgymnasium Raemibuehl\n",
    "Nord: 1x KZN\n",
    "\n",
    "Somderfälle:\n",
    "KZN (Zürich Nord): Entstand 2012 durch Fusion Oerlikon und Birch > wie verarbeiten?\n",
    "Glattal (in Dübi) wurd zu Uster"
   ]
  },
  {
   "cell_type": "markdown",
   "metadata": {},
   "source": [
    "Bereinigungen, immer mit Copy (zur Sicherheit!)"
   ]
  },
  {
   "cell_type": "code",
   "execution_count": 36,
   "metadata": {},
   "outputs": [],
   "source": [
    "df_total = df_total.replace(\"KEN\", \"Enge\").copy()\n",
    "df_total = df_total.replace(\"KSHP\", \"Hohe Promenade\").copy()\n",
    "df_total = df_total.replace(\"im Lee\", \"Im Lee\").copy()\n",
    "df_total = df_total.replace(\"KZO\", \"Zürcher Oberland\").copy()\n",
    "df_total = df_total.replace([\"KBW\", \"Buelrain\"], \"Büelrain\").copy()\n",
    "df_total = df_total.replace(\"Kuesnacht\", \"Küsnacht\").copy()\n",
    "df_total = df_total.replace([\"KZU\", \"Zuercher Unterland\"], \"Zürcher Unterland\").copy()\n",
    "df_total = df_total.replace([\"MNG\", \"MNG Raemibuehl\"], \"Rämibühl MNG\").copy()\n",
    "df_total = df_total.replace([\"LG Raemibuehl\", \"Literaturgymnasium Raemibuehl\"], \"Rämibühl LG\").copy()\n",
    "df_total = df_total.replace([\"Realgym Raemibuehl\", \"Realgymnasium Raemibuehl\"], \"Rämibühl RG\").copy()\n",
    "df_total = df_total.replace([\"Nord\", \"KZN\"], \"Zürich Nord\").copy()\n",
    "df_total = df_total.replace(\"Gymnasium Zürich\", \"Katholisches Gymnasium Zürich\").copy()\n"
   ]
  },
  {
   "cell_type": "code",
   "execution_count": 37,
   "metadata": {},
   "outputs": [
    {
     "data": {
      "text/plain": [
       "Zürcher Oberland                 4\n",
       "Rämibühl RG                      4\n",
       "Stadelhofen                      4\n",
       "Im Lee                           4\n",
       "Rychenberg                       4\n",
       "Küsnacht                         4\n",
       "Enge                             4\n",
       "Limmattal                        4\n",
       "Liceo Artistico                  4\n",
       "Büelrain                         4\n",
       "Zürcher Unterland                4\n",
       "Rämibühl LG                      4\n",
       "KME                              4\n",
       "Hohe Promenade                   4\n",
       "Wiedikon                         4\n",
       "Rämibühl MNG                     4\n",
       "Freudenberg                      4\n",
       "Hottingen                        4\n",
       "Zürich Nord                      2\n",
       "Oerlikon                         2\n",
       "Glattal                          2\n",
       "Uster                            2\n",
       "Zürich Birch                     2\n",
       "Gymnasium Unterstrass            1\n",
       "Freies Gymnasium Zürich          1\n",
       "Katholisches Gymnasium Zürich    1\n",
       "Name: name, dtype: int64"
      ]
     },
     "execution_count": 37,
     "metadata": {},
     "output_type": "execute_result"
    }
   ],
   "source": [
    "df_total[\"name\"].value_counts()"
   ]
  },
  {
   "cell_type": "code",
   "execution_count": 47,
   "metadata": {},
   "outputs": [
    {
     "data": {
      "text/plain": [
       "<matplotlib.axes._subplots.AxesSubplot at 0x10ee7fe50>"
      ]
     },
     "execution_count": 47,
     "metadata": {},
     "output_type": "execute_result"
    },
    {
     "data": {
      "image/png": "[encoded data removed]",
      "text/plain": [
       "<Figure size 432x288 with 1 Axes>"
      ]
     },
     "metadata": {
      "needs_background": "light"
     },
     "output_type": "display_data"
    }
   ],
   "source": [
    "df_total.plot(kind='scatter', x='vorb_f', y='zus')"
   ]
  },
  {
   "cell_type": "markdown",
   "metadata": {},
   "source": [
    "Nicht alle Schulen, die bei fachlicher Vorbereitung gut abschneiden, haben auch die Zusammenarbeitsfähigkeiten gefördert."
   ]
  },
  {
   "cell_type": "code",
   "execution_count": 52,
   "metadata": {},
   "outputs": [
    {
     "data": {
      "text/plain": [
       "<matplotlib.axes._subplots.AxesSubplot at 0x10ead02d0>"
      ]
     },
     "execution_count": 52,
     "metadata": {},
     "output_type": "execute_result"
    },
    {
     "data": {
      "image/png": "[encoded data removed]",
      "text/plain": [
       "<Figure size 432x288 with 1 Axes>"
      ]
     },
     "metadata": {
      "needs_background": "light"
     },
     "output_type": "display_data"
    }
   ],
   "source": [
    "df_total.plot(kind='scatter', x='vorb_p', y='zufr')"
   ]
  },
  {
   "cell_type": "markdown",
   "metadata": {},
   "source": [
    "Was ist Schülern wichtig? Die deutlichste Korrelation besteht zwischen Zufriedenheit und guter Persönlichkeitsbildung!"
   ]
  },
  {
   "cell_type": "code",
   "execution_count": 67,
   "metadata": {},
   "outputs": [
    {
     "data": {
      "text/plain": [
       "<matplotlib.axes._subplots.AxesSubplot at 0x1118e8cd0>"
      ]
     },
     "execution_count": 67,
     "metadata": {},
     "output_type": "execute_result"
    },
    {
     "data": {
      "image/png": "[encoded data removed]",
      "text/plain": [
       "<Figure size 432x288 with 1 Axes>"
      ]
     },
     "metadata": {
      "needs_background": "light"
     },
     "output_type": "display_data"
    }
   ],
   "source": [
    "df_total[df_total[\"name\"] == \"Im Lee\"].plot(x=\"jahr\")"
   ]
  },
  {
   "cell_type": "code",
   "execution_count": 72,
   "metadata": {},
   "outputs": [
    {
     "data": {
      "text/plain": [
       "<matplotlib.axes._subplots.AxesSubplot at 0x1119aa8d0>"
      ]
     },
     "execution_count": 72,
     "metadata": {},
     "output_type": "execute_result"
    },
    {
     "data": {
      "image/png": "[encoded data removed]",
      "text/plain": [
       "<Figure size 432x288 with 1 Axes>"
      ]
     },
     "metadata": {
      "needs_background": "light"
     },
     "output_type": "display_data"
    }
   ],
   "source": [
    "df_total[df_total[\"name\"] == \"Im Lee\"][\"zus\"].plot(x=\"jahr\")"
   ]
  },
  {
   "cell_type": "markdown",
   "metadata": {},
   "source": [
    "Da ist über die Jahre was passiert im Punkt Zusammenarbeit."
   ]
  },
  {
   "cell_type": "markdown",
   "metadata": {},
   "source": [
    "Und so findet man die Spitzenreiter für bestimmte Werte über alle Jahre:"
   ]
  },
  {
   "cell_type": "code",
   "execution_count": 80,
   "metadata": {},
   "outputs": [
    {
     "data": {
      "text/plain": [
       "name\n",
       "Küsnacht                         5.0\n",
       "Zürcher Unterland                5.0\n",
       "Liceo Artistico                  5.0\n",
       "Gymnasium Unterstrass            5.0\n",
       "Hohe Promenade                   5.0\n",
       "Rämibühl RG                      4.9\n",
       "Limmattal                        4.9\n",
       "KME                              4.9\n",
       "Zürcher Oberland                 4.9\n",
       "Büelrain                         4.9\n",
       "Rämibühl MNG                     4.9\n",
       "Stadelhofen                      4.8\n",
       "Freudenberg                      4.8\n",
       "Rychenberg                       4.8\n",
       "Im Lee                           4.8\n",
       "Glattal                          4.8\n",
       "Oerlikon                         4.8\n",
       "Zürich Nord                      4.8\n",
       "Rämibühl LG                      4.7\n",
       "Enge                             4.7\n",
       "Wiedikon                         4.6\n",
       "Katholisches Gymnasium Zürich    4.6\n",
       "Freies Gymnasium Zürich          4.6\n",
       "Hottingen                        4.6\n",
       "Zürich Birch                     4.5\n",
       "Uster                            4.4\n",
       "Name: zufr, dtype: float64"
      ]
     },
     "execution_count": 80,
     "metadata": {},
     "output_type": "execute_result"
    }
   ],
   "source": [
    "df_total.groupby(\"name\").mean()[\"zufr\"].sort_values(ascending=False).round(1)"
   ]
  },
  {
   "cell_type": "markdown",
   "metadata": {},
   "source": [
    "Hier wird man am besten fachlich vorbereitet:"
   ]
  },
  {
   "cell_type": "code",
   "execution_count": 81,
   "metadata": {},
   "outputs": [
    {
     "data": {
      "text/plain": [
       "name\n",
       "Rämibühl MNG                     4.8\n",
       "Limmattal                        4.6\n",
       "Hohe Promenade                   4.5\n",
       "Zürcher Unterland                4.4\n",
       "Im Lee                           4.3\n",
       "Freudenberg                      4.3\n",
       "Katholisches Gymnasium Zürich    4.3\n",
       "Zürcher Oberland                 4.3\n",
       "Rychenberg                       4.3\n",
       "Uster                            4.2\n",
       "Büelrain                         4.2\n",
       "KME                              4.2\n",
       "Zürich Birch                     4.2\n",
       "Liceo Artistico                  4.1\n",
       "Zürich Nord                      4.1\n",
       "Glattal                          4.1\n",
       "Rämibühl RG                      4.1\n",
       "Enge                             4.0\n",
       "Oerlikon                         4.0\n",
       "Küsnacht                         4.0\n",
       "Wiedikon                         3.9\n",
       "Rämibühl LG                      3.9\n",
       "Hottingen                        3.8\n",
       "Stadelhofen                      3.8\n",
       "Gymnasium Unterstrass            3.6\n",
       "Freies Gymnasium Zürich          3.5\n",
       "Name: vorb_f, dtype: float64"
      ]
     },
     "execution_count": 81,
     "metadata": {},
     "output_type": "execute_result"
    }
   ],
   "source": [
    "df_total.groupby(\"name\").mean()[\"vorb_f\"].sort_values(ascending=False).round(1)"
   ]
  },
  {
   "cell_type": "code",
   "execution_count": null,
   "metadata": {},
   "outputs": [],
   "source": [
    "Hier sind die Persönlichkeitsbildungsmeister:"
   ]
  },
  {
   "cell_type": "code",
   "execution_count": 82,
   "metadata": {},
   "outputs": [
    {
     "data": {
      "text/plain": [
       "name\n",
       "Liceo Artistico                  4.9\n",
       "Gymnasium Unterstrass            4.8\n",
       "Küsnacht                         4.8\n",
       "Hohe Promenade                   4.7\n",
       "Zürich Birch                     4.6\n",
       "KME                              4.5\n",
       "Stadelhofen                      4.4\n",
       "Rämibühl RG                      4.4\n",
       "Büelrain                         4.3\n",
       "Zürcher Oberland                 4.3\n",
       "Rämibühl LG                      4.3\n",
       "Im Lee                           4.3\n",
       "Zürcher Unterland                4.3\n",
       "Freudenberg                      4.3\n",
       "Rychenberg                       4.3\n",
       "Rämibühl MNG                     4.3\n",
       "Limmattal                        4.2\n",
       "Enge                             4.2\n",
       "Hottingen                        4.2\n",
       "Zürich Nord                      4.2\n",
       "Glattal                          4.2\n",
       "Uster                            4.2\n",
       "Wiedikon                         4.1\n",
       "Oerlikon                         4.0\n",
       "Katholisches Gymnasium Zürich    3.9\n",
       "Freies Gymnasium Zürich          3.9\n",
       "Name: vorb_p, dtype: float64"
      ]
     },
     "execution_count": 82,
     "metadata": {},
     "output_type": "execute_result"
    }
   ],
   "source": [
    "df_total.groupby(\"name\").mean()[\"vorb_p\"].sort_values(ascending=False).round(1)"
   ]
  },
  {
   "cell_type": "markdown",
   "metadata": {},
   "source": [
    "Und hier die Meister beider Kategorien:\n"
   ]
  },
  {
   "cell_type": "code",
   "execution_count": 83,
   "metadata": {},
   "outputs": [
    {
     "data": {
      "text/plain": [
       "name\n",
       "Hohe Promenade                   4.6\n",
       "Liceo Artistico                  4.5\n",
       "Rämibühl MNG                     4.5\n",
       "Limmattal                        4.4\n",
       "Zürich Birch                     4.4\n",
       "Küsnacht                         4.4\n",
       "Zürcher Unterland                4.4\n",
       "KME                              4.3\n",
       "Im Lee                           4.3\n",
       "Zürcher Oberland                 4.3\n",
       "Freudenberg                      4.3\n",
       "Büelrain                         4.3\n",
       "Rychenberg                       4.3\n",
       "Rämibühl RG                      4.2\n",
       "Gymnasium Unterstrass            4.2\n",
       "Uster                            4.2\n",
       "Zürich Nord                      4.1\n",
       "Enge                             4.1\n",
       "Glattal                          4.1\n",
       "Stadelhofen                      4.1\n",
       "Rämibühl LG                      4.1\n",
       "Katholisches Gymnasium Zürich    4.1\n",
       "Oerlikon                         4.0\n",
       "Wiedikon                         4.0\n",
       "Hottingen                        4.0\n",
       "Freies Gymnasium Zürich          3.7\n",
       "Name: F&P, dtype: float64"
      ]
     },
     "execution_count": 83,
     "metadata": {},
     "output_type": "execute_result"
    }
   ],
   "source": [
    "df_total[\"F&P\"] = (df_total[\"vorb_f\"]+df_total[\"vorb_p\"])/2\n",
    "df_total.groupby(\"name\").mean()[\"F&P\"].sort_values(ascending=False).round(1)"
   ]
  },
  {
   "cell_type": "code",
   "execution_count": null,
   "metadata": {},
   "outputs": [],
   "source": []
  }
 ],
 "metadata": {
  "kernelspec": {
   "display_name": "Python 3",
   "language": "python",
   "name": "python3"
  },
  "language_info": {
   "codemirror_mode": {
    "name": "ipython",
    "version": 3
   },
   "file_extension": ".py",
   "mimetype": "text/x-python",
   "name": "python",
   "nbconvert_exporter": "python",
   "pygments_lexer": "ipython3",
   "version": "3.7.4"
  }
 },
 "nbformat": 4,
 "nbformat_minor": 2
}
